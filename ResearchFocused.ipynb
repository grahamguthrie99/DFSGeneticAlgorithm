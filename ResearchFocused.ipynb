{
 "cells": [
  {
   "cell_type": "code",
   "execution_count": 162,
   "metadata": {},
   "outputs": [],
   "source": [
    "import pandas as pd\n",
    "import numpy as np\n",
    "import matplotlib.pyplot as plt\n",
    "from scipy.stats import norm\n",
    "from math import floor\n",
    "\n",
    "drop_attribs = [\n",
    "    \"Player Name\",             \n",
    "    \"injury_status\",           \n",
    "    \"team\",                    \n",
    "    \"opp\",                     \n",
    "    \"spread\",                \n",
    "    \"over_under\",              \n",
    "    \"implied_team_score\",      \n",
    "    \"L5_dvp_rank\",             \n",
    "    \"L5_ppg_floor\",            \n",
    "    \"L5_ppg_avg\",              \n",
    "    \"L5_ppg_max\",              \n",
    "    \"Pos\",                    \n",
    "    \"Salary\",                  \n",
    "    \"Rest\",                    \n",
    "    \"Opp Pace\",                \n",
    "    \"Opp DEff\",               \n",
    "    \"Opp DvP\",                 \n",
    "    \"L2 FGA\",                  \n",
    "    \"L5 FGA\",               \n",
    "    \"S FGA\", \n",
    "    \"L2 Min\",                 \n",
    "    \"L5 Min\",                  \n",
    "    \"S Min\",                   \n",
    "    \"L5 FP\",                   \n",
    "    \"S FP\",                    \n",
    "    \"Floor FP\",                \n",
    "    \"Ceil FP\",                 \n",
    "    \"Actual Min\",             \n",
    "    \"Actual FP\",               \n",
    "    \"Actual Val\",            \n",
    "    \"FantasyFuelPPGProj\",      \n",
    "    \"FantasyFuelValueProj\", \n",
    "    \"DFN_PPGProj\",      \n",
    "    \"DFN_MinProj\",          \n",
    "    \"DFN_ValueProj\",          \n",
    "]"
   ]
  },
  {
   "cell_type": "code",
   "execution_count": 163,
   "metadata": {},
   "outputs": [],
   "source": [
    "def openBestLineupsForDate():\n",
    "    file_name = 'BestLineups/2020-02-01'\n",
    "    file = pd.read_csv(file_name,index_col=[0,1], skipinitialspace=True)\n",
    "    return file\n",
    "def openCreatedLineupsForDate():\n",
    "    file_name = 'BestCreatedLineupsFocused/2020-02-01'\n",
    "    file = pd.read_csv(file_name,index_col=[0,1], skipinitialspace=True)\n",
    "    return file"
   ]
  },
  {
   "cell_type": "code",
   "execution_count": 164,
   "metadata": {},
   "outputs": [],
   "source": [
    "def dropLowScoringLineups(file):\n",
    "    drop_level = file.groupby(['Lineup Num'])['Actual FP'].sum().mean() - file.groupby(['Lineup Num'])['Actual FP'].sum().std()\n",
    "    group = file.groupby(['Lineup Num'])\n",
    "    return group.filter(lambda x: x['Actual FP'].sum() > drop_level)\n",
    "\n",
    "def plotLineupActualFP(file):\n",
    "    file.groupby(['Lineup Num'])['Actual FP'].sum().plot(style='.')\n",
    "    print(file.groupby(['Lineup Num'])['Actual FP'].sum().mean())\n",
    "    print(file.groupby(['Lineup Num'])['Actual FP'].sum().max())\n",
    "    \n",
    "def plotLineupProjectedFP(file, projectionType):\n",
    "    file.groupby(['Lineup Num'])[projectionType].sum().plot(style='.')\n",
    "    \n"
   ]
  },
  {
   "cell_type": "code",
   "execution_count": 165,
   "metadata": {},
   "outputs": [],
   "source": [
    "actual = openBestLineupsForDate()\n",
    "created = openCreatedLineupsForDate()"
   ]
  },
  {
   "cell_type": "code",
   "execution_count": 166,
   "metadata": {},
   "outputs": [
    {
     "name": "stdout",
     "output_type": "stream",
     "text": [
      "350.40000000000003\n",
      "379.40000000000003\n"
     ]
    },
    {
     "data": {
      "image/png": "[encoded data removed]",
      "text/plain": [
       "<Figure size 432x288 with 1 Axes>"
      ]
     },
     "metadata": {
      "needs_background": "light"
     },
     "output_type": "display_data"
    }
   ],
   "source": [
    "actual = dropLowScoringLineups(actual)\n",
    "plotLineupActualFP(actual)"
   ]
  },
  {
   "cell_type": "code",
   "execution_count": 167,
   "metadata": {},
   "outputs": [
    {
     "name": "stdout",
     "output_type": "stream",
     "text": [
      "273.4666666666667\n",
      "307.1\n"
     ]
    },
    {
     "data": {
      "image/png": "[encoded data removed]",
      "text/plain": [
       "<Figure size 432x288 with 1 Axes>"
      ]
     },
     "metadata": {
      "needs_background": "light"
     },
     "output_type": "display_data"
    }
   ],
   "source": [
    "plotLineupActualFP(created.loc[:5])"
   ]
  },
  {
   "cell_type": "code",
   "execution_count": 159,
   "metadata": {},
   "outputs": [
    {
     "data": {
      "image/png": "[encoded data removed]",
      "text/plain": [
       "<Figure size 432x288 with 1 Axes>"
      ]
     },
     "metadata": {
      "needs_background": "light"
     },
     "output_type": "display_data"
    }
   ],
   "source": [
    "plotLineupProjectedFP(actual, \"FantasyFuelPPGProj\")"
   ]
  },
  {
   "cell_type": "code",
   "execution_count": 160,
   "metadata": {},
   "outputs": [
    {
     "data": {
      "image/png": "[encoded data removed]",
      "text/plain": [
       "<Figure size 432x288 with 1 Axes>"
      ]
     },
     "metadata": {
      "needs_background": "light"
     },
     "output_type": "display_data"
    }
   ],
   "source": [
    "plotLineupProjectedFP(created, 'Avg Proj')"
   ]
  },
  {
   "cell_type": "code",
   "execution_count": 161,
   "metadata": {},
   "outputs": [
    {
     "data": {
      "image/png": "[encoded data removed]",
      "text/plain": [
       "<Figure size 432x288 with 1 Axes>"
      ]
     },
     "metadata": {
      "needs_background": "light"
     },
     "output_type": "display_data"
    }
   ],
   "source": [
    "plotLineupProjectedFP(created, 'Selected')"
   ]
  },
  {
   "cell_type": "code",
   "execution_count": 138,
   "metadata": {},
   "outputs": [
    {
     "data": {
      "image/png": "[encoded data removed]",
      "text/plain": [
       "<Figure size 432x288 with 1 Axes>"
      ]
     },
     "metadata": {
      "needs_background": "light"
     },
     "output_type": "display_data"
    }
   ],
   "source": [
    "plotLineupProjectedFP(created, 'Avg Value Proj')"
   ]
  },
  {
   "cell_type": "code",
   "execution_count": 139,
   "metadata": {},
   "outputs": [
    {
     "data": {
      "text/plain": [
       "378.4"
      ]
     },
     "execution_count": 139,
     "metadata": {},
     "output_type": "execute_result"
    }
   ],
   "source": [
    "actual.loc[0]['Actual FP'].sum()"
   ]
  },
  {
   "cell_type": "code",
   "execution_count": 140,
   "metadata": {},
   "outputs": [
    {
     "data": {
      "text/plain": [
       "294.8"
      ]
     },
     "execution_count": 140,
     "metadata": {},
     "output_type": "execute_result"
    }
   ],
   "source": [
    "created.loc[0]['Actual FP'].sum()"
   ]
  },
  {
   "cell_type": "code",
   "execution_count": 141,
   "metadata": {},
   "outputs": [
    {
     "name": "stdout",
     "output_type": "stream",
     "text": [
      "{'Zion Williamson', 'Jevon Carter', 'Deandre Ayton', 'Josh Hart', 'Zach LaVine', 'Serge Ibaka', 'Cheick Diallo', 'Patrick McCaw', 'Shaquille Harrison', 'Thaddeus Young', 'Wesley Matthews', 'Luke Kornet', 'Giannis Antetokounmpo', 'Ersan Ilyasova', 'Chris Boucher', 'Devin Booker', 'Kelly Oubre Jr.', 'James Harden', \"E'Twaun Moore\", 'Danuel House Jr.', 'Terence Davis', 'Lonzo Ball', 'Eric Gordon', 'Ben McLemore', 'Pat Connaughton', 'Brook Lopez', 'Mikal Bridges', 'Coby White', 'Brandon Ingram', 'Jrue Holiday'}\n"
     ]
    }
   ],
   "source": [
    "a = set(actual['Player Name'].value_counts().keys().tolist())\n",
    "b = set(created['Player Name'].value_counts().keys().tolist())\n",
    "print(a.intersection(b))"
   ]
  },
  {
   "cell_type": "code",
   "execution_count": 142,
   "metadata": {},
   "outputs": [
    {
     "data": {
      "text/plain": [
       "{'Austin Rivers',\n",
       " 'Chandler Hutchison',\n",
       " 'Denzel Valentine',\n",
       " 'Derrick Favors',\n",
       " 'Donte DiVincenzo',\n",
       " 'Eric Bledsoe',\n",
       " 'Fred VanVleet',\n",
       " 'JJ Redick',\n",
       " 'Jaxson Hayes',\n",
       " 'Khris Middleton',\n",
       " 'Kyle Korver',\n",
       " 'Kyle Lowry',\n",
       " 'Matt Thomas',\n",
       " 'OG Anunoby',\n",
       " 'P.J. Tucker',\n",
       " 'Pascal Siakam',\n",
       " 'Robin Lopez',\n",
       " 'Russell Westbrook',\n",
       " 'Ryan Arcidiacono',\n",
       " 'Sterling Brown',\n",
       " 'Thabo Sefolosha',\n",
       " 'Tyler Johnson'}"
      ]
     },
     "execution_count": 142,
     "metadata": {},
     "output_type": "execute_result"
    }
   ],
   "source": [
    "a.symmetric_difference(b)"
   ]
  },
  {
   "cell_type": "code",
   "execution_count": 143,
   "metadata": {},
   "outputs": [
    {
     "data": {
      "text/plain": [
       "{'Chandler Hutchison',\n",
       " 'Denzel Valentine',\n",
       " 'Fred VanVleet',\n",
       " 'Khris Middleton',\n",
       " 'Kyle Lowry',\n",
       " 'OG Anunoby',\n",
       " 'Ryan Arcidiacono',\n",
       " 'Thabo Sefolosha',\n",
       " 'Tyler Johnson'}"
      ]
     },
     "execution_count": 143,
     "metadata": {},
     "output_type": "execute_result"
    }
   ],
   "source": [
    "a.difference(b)"
   ]
  },
  {
   "cell_type": "code",
   "execution_count": 144,
   "metadata": {},
   "outputs": [
    {
     "data": {
      "text/plain": [
       "Terence Davis            28\n",
       "James Harden             26\n",
       "Giannis Antetokounmpo    26\n",
       "Brook Lopez              23\n",
       "Josh Hart                19\n",
       "Brandon Ingram           12\n",
       "Danuel House Jr.         12\n",
       "Lonzo Ball               11\n",
       "Ben McLemore             10\n",
       "Chandler Hutchison        9\n",
       "Chris Boucher             6\n",
       "Zion Williamson           4\n",
       "Kelly Oubre Jr.           4\n",
       "Deandre Ayton             4\n",
       "Thaddeus Young            3\n",
       "Pat Connaughton           3\n",
       "Serge Ibaka               3\n",
       "Shaquille Harrison        2\n",
       "Luke Kornet               2\n",
       "Ryan Arcidiacono          2\n",
       "E'Twaun Moore             2\n",
       "Devin Booker              2\n",
       "Zach LaVine               2\n",
       "Cheick Diallo             2\n",
       "Kyle Lowry                1\n",
       "Jevon Carter              1\n",
       "Wesley Matthews           1\n",
       "Fred VanVleet             1\n",
       "Jrue Holiday              1\n",
       "Denzel Valentine          1\n",
       "Patrick McCaw             1\n",
       "Khris Middleton           1\n",
       "Tyler Johnson             1\n",
       "Eric Gordon               1\n",
       "Coby White                1\n",
       "Mikal Bridges             1\n",
       "Ersan Ilyasova            1\n",
       "OG Anunoby                1\n",
       "Thabo Sefolosha           1\n",
       "Name: Player Name, dtype: int64"
      ]
     },
     "execution_count": 144,
     "metadata": {},
     "output_type": "execute_result"
    }
   ],
   "source": [
    "actual['Player Name'].value_counts()"
   ]
  },
  {
   "cell_type": "code",
   "execution_count": 145,
   "metadata": {},
   "outputs": [
    {
     "data": {
      "text/plain": [
       "James Harden             15\n",
       "Chris Boucher            14\n",
       "Mikal Bridges            14\n",
       "Kelly Oubre Jr.          14\n",
       "Brandon Ingram           14\n",
       "Terence Davis             8\n",
       "Zion Williamson           8\n",
       "Donte DiVincenzo          7\n",
       "JJ Redick                 5\n",
       "Ben McLemore              5\n",
       "Russell Westbrook         3\n",
       "Cheick Diallo             3\n",
       "Coby White                2\n",
       "Pascal Siakam             2\n",
       "Eric Gordon               2\n",
       "Luke Kornet               1\n",
       "Eric Bledsoe              1\n",
       "Patrick McCaw             1\n",
       "Shaquille Harrison        1\n",
       "Danuel House Jr.          1\n",
       "E'Twaun Moore             1\n",
       "Kyle Korver               1\n",
       "Jevon Carter              1\n",
       "P.J. Tucker               1\n",
       "Giannis Antetokounmpo     1\n",
       "Pat Connaughton           1\n",
       "Sterling Brown            1\n",
       "Name: Player Name, dtype: int64"
      ]
     },
     "execution_count": 145,
     "metadata": {},
     "output_type": "execute_result"
    }
   ],
   "source": [
    "created.loc[:15]['Player Name'].value_counts()"
   ]
  },
  {
   "cell_type": "code",
   "execution_count": 150,
   "metadata": {},
   "outputs": [
    {
     "data": {
      "text/html": [
       "<div>\n",
       "<style scoped>\n",
       "    .dataframe tbody tr th:only-of-type {\n",
       "        vertical-align: middle;\n",
       "    }\n",
       "\n",
       "    .dataframe tbody tr th {\n",
       "        vertical-align: top;\n",
       "    }\n",
       "\n",
       "    .dataframe thead th {\n",
       "        text-align: right;\n",
       "    }\n",
       "</style>\n",
       "<table border=\"1\" class=\"dataframe\">\n",
       "  <thead>\n",
       "    <tr style=\"text-align: right;\">\n",
       "      <th></th>\n",
       "      <th>Player Name</th>\n",
       "      <th>position</th>\n",
       "      <th>injury_status</th>\n",
       "      <th>game_date</th>\n",
       "      <th>team</th>\n",
       "      <th>opp</th>\n",
       "      <th>spread</th>\n",
       "      <th>over_under</th>\n",
       "      <th>implied_team_score</th>\n",
       "      <th>salary</th>\n",
       "      <th>...</th>\n",
       "      <th>Proj Min Enhanced</th>\n",
       "      <th>Proj FPP Per Min</th>\n",
       "      <th>Proj Pts Scored</th>\n",
       "      <th>Avg Proj Stan</th>\n",
       "      <th>DFN_MinProj Stan</th>\n",
       "      <th>Proj Min Enhanced Stan</th>\n",
       "      <th>Proj FPP Per Min Stan</th>\n",
       "      <th>Proj Pts Scored Stan</th>\n",
       "      <th>Selected</th>\n",
       "      <th>Selected Stan</th>\n",
       "    </tr>\n",
       "  </thead>\n",
       "  <tbody>\n",
       "    <tr>\n",
       "      <th>0</th>\n",
       "      <td>Donte DiVincenzo</td>\n",
       "      <td>PG</td>\n",
       "      <td>NaN</td>\n",
       "      <td>2020-02-02</td>\n",
       "      <td>MIL</td>\n",
       "      <td>PHO</td>\n",
       "      <td>NaN</td>\n",
       "      <td>NaN</td>\n",
       "      <td>NaN</td>\n",
       "      <td>4000</td>\n",
       "      <td>...</td>\n",
       "      <td>23.989726</td>\n",
       "      <td>0.934000</td>\n",
       "      <td>NaN</td>\n",
       "      <td>-0.076121</td>\n",
       "      <td>0.150104</td>\n",
       "      <td>-0.043399</td>\n",
       "      <td>0.191754</td>\n",
       "      <td>NaN</td>\n",
       "      <td>30.0</td>\n",
       "      <td>0.851203</td>\n",
       "    </tr>\n",
       "    <tr>\n",
       "      <th>1</th>\n",
       "      <td>Ben McLemore</td>\n",
       "      <td>SG</td>\n",
       "      <td>NaN</td>\n",
       "      <td>2020-02-02</td>\n",
       "      <td>HOU</td>\n",
       "      <td>NO</td>\n",
       "      <td>-5.5</td>\n",
       "      <td>245.0</td>\n",
       "      <td>125.3</td>\n",
       "      <td>3200</td>\n",
       "      <td>...</td>\n",
       "      <td>16.300000</td>\n",
       "      <td>0.776190</td>\n",
       "      <td>20.048</td>\n",
       "      <td>-0.529875</td>\n",
       "      <td>-0.175121</td>\n",
       "      <td>-0.507665</td>\n",
       "      <td>-0.160427</td>\n",
       "      <td>-0.451738</td>\n",
       "      <td>24.0</td>\n",
       "      <td>0.425601</td>\n",
       "    </tr>\n",
       "    <tr>\n",
       "      <th>2</th>\n",
       "      <td>Mikal Bridges</td>\n",
       "      <td>SG</td>\n",
       "      <td>NaN</td>\n",
       "      <td>2020-02-02</td>\n",
       "      <td>PHO</td>\n",
       "      <td>MIL</td>\n",
       "      <td>NaN</td>\n",
       "      <td>NaN</td>\n",
       "      <td>NaN</td>\n",
       "      <td>4000</td>\n",
       "      <td>...</td>\n",
       "      <td>28.604670</td>\n",
       "      <td>0.728986</td>\n",
       "      <td>NaN</td>\n",
       "      <td>0.039731</td>\n",
       "      <td>0.922513</td>\n",
       "      <td>0.235227</td>\n",
       "      <td>-0.265774</td>\n",
       "      <td>NaN</td>\n",
       "      <td>51.0</td>\n",
       "      <td>2.340808</td>\n",
       "    </tr>\n",
       "    <tr>\n",
       "      <th>3</th>\n",
       "      <td>Brandon Ingram</td>\n",
       "      <td>SF</td>\n",
       "      <td>NaN</td>\n",
       "      <td>2020-02-02</td>\n",
       "      <td>NO</td>\n",
       "      <td>HOU</td>\n",
       "      <td>5.5</td>\n",
       "      <td>245.0</td>\n",
       "      <td>119.8</td>\n",
       "      <td>7100</td>\n",
       "      <td>...</td>\n",
       "      <td>44.055319</td>\n",
       "      <td>1.194118</td>\n",
       "      <td>34.742</td>\n",
       "      <td>1.034130</td>\n",
       "      <td>0.881859</td>\n",
       "      <td>1.168057</td>\n",
       "      <td>0.772256</td>\n",
       "      <td>1.288863</td>\n",
       "      <td>47.0</td>\n",
       "      <td>2.057073</td>\n",
       "    </tr>\n",
       "    <tr>\n",
       "      <th>4</th>\n",
       "      <td>James Harden</td>\n",
       "      <td>PG</td>\n",
       "      <td>NaN</td>\n",
       "      <td>2020-02-02</td>\n",
       "      <td>HOU</td>\n",
       "      <td>NO</td>\n",
       "      <td>-5.5</td>\n",
       "      <td>245.0</td>\n",
       "      <td>125.3</td>\n",
       "      <td>11200</td>\n",
       "      <td>...</td>\n",
       "      <td>64.171875</td>\n",
       "      <td>1.750000</td>\n",
       "      <td>46.361</td>\n",
       "      <td>2.588481</td>\n",
       "      <td>1.125778</td>\n",
       "      <td>2.382591</td>\n",
       "      <td>2.012812</td>\n",
       "      <td>2.665210</td>\n",
       "      <td>67.0</td>\n",
       "      <td>3.475745</td>\n",
       "    </tr>\n",
       "    <tr>\n",
       "      <th>5</th>\n",
       "      <td>Kelly Oubre Jr.</td>\n",
       "      <td>SF</td>\n",
       "      <td>NaN</td>\n",
       "      <td>2020-02-02</td>\n",
       "      <td>PHO</td>\n",
       "      <td>MIL</td>\n",
       "      <td>NaN</td>\n",
       "      <td>NaN</td>\n",
       "      <td>NaN</td>\n",
       "      <td>6400</td>\n",
       "      <td>...</td>\n",
       "      <td>37.422857</td>\n",
       "      <td>0.956757</td>\n",
       "      <td>NaN</td>\n",
       "      <td>0.699445</td>\n",
       "      <td>1.125778</td>\n",
       "      <td>0.767624</td>\n",
       "      <td>0.242540</td>\n",
       "      <td>NaN</td>\n",
       "      <td>39.0</td>\n",
       "      <td>1.489605</td>\n",
       "    </tr>\n",
       "    <tr>\n",
       "      <th>6</th>\n",
       "      <td>Zion Williamson</td>\n",
       "      <td>PF</td>\n",
       "      <td>NaN</td>\n",
       "      <td>2020-02-02</td>\n",
       "      <td>NO</td>\n",
       "      <td>HOU</td>\n",
       "      <td>5.5</td>\n",
       "      <td>245.0</td>\n",
       "      <td>119.8</td>\n",
       "      <td>7700</td>\n",
       "      <td>...</td>\n",
       "      <td>44.193987</td>\n",
       "      <td>1.337288</td>\n",
       "      <td>NaN</td>\n",
       "      <td>0.960113</td>\n",
       "      <td>0.515982</td>\n",
       "      <td>1.176430</td>\n",
       "      <td>1.091767</td>\n",
       "      <td>NaN</td>\n",
       "      <td>37.0</td>\n",
       "      <td>1.347738</td>\n",
       "    </tr>\n",
       "    <tr>\n",
       "      <th>7</th>\n",
       "      <td>Chris Boucher</td>\n",
       "      <td>PF</td>\n",
       "      <td>NaN</td>\n",
       "      <td>2020-02-02</td>\n",
       "      <td>TOR</td>\n",
       "      <td>CHI</td>\n",
       "      <td>-10.5</td>\n",
       "      <td>217.0</td>\n",
       "      <td>113.8</td>\n",
       "      <td>3300</td>\n",
       "      <td>...</td>\n",
       "      <td>22.740000</td>\n",
       "      <td>1.184375</td>\n",
       "      <td>21.622</td>\n",
       "      <td>-0.359315</td>\n",
       "      <td>-0.581652</td>\n",
       "      <td>-0.118851</td>\n",
       "      <td>0.750513</td>\n",
       "      <td>-0.265288</td>\n",
       "      <td>41.0</td>\n",
       "      <td>1.631472</td>\n",
       "    </tr>\n",
       "  </tbody>\n",
       "</table>\n",
       "<p>8 rows × 61 columns</p>\n",
       "</div>"
      ],
      "text/plain": [
       "        Player Name position  injury_status   game_date team  opp  spread  \\\n",
       "0  Donte DiVincenzo       PG            NaN  2020-02-02  MIL  PHO     NaN   \n",
       "1      Ben McLemore       SG            NaN  2020-02-02  HOU   NO    -5.5   \n",
       "2     Mikal Bridges       SG            NaN  2020-02-02  PHO  MIL     NaN   \n",
       "3    Brandon Ingram       SF            NaN  2020-02-02   NO  HOU     5.5   \n",
       "4      James Harden       PG            NaN  2020-02-02  HOU   NO    -5.5   \n",
       "5   Kelly Oubre Jr.       SF            NaN  2020-02-02  PHO  MIL     NaN   \n",
       "6   Zion Williamson       PF            NaN  2020-02-02   NO  HOU     5.5   \n",
       "7     Chris Boucher       PF            NaN  2020-02-02  TOR  CHI   -10.5   \n",
       "\n",
       "   over_under  implied_team_score  salary  ...  Proj Min Enhanced  \\\n",
       "0         NaN                 NaN    4000  ...          23.989726   \n",
       "1       245.0               125.3    3200  ...          16.300000   \n",
       "2         NaN                 NaN    4000  ...          28.604670   \n",
       "3       245.0               119.8    7100  ...          44.055319   \n",
       "4       245.0               125.3   11200  ...          64.171875   \n",
       "5         NaN                 NaN    6400  ...          37.422857   \n",
       "6       245.0               119.8    7700  ...          44.193987   \n",
       "7       217.0               113.8    3300  ...          22.740000   \n",
       "\n",
       "   Proj FPP Per Min  Proj Pts Scored  Avg Proj Stan  DFN_MinProj Stan  \\\n",
       "0          0.934000              NaN      -0.076121          0.150104   \n",
       "1          0.776190           20.048      -0.529875         -0.175121   \n",
       "2          0.728986              NaN       0.039731          0.922513   \n",
       "3          1.194118           34.742       1.034130          0.881859   \n",
       "4          1.750000           46.361       2.588481          1.125778   \n",
       "5          0.956757              NaN       0.699445          1.125778   \n",
       "6          1.337288              NaN       0.960113          0.515982   \n",
       "7          1.184375           21.622      -0.359315         -0.581652   \n",
       "\n",
       "   Proj Min Enhanced Stan Proj FPP Per Min Stan  Proj Pts Scored Stan  \\\n",
       "0               -0.043399              0.191754                   NaN   \n",
       "1               -0.507665             -0.160427             -0.451738   \n",
       "2                0.235227             -0.265774                   NaN   \n",
       "3                1.168057              0.772256              1.288863   \n",
       "4                2.382591              2.012812              2.665210   \n",
       "5                0.767624              0.242540                   NaN   \n",
       "6                1.176430              1.091767                   NaN   \n",
       "7               -0.118851              0.750513             -0.265288   \n",
       "\n",
       "   Selected  Selected Stan  \n",
       "0      30.0       0.851203  \n",
       "1      24.0       0.425601  \n",
       "2      51.0       2.340808  \n",
       "3      47.0       2.057073  \n",
       "4      67.0       3.475745  \n",
       "5      39.0       1.489605  \n",
       "6      37.0       1.347738  \n",
       "7      41.0       1.631472  \n",
       "\n",
       "[8 rows x 61 columns]"
      ]
     },
     "execution_count": 150,
     "metadata": {},
     "output_type": "execute_result"
    }
   ],
   "source": [
    "created.loc[0]"
   ]
  },
  {
   "cell_type": "code",
   "execution_count": 102,
   "metadata": {},
   "outputs": [
    {
     "ename": "SyntaxError",
     "evalue": "invalid syntax (<ipython-input-102-f777b87b0aa6>, line 4)",
     "output_type": "error",
     "traceback": [
      "\u001b[0;36m  File \u001b[0;32m\"<ipython-input-102-f777b87b0aa6>\"\u001b[0;36m, line \u001b[0;32m4\u001b[0m\n\u001b[0;31m    245 -> 244\u001b[0m\n\u001b[0m         ^\u001b[0m\n\u001b[0;31mSyntaxError\u001b[0m\u001b[0;31m:\u001b[0m invalid syntax\n"
     ]
    }
   ],
   "source": [
    "344.3\n",
    "373.2\n",
    "\n",
    "245 -> 244\n",
    "316.7 -> 333\n",
    "\n",
    "\n",
    "360\n",
    "386\n",
    "\n",
    "277 - 291\n",
    "364 - 367\n"
   ]
  },
  {
   "cell_type": "code",
   "execution_count": null,
   "metadata": {},
   "outputs": [],
   "source": []
  },
  {
   "cell_type": "code",
   "execution_count": null,
   "metadata": {},
   "outputs": [],
   "source": []
  }
 ],
 "metadata": {
  "kernelspec": {
   "display_name": "Python 3",
   "language": "python",
   "name": "python3"
  },
  "language_info": {
   "codemirror_mode": {
    "name": "ipython",
    "version": 3
   },
   "file_extension": ".py",
   "mimetype": "text/x-python",
   "name": "python",
   "nbconvert_exporter": "python",
   "pygments_lexer": "ipython3",
   "version": "3.7.1"
  }
 },
 "nbformat": 4,
 "nbformat_minor": 4
}
