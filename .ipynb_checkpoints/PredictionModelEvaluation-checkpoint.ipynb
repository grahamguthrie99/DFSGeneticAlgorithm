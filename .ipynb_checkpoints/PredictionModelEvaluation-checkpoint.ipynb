{
 "cells": [
  {
   "cell_type": "code",
   "execution_count": 178,
   "metadata": {},
   "outputs": [],
   "source": [
    "import pandas as pd \n",
    "import numpy as np\n",
    "from sklearn.metrics import mean_squared_error\n",
    "from sklearn.model_selection import cross_val_score\n",
    "from sklearn.linear_model import LinearRegression\n",
    "from sklearn.tree import DecisionTreeRegressor\n",
    "from sklearn.ensemble import RandomForestRegressor\n",
    "from sklearn.svm import SVR\n",
    "from sklearn.model_selection import train_test_split\n",
    "import matplotlib.pyplot as plt"
   ]
  },
  {
   "cell_type": "code",
   "execution_count": 223,
   "metadata": {},
   "outputs": [],
   "source": [
    "dates = [\n",
    "    ['2_4', '2020-02-04'],\n",
    "    ['2_3', '2020-02-03'],\n",
    "    ['2_2', '2020-02-02'],\n",
    "    ['2_1', '2020-02-01'],\n",
    "    ['1_31', '2020-01-31'],\n",
    "    ['1_30', '2020-01-30'],\n",
    "    ['1_29', '2020-01-29'],\n",
    "    ['1_28', '2020-01-28'],\n",
    "    ['1_27', '2020-01-27'],\n",
    "    ['1_26', '2020-01-26'],\n",
    "    ['1_25', '2020-01-25'],\n",
    "    ['1_24', '2020-01-24'],\n",
    "    ['1_23', '2020-01-23'],\n",
    "    ['1_22', '2020-01-22'],\n",
    "    ['1_20', '2020-01-20'],\n",
    "    ['1_19', '2020-01-19'],\n",
    "    ['1_18', '2020-01-18'],\n",
    "    ['1_17', '2020-01-17'],\n",
    "    ['1_16', '2020-01-16'],\n",
    "    ['1_15', '2020-01-15'],\n",
    "    ['1_14', '2020-01-14'],\n",
    "    ['1_13', '2020-01-13'],\n",
    "    ['1_12', '2020-01-12'],\n",
    "    ['1_11', '2020-01-11'],\n",
    "    ['1_10', '2020-01-10'],\n",
    "    ['1_9', '2020-01-09'],\n",
    "    ['1_8', '2020-01-08'],\n",
    "    ['1_7', '2020-01-07'],\n",
    "    ['1_6', '2020-01-06'],\n",
    "    ['1_5', '2020-01-05'],\n",
    "    ['1_4', '2020-01-04'],\n",
    "    ['1_3', '2020-01-03'],\n",
    "    ['1_2', '2020-01-02'],\n",
    "    ['1_1', '2020-01-01'],\n",
    "    ['12_31', '2019-12-31'],\n",
    "    ['12_30', '2019-12-30'],\n",
    "    ['12_29', '2019-12-29'],\n",
    "    ['12_28', '2019-12-28'],\n",
    "    ['12_27', '2019-12-27'],\n",
    "    ['12_26', '2019-12-26'],\n",
    "    ['12_25', '2019-12-25'],\n",
    "    ['12_23', '2019-12-23'],\n",
    "    ['12_22', '2019-12-22'],\n",
    "    ['12_21', '2019-12-21'],\n",
    "    ['12_20', '2019-12-20'],\n",
    "    ['12_19', '2019-12-19'],\n",
    "    ['12_18', '2019-12-18'],\n",
    "    ['12_17', '2019-12-17'],\n",
    "    ['12_16', '2019-12-16'],\n",
    "    ['12_15', '2019-12-15'],\n",
    "    ['12_14', '2019-12-14'],\n",
    "    ['12_13', '2019-12-13'],\n",
    "    ['12_12', '2019-12-12'],\n",
    "    ['12_11', '2019-12-11'],\n",
    "    ['12_10', '2019-12-10'],\n",
    "    ['12_9', '2019-12-09'],\n",
    "    ['12_8', '2019-12-08'],\n",
    "    ['12_7', '2019-12-07'],\n",
    "    ['12_6', '2019-12-06'],\n",
    "    ['12_5', '2019-12-05'],\n",
    "    ['12_4', '2019-12-04'],\n",
    "    ['12_3', '2019-12-03'],\n",
    "    ['12_2', '2019-12-02'],\n",
    "    ['12_1', '2019-12-01'],\n",
    "    ['11_30', '2019-11-30'],\n",
    "    ['11_29', '2019-11-29'],\n",
    "    ['11_27', '2019-11-27'],\n",
    "    ['11_26', '2019-11-26'],\n",
    "    ['11_25', '2019-11-25'],\n",
    "    ['11_24', '2019-11-24'],\n",
    "    ['11_23', '2019-11-23'],\n",
    "    ['11_22', '2019-11-22'],\n",
    "    ['11_21', '2019-11-21'],\n",
    "    ['11_20', '2019-11-20'],\n",
    "    ['11_19', '2019-11-19'],\n",
    "    ['11_18', '2019-11-18'],\n",
    "    ['11_17', '2019-11-17'],\n",
    "    ['11_16', '2019-11-16'],\n",
    "    ['11_15', '2019-11-15'],\n",
    "    ['11_14', '2019-11-14'],\n",
    "    ['11_13', '2019-11-13'],\n",
    "    ['11_12', '2019-11-12'],\n",
    "    ['11_11', '2019-11-11'],\n",
    "    ['11_10', '2019-11-10'],\n",
    "    ['11_9', '2019-11-09'],\n",
    "    ['11_8', '2019-11-08'],\n",
    "    ['11_7', '2019-11-07'],\n",
    "    ['11_6', '2019-11-06'],\n",
    "    ['11_5', '2019-11-05'],\n",
    "    ['11_4', '2019-11-04'],\n",
    "    ['11_3', '2019-11-03'],\n",
    "    ['11_2', '2019-11-02'],\n",
    "    ['11_1', '2019-11-01'],\n",
    "    ['10_31', '2019-10-31'],\n",
    "    ['10_30', '2019-10-30'],\n",
    "    ['10_29', '2019-10-29'],\n",
    "    ['10_28', '2019-10-28'],\n",
    "    ['10_27', '2019-10-27'],\n",
    "    ['10_26', '2019-10-26'],\n",
    "    ['10_25', '2019-10-25'],\n",
    "    ['10_24', '2019-10-24'],\n",
    "    ['10_23', '2019-10-23'],\n",
    "    ['10_22', '2019-10-22'],   \n",
    "]\n",
    "\n",
    "drop_attribs = [\n",
    "        \"game_date\",\n",
    "        'ppg_projection', \n",
    "        'value_projection', \n",
    "        'Proj FP', \n",
    "        'Proj Min', \n",
    "        'Proj Val',\n",
    "        \"position\",\n",
    "        \"salary\", \n",
    "        \"Actual Min\",\n",
    "        \"Actual Val\",\n",
    "]"
   ]
  },
  {
   "cell_type": "code",
   "execution_count": 224,
   "metadata": {},
   "outputs": [],
   "source": [
    "def display_scores(scores):\n",
    "    print('Scores:', scores)\n",
    "    print('Mean:' ,scores.mean())\n",
    "    print('Std:', scores.std())"
   ]
  },
  {
   "cell_type": "code",
   "execution_count": 225,
   "metadata": {},
   "outputs": [],
   "source": [
    "def mergeAllDates():\n",
    "    file = pd.DataFrame()\n",
    "    for game_day in dates:\n",
    "        game_date = 'HistoricalData_Merged/{}'.format(game_day[1])\n",
    "        file = file.append(pd.read_csv(game_date), ignore_index=True)\n",
    "    return file\n",
    "\n",
    "def reduceForProjectionAnalysis(file):\n",
    "    file['FantasyFuelPPGProj'] = file['ppg_projection']\n",
    "    file['FantasyFuelValueProj'] = file['value_projection']\n",
    "    file['DFN_PPGProj'] = file['Proj FP']\n",
    "    file['DFN_MinProj'] = file['Proj Min']\n",
    "    file['DFN_ValueProj'] = file['Proj Val']\n",
    "    file.drop(drop_attribs, axis=1, inplace=True)\n",
    "    #file = file.loc[file['Actual FP'] > 0]\n",
    "    return file\n",
    "\n",
    "df = reduceForProjectionAnalysis(mergeAllDates())\n",
    "\n",
    "df['Avg Proj'] = ((df['DFN_PPGProj']+df['FantasyFuelPPGProj'])/2)"
   ]
  },
  {
   "cell_type": "code",
   "execution_count": 226,
   "metadata": {},
   "outputs": [
    {
     "name": "stdout",
     "output_type": "stream",
     "text": [
      "<class 'pandas.core.frame.DataFrame'>\n",
      "RangeIndex: 16576 entries, 0 to 16575\n",
      "Data columns (total 34 columns):\n",
      "Player Name             16576 non-null object\n",
      "injury_status           3554 non-null object\n",
      "team                    16576 non-null object\n",
      "opp                     16576 non-null object\n",
      "spread                  16530 non-null float64\n",
      "over_under              16530 non-null float64\n",
      "implied_team_score      16530 non-null float64\n",
      "L5_dvp_rank             16576 non-null int64\n",
      "L5_ppg_floor            16302 non-null float64\n",
      "L5_ppg_avg              16302 non-null float64\n",
      "L5_ppg_max              16302 non-null float64\n",
      "Pos                     16576 non-null object\n",
      "Salary                  16576 non-null int64\n",
      "Rest                    16235 non-null float64\n",
      "Opp Pace                16576 non-null int64\n",
      "Opp DEff                16576 non-null int64\n",
      "Opp DvP                 16576 non-null object\n",
      "L2 FGA                  16576 non-null int64\n",
      "L5 FGA                  16576 non-null int64\n",
      "S FGA                   16576 non-null int64\n",
      "L2 Min                  16576 non-null int64\n",
      "L5 Min                  16576 non-null int64\n",
      "S Min                   16576 non-null int64\n",
      "L5 FP                   16576 non-null float64\n",
      "S FP                    16576 non-null float64\n",
      "Floor FP                16576 non-null float64\n",
      "Ceil FP                 16576 non-null float64\n",
      "Actual FP               16576 non-null float64\n",
      "FantasyFuelPPGProj      16576 non-null float64\n",
      "FantasyFuelValueProj    16576 non-null float64\n",
      "DFN_PPGProj             16576 non-null float64\n",
      "DFN_MinProj             16576 non-null float64\n",
      "DFN_ValueProj           16576 non-null float64\n",
      "Avg Proj                16576 non-null float64\n",
      "dtypes: float64(18), int64(10), object(6)\n",
      "memory usage: 4.3+ MB\n"
     ]
    }
   ],
   "source": [
    "df.info()"
   ]
  },
  {
   "cell_type": "code",
   "execution_count": 215,
   "metadata": {},
   "outputs": [
    {
     "data": {
      "image/png": "[encoded data removed]",
      "text/plain": [
       "<Figure size 432x288 with 1 Axes>"
      ]
     },
     "metadata": {
      "needs_background": "light"
     },
     "output_type": "display_data"
    }
   ],
   "source": [
    "ax = plt.gca()\n",
    "\n",
    "df.plot(x='Actual FP', y='FantasyFuelPPGProj', style='o', ax=ax)\n",
    "df.plot(x='Actual FP', y='DFN_PPGProj', style='o' , ax=ax)\n",
    "\n",
    "plt.show()"
   ]
  },
  {
   "cell_type": "code",
   "execution_count": 216,
   "metadata": {},
   "outputs": [
    {
     "data": {
      "text/plain": [
       "8.55704633024297"
      ]
     },
     "execution_count": 216,
     "metadata": {},
     "output_type": "execute_result"
    }
   ],
   "source": [
    "##Benchmark\n",
    "bench_proj = df['Avg Proj']\n",
    "bench_actual = df['Actual FP']\n",
    "\n",
    "bench_mse = mean_squared_error(bench_actual, bench_proj)\n",
    "bench_rmse = np.sqrt(bench_mse)\n",
    "bench_rmse"
   ]
  },
  {
   "cell_type": "code",
   "execution_count": 217,
   "metadata": {},
   "outputs": [],
   "source": [
    "train_set, test_set = train_test_split(df, test_size=0.2, random_state=42)\n",
    "\n",
    "nba = train_set.drop('Actual FP', axis=1).copy()\n",
    "labels = train_set['Actual FP'].copy()"
   ]
  },
  {
   "cell_type": "code",
   "execution_count": 218,
   "metadata": {},
   "outputs": [],
   "source": [
    "#nba['injury_status'].fillna('good', inplace=True)\n",
    "nba['L5_ppg_floor'].fillna(0, inplace=True)\n",
    "nba['L5_ppg_avg'].fillna(0, inplace=True)\n",
    "nba['L5_ppg_max'].fillna(0, inplace=True)"
   ]
  },
  {
   "cell_type": "markdown",
   "metadata": {},
   "source": [
    "nba_player = nba['Player Name']\n",
    "nba_injury = nba['injury_status']\n",
    "nba_team = nba['team']\n",
    "nba_opp = nba['opp']\n",
    "nba_pos = nba['Pos']\n",
    "nba_dvp = nba['Opp DvP']\n",
    "\n",
    "nba_player_encoded, nba_player_categories = nba_player.factorize()\n",
    "nba_injury_encoded, nba_injury_categories = nba_injury.factorize()\n",
    "nba_team_encoded, nba_team_categories = nba_team.factorize()\n",
    "nba_opp_encoded, nba_opp_categories = nba_opp.factorize()\n",
    "nba_pos_encoded, nba_pos_categories = nba_pos.factorize()\n",
    "nba_dvp_encoded, nba_dvp_categories = nba_dvp.factorize()\n",
    "\n",
    "nba['Player Name'] = nba_player_encoded\n",
    "nba['injury_status'] = nba_injury_encoded\n",
    "nba['team'] = nba_team_encoded\n",
    "nba['opp'] = nba_opp_encoded\n",
    "nba['Pos'] = nba_pos_encoded\n",
    "nba['Opp DvP'] = nba_dvp_encoded"
   ]
  },
  {
   "cell_type": "code",
   "execution_count": 220,
   "metadata": {},
   "outputs": [
    {
     "name": "stdout",
     "output_type": "stream",
     "text": [
      "Scores: [8.55195135 8.61333492 8.53207209 8.74541881 8.65013005 8.35701801\n",
      " 8.47671635 8.46742547 8.45676265 8.43607714]\n",
      "Mean: 8.528690683326378\n",
      "Std: 0.10913886457092878\n"
     ]
    }
   ],
   "source": [
    "lin_reg = LinearRegression()\n",
    "lin_reg.fit(nba, labels)\n",
    "lin_scores = cross_val_score(lin_reg, nba, labels, scoring='neg_mean_squared_error', cv=10)\n",
    "lin_rmse_scores = np.sqrt(-lin_scores)\n",
    "display_scores(lin_rmse_scores)"
   ]
  },
  {
   "cell_type": "code",
   "execution_count": 221,
   "metadata": {},
   "outputs": [
    {
     "name": "stdout",
     "output_type": "stream",
     "text": [
      "Scores: [12.08979663 12.59502703 12.00720812 12.60122064 12.49637715 12.51455246\n",
      " 12.81918353 11.89129302 12.07648795 12.28832325]\n",
      "Mean: 12.33794697854959\n",
      "Std: 0.29403593277517687\n"
     ]
    }
   ],
   "source": [
    "tree_reg = DecisionTreeRegressor\n",
    "tree_reg = DecisionTreeRegressor()\n",
    "tree_reg.fit(nba, labels)\n",
    "tree_scores = cross_val_score(tree_reg, nba, labels, scoring='neg_mean_squared_error', cv=10)\n",
    "tree_rmse_scores = np.sqrt(-tree_scores)\n",
    "display_scores(tree_rmse_scores)"
   ]
  },
  {
   "cell_type": "code",
   "execution_count": 222,
   "metadata": {},
   "outputs": [
    {
     "name": "stdout",
     "output_type": "stream",
     "text": [
      "Scores: [8.66194118 8.70472592 8.68866003 9.09161074 8.79024836 8.63689769\n",
      " 8.63529251 8.59299287 8.6379458  8.55408162]\n",
      "Mean: 8.699439671676481\n",
      "Std: 0.14417433421182815\n"
     ]
    }
   ],
   "source": [
    "forest_reg = RandomForestRegressor()\n",
    "forest_reg.fit(nba, labels)\n",
    "forest_scores = cross_val_score(forest_reg, nba, labels, scoring='neg_mean_squared_error', cv=10)\n",
    "forest_rmse_scores = np.sqrt(-forest_scores)\n",
    "display_scores(forest_rmse_scores)\n"
   ]
  },
  {
   "cell_type": "code",
   "execution_count": 177,
   "metadata": {},
   "outputs": [
    {
     "name": "stdout",
     "output_type": "stream",
     "text": [
      "Scores: [9.16437296 9.41984708 9.18078196 9.5366411  9.30465452 9.07982787\n",
      " 9.07815908 9.24304544 9.302882   9.12950552]\n",
      "Mean: 9.243971753968708\n",
      "Std: 0.14198931195758394\n"
     ]
    }
   ],
   "source": [
    "svm_reg = SVR(kernel='poly', degree=2, C=100, epsilon=0.1)\n",
    "svm_reg.fit(nba, labels)\n",
    "svm_scores = cross_val_score(svm_reg, nba, labels, scoring='neg_mean_squared_error', cv=10)\n",
    "svm_rmse_scores = np.sqrt(-svm_scores)\n",
    "display_scores(svm_rmse_scores)"
   ]
  },
  {
   "cell_type": "code",
   "execution_count": null,
   "metadata": {},
   "outputs": [],
   "source": []
  },
  {
   "cell_type": "code",
   "execution_count": null,
   "metadata": {},
   "outputs": [],
   "source": []
  },
  {
   "cell_type": "code",
   "execution_count": null,
   "metadata": {},
   "outputs": [],
   "source": []
  },
  {
   "cell_type": "code",
   "execution_count": null,
   "metadata": {},
   "outputs": [],
   "source": []
  },
  {
   "cell_type": "code",
   "execution_count": null,
   "metadata": {},
   "outputs": [],
   "source": []
  },
  {
   "cell_type": "markdown",
   "metadata": {},
   "source": [
    "corr = nba.corr()\n",
    "corr['Actual FP'].sort_values(ascending=False)"
   ]
  },
  {
   "cell_type": "code",
   "execution_count": null,
   "metadata": {},
   "outputs": [],
   "source": [
    "\n"
   ]
  },
  {
   "cell_type": "code",
   "execution_count": null,
   "metadata": {},
   "outputs": [],
   "source": [
    "\n"
   ]
  },
  {
   "cell_type": "code",
   "execution_count": null,
   "metadata": {},
   "outputs": [],
   "source": []
  },
  {
   "cell_type": "code",
   "execution_count": null,
   "metadata": {},
   "outputs": [],
   "source": [
    "\n"
   ]
  },
  {
   "cell_type": "code",
   "execution_count": null,
   "metadata": {},
   "outputs": [],
   "source": [
    "\n"
   ]
  },
  {
   "cell_type": "code",
   "execution_count": null,
   "metadata": {},
   "outputs": [],
   "source": []
  }
 ],
 "metadata": {
  "kernelspec": {
   "display_name": "Python 3",
   "language": "python",
   "name": "python3"
  },
  "language_info": {
   "codemirror_mode": {
    "name": "ipython",
    "version": 3
   },
   "file_extension": ".py",
   "mimetype": "text/x-python",
   "name": "python",
   "nbconvert_exporter": "python",
   "pygments_lexer": "ipython3",
   "version": "3.7.1"
  }
 },
 "nbformat": 4,
 "nbformat_minor": 4
}
