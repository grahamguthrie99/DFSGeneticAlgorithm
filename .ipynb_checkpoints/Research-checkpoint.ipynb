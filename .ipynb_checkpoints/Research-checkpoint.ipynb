{
 "cells": [
  {
   "cell_type": "code",
   "execution_count": 282,
   "metadata": {},
   "outputs": [],
   "source": [
    "import pandas as pd\n",
    "import numpy as np\n",
    "import matplotlib.pyplot as plt\n",
    "from scipy.stats import norm\n",
    "from math import floor\n",
    "\n",
    "drop_attribs = [\n",
    "    \"Player Name\",             \n",
    "    \"injury_status\",           \n",
    "    \"team\",                    \n",
    "    \"opp\",                     \n",
    "    \"spread\",                \n",
    "    \"over_under\",              \n",
    "    \"implied_team_score\",      \n",
    "    \"L5_dvp_rank\",             \n",
    "    \"L5_ppg_floor\",            \n",
    "    \"L5_ppg_avg\",              \n",
    "    \"L5_ppg_max\",              \n",
    "    \"Pos\",                    \n",
    "    \"Salary\",                  \n",
    "    \"Rest\",                    \n",
    "    \"Opp Pace\",                \n",
    "    \"Opp DEff\",               \n",
    "    \"Opp DvP\",                 \n",
    "    \"L2 FGA\",                  \n",
    "    \"L5 FGA\",               \n",
    "    \"S FGA\", \n",
    "    \"L2 Min\",                 \n",
    "    \"L5 Min\",                  \n",
    "    \"S Min\",                   \n",
    "    \"L5 FP\",                   \n",
    "    \"S FP\",                    \n",
    "    \"Floor FP\",                \n",
    "    \"Ceil FP\",                 \n",
    "    \"Actual Min\",             \n",
    "    \"Actual FP\",               \n",
    "    \"Actual Val\",            \n",
    "    \"FantasyFuelPPGProj\",      \n",
    "    \"FantasyFuelValueProj\", \n",
    "    \"DFN_PPGProj\",      \n",
    "    \"DFN_MinProj\",          \n",
    "    \"DFN_ValueProj\",          \n",
    "]"
   ]
  },
  {
   "cell_type": "code",
   "execution_count": 283,
   "metadata": {},
   "outputs": [
    {
     "name": "stdout",
     "output_type": "stream",
     "text": [
      "<class 'pandas.core.frame.DataFrame'>\n",
      "MultiIndex: 336 entries, (0, 0) to (41, 7)\n",
      "Data columns (total 35 columns):\n",
      "Player Name             336 non-null object\n",
      "injury_status           13 non-null object\n",
      "team                    336 non-null object\n",
      "opp                     336 non-null object\n",
      "spread                  336 non-null float64\n",
      "over_under              336 non-null float64\n",
      "implied_team_score      336 non-null float64\n",
      "L5_dvp_rank             336 non-null int64\n",
      "L5_ppg_floor            336 non-null float64\n",
      "L5_ppg_avg              336 non-null float64\n",
      "L5_ppg_max              336 non-null float64\n",
      "Pos                     336 non-null object\n",
      "Salary                  336 non-null int64\n",
      "Rest                    336 non-null int64\n",
      "Opp Pace                336 non-null int64\n",
      "Opp DEff                336 non-null int64\n",
      "Opp DvP                 336 non-null object\n",
      "L2 FGA                  336 non-null int64\n",
      "L5 FGA                  336 non-null int64\n",
      "S FGA                   336 non-null int64\n",
      "L2 Min                  336 non-null int64\n",
      "L5 Min                  336 non-null int64\n",
      "S Min                   336 non-null int64\n",
      "L5 FP                   336 non-null float64\n",
      "S FP                    336 non-null float64\n",
      "Floor FP                336 non-null float64\n",
      "Ceil FP                 336 non-null float64\n",
      "Actual Min              336 non-null float64\n",
      "Actual FP               336 non-null float64\n",
      "Actual Val              336 non-null float64\n",
      "FantasyFuelPPGProj      336 non-null float64\n",
      "FantasyFuelValueProj    336 non-null float64\n",
      "DFN_PPGProj             336 non-null float64\n",
      "DFN_MinProj             336 non-null float64\n",
      "DFN_ValueProj           336 non-null float64\n",
      "dtypes: float64(18), int64(11), object(6)\n",
      "memory usage: 93.0+ KB\n"
     ]
    }
   ],
   "source": [
    "def openBestLineupsForDate():\n",
    "    file_name = 'BestLineups/2020-02-04'\n",
    "    file = pd.read_csv(file_name,index_col=[0,1], skipinitialspace=True)\n",
    "    return file\n",
    "def openCreatedLineupsForDate():\n",
    "    file_name = 'BestCreatedLineups/2020-02-04'\n",
    "    file = pd.read_csv(file_name,index_col=[0,1], skipinitialspace=True)\n",
    "    return file\n",
    "\n",
    "actual = openBestLineupsForDate()\n",
    "created = openBestLineupsForDate()"
   ]
  },
  {
   "cell_type": "code",
   "execution_count": 284,
   "metadata": {},
   "outputs": [
    {
     "data": {
      "image/png": "[encoded data removed]",
      "text/plain": [
       "<Figure size 432x288 with 1 Axes>"
      ]
     },
     "metadata": {
      "needs_background": "light"
     },
     "output_type": "display_data"
    }
   ],
   "source": [
    "def dropLowScoringLineups(file):\n",
    "    drop_level = file.groupby(['Lineup Num'])['Actual FP'].sum().mean() - file.groupby(['Lineup Num'])['Actual FP'].sum().std()\n",
    "    group = file.groupby(['Lineup Num'])\n",
    "    return group.filter(lambda x: x['Actual FP'].sum() > drop_level)\n",
    "\n",
    "def plotLineupActualFP(file):\n",
    "    file.groupby(['Lineup Num'])['Actual FP'].sum().plot()\n",
    "    \n",
    "actual = dropLowScoringLineups(actual)\n",
    "plotLineupActualFP(actual)"
   ]
  },
  {
   "cell_type": "code",
   "execution_count": null,
   "metadata": {},
   "outputs": [],
   "source": [
    "plotLineupActualFP(created)"
   ]
  },
  {
   "cell_type": "code",
   "execution_count": null,
   "metadata": {},
   "outputs": [],
   "source": []
  },
  {
   "cell_type": "code",
   "execution_count": null,
   "metadata": {},
   "outputs": [],
   "source": []
  },
  {
   "cell_type": "code",
   "execution_count": null,
   "metadata": {},
   "outputs": [],
   "source": []
  },
  {
   "cell_type": "code",
   "execution_count": null,
   "metadata": {},
   "outputs": [],
   "source": []
  },
  {
   "cell_type": "code",
   "execution_count": null,
   "metadata": {},
   "outputs": [],
   "source": []
  },
  {
   "cell_type": "code",
   "execution_count": null,
   "metadata": {},
   "outputs": [],
   "source": []
  },
  {
   "cell_type": "code",
   "execution_count": null,
   "metadata": {},
   "outputs": [],
   "source": []
  }
 ],
 "metadata": {
  "kernelspec": {
   "display_name": "Python 3",
   "language": "python",
   "name": "python3"
  },
  "language_info": {
   "codemirror_mode": {
    "name": "ipython",
    "version": 3
   },
   "file_extension": ".py",
   "mimetype": "text/x-python",
   "name": "python",
   "nbconvert_exporter": "python",
   "pygments_lexer": "ipython3",
   "version": "3.7.1"
  }
 },
 "nbformat": 4,
 "nbformat_minor": 4
}
