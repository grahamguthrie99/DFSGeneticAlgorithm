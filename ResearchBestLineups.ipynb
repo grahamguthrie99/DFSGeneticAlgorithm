{
 "cells": [
  {
   "cell_type": "code",
   "execution_count": 28,
   "metadata": {},
   "outputs": [],
   "source": [
    "#drop player that is out"
   ]
  },
  {
   "cell_type": "code",
   "execution_count": 29,
   "metadata": {},
   "outputs": [],
   "source": [
    "import pandas as pd \n",
    "import numpy as np\n",
    "from sklearn.metrics import mean_squared_error\n",
    "import matplotlib.pyplot as plt"
   ]
  },
  {
   "cell_type": "code",
   "execution_count": 30,
   "metadata": {},
   "outputs": [],
   "source": [
    "dates = [\n",
    "    ['2_4', '2020-02-04'],\n",
    "    ['2_3', '2020-02-03'],\n",
    "    ['2_2', '2020-02-02'],\n",
    "    ['2_1', '2020-02-01'],\n",
    "    ['1_31', '2020-01-31'],\n",
    "    ['1_30', '2020-01-30'],\n",
    "    ['1_29', '2020-01-29'],\n",
    "    ['1_28', '2020-01-28'],\n",
    "    ['1_27', '2020-01-27'],\n",
    "    ['1_26', '2020-01-26'],\n",
    "    ['1_25', '2020-01-25'],\n",
    "    ['1_24', '2020-01-24'],\n",
    "    ['1_23', '2020-01-23'],\n",
    "    ['1_22', '2020-01-22'],\n",
    "    ['1_20', '2020-01-20'],\n",
    "    ['1_19', '2020-01-19'],\n",
    "    ['1_18', '2020-01-18'],\n",
    "    ['1_17', '2020-01-17'],\n",
    "    ['1_16', '2020-01-16'],\n",
    "    ['1_15', '2020-01-15'],\n",
    "    ['1_14', '2020-01-14'],\n",
    "    ['1_13', '2020-01-13'],\n",
    "    ['1_12', '2020-01-12'],\n",
    "    ['1_11', '2020-01-11'],\n",
    "    ['1_10', '2020-01-10'],\n",
    "    ['1_9', '2020-01-09'],\n",
    "    ['1_8', '2020-01-08'],\n",
    "    ['1_7', '2020-01-07'],\n",
    "    ['1_6', '2020-01-06'],\n",
    "    ['1_5', '2020-01-05'],\n",
    "    ['1_4', '2020-01-04'],\n",
    "    ['1_3', '2020-01-03'],\n",
    "    ['1_2', '2020-01-02'],\n",
    "    ['1_1', '2020-01-01'],\n",
    "    ['12_31', '2019-12-31'],\n",
    "    ['12_30', '2019-12-30'],\n",
    "    ['12_29', '2019-12-29'],\n",
    "    ['12_28', '2019-12-28'],\n",
    "    ['12_27', '2019-12-27'],\n",
    "    ['12_26', '2019-12-26'],\n",
    "    ['12_25', '2019-12-25'],\n",
    "    ['12_23', '2019-12-23'],\n",
    "    ['12_22', '2019-12-22'],\n",
    "    ['12_21', '2019-12-21'],\n",
    "    ['12_20', '2019-12-20'],\n",
    "    ['12_19', '2019-12-19'],\n",
    "    ['12_18', '2019-12-18'],\n",
    "    ['12_17', '2019-12-17'],\n",
    "    ['12_16', '2019-12-16'],\n",
    "    ['12_15', '2019-12-15'],\n",
    "    ['12_14', '2019-12-14'],\n",
    "    ['12_13', '2019-12-13'],\n",
    "    ['12_12', '2019-12-12'],\n",
    "    ['12_11', '2019-12-11'],\n",
    "    ['12_10', '2019-12-10'],\n",
    "    ['12_9', '2019-12-09'],\n",
    "    ['12_8', '2019-12-08'],\n",
    "    ['12_7', '2019-12-07'],\n",
    "    ['12_6', '2019-12-06'],\n",
    "    ['12_5', '2019-12-05'],\n",
    "    ['12_4', '2019-12-04'],\n",
    "    ['12_3', '2019-12-03'],\n",
    "    ['12_2', '2019-12-02'],\n",
    "    ['12_1', '2019-12-01'],\n",
    "    ['11_30', '2019-11-30'],\n",
    "    ['11_29', '2019-11-29'],\n",
    "    ['11_27', '2019-11-27'],\n",
    "    ['11_26', '2019-11-26'],\n",
    "    ['11_25', '2019-11-25'],\n",
    "    ['11_24', '2019-11-24'],\n",
    "    ['11_23', '2019-11-23'],\n",
    "    ['11_22', '2019-11-22'],\n",
    "    ['11_21', '2019-11-21'],\n",
    "    ['11_20', '2019-11-20'],\n",
    "    ['11_19', '2019-11-19'],\n",
    "    ['11_18', '2019-11-18'],\n",
    "    ['11_17', '2019-11-17'],\n",
    "    ['11_16', '2019-11-16'],\n",
    "    ['11_15', '2019-11-15'],\n",
    "    ['11_14', '2019-11-14'],\n",
    "    ['11_13', '2019-11-13'],\n",
    "    ['11_12', '2019-11-12'],\n",
    "    ['11_11', '2019-11-11'],\n",
    "    ['11_10', '2019-11-10'],\n",
    "    ['11_9', '2019-11-09'],\n",
    "    ['11_8', '2019-11-08'],\n",
    "    ['11_7', '2019-11-07'],\n",
    "    ['11_6', '2019-11-06'],\n",
    "    ['11_5', '2019-11-05'],\n",
    "    ['11_4', '2019-11-04'],\n",
    "    ['11_3', '2019-11-03'],\n",
    "    ['11_2', '2019-11-02'],\n",
    "    ['11_1', '2019-11-01'],\n",
    "    ['10_31', '2019-10-31'],\n",
    "    ['10_30', '2019-10-30'],\n",
    "    ['10_29', '2019-10-29'],\n",
    "    ['10_28', '2019-10-28'],\n",
    "    ['10_27', '2019-10-27'],\n",
    "    ['10_26', '2019-10-26'],\n",
    "    ['10_25', '2019-10-25'],\n",
    "    ['10_24', '2019-10-24'],\n",
    "    ['10_23', '2019-10-23'],\n",
    "    ['10_22', '2019-10-22'],   \n",
    "]\n",
    "\n",
    "drop_attribs = [\n",
    "        'DFN_PPGProj',\n",
    "        'FantasyFuelPPGProj',\n",
    "        'DFN_ValueProj',\n",
    "        'FantasyFuelValueProj',\n",
    "        'L2 Min',\n",
    "        'L5 Min',\n",
    "        'S Min',\n",
    "        \n",
    "]"
   ]
  },
  {
   "cell_type": "markdown",
   "metadata": {},
   "source": [
    "def reduceForProjectionAnalysis(file):\n",
    "    file['Avg Proj'] = (file['DFN_PPGProj']+file['FantasyFuelPPGProj'])/2\n",
    "    file['Avg Value Proj'] = ((file['DFN_ValueProj']+file['FantasyFuelValueProj'])/2)\n",
    "    file['Avg Skewed Min'] = ((file['L2 Min']+file['L5 Min']+file['S Min'])/3)\n",
    "    file['Avg Skewed FGA'] = ((file['L2 FGA']+file['L5 FGA']+file['S FGA'])/3)\n",
    "    file['Avg Skewed FP'] = ((file['L5 FP']+file['S FP']+file['Ceil FP']+file['Floor FP']+file['Avg Proj'])/5)\n",
    "    file['Avg L5 PPG'] = ((file['L5_ppg_floor']+file['L5_ppg_avg']+file['L5_ppg_max'])/3)\n",
    "    file.drop(drop_attribs, axis=1, inplace=True)\n",
    "    file = file[file['injury_status'] != 'O']\n",
    "    return file\n",
    "\n",
    "def dropLowScoringLineups(file):\n",
    "    drop_level = file.groupby(['Lineup Num'])['Actual FP'].sum().mean() - file.groupby(['Lineup Num'])['Actual FP'].sum().std()\n",
    "    group = file.groupby(['Lineup Num'])\n",
    "    return group.filter(lambda x: x['Actual FP'].sum() > drop_level)\n",
    "\n",
    "def addPlayerOccurences(file):\n",
    "    file['Selected'] = np.nan\n",
    "    values = file['Player Name'].value_counts().keys().tolist()\n",
    "    counts = file['Player Name'].value_counts().tolist()\n",
    "    for i in range(len(values)):\n",
    "        file.loc[file['Player Name'] == values[i],['Selected']] = counts[i]\n",
    "    file['Selected'].fillna(0, inplace=True)\n",
    "    file = file.reset_index().drop(['Lineup Num', 'Unnamed: 1' ], axis=1)\n",
    "    file.drop_duplicates(subset =\"Player Name\", keep = 'first', inplace = True) \n",
    "    return file\n",
    "    \n",
    "\n"
   ]
  },
  {
   "cell_type": "markdown",
   "metadata": {},
   "source": [
    "date = dates[1][1]\n",
    "file_name = 'BestLineups/{}'.format(date)\n",
    "best_lineups_file = pd.read_csv(file_name,index_col=[0,1], skipinitialspace=True)\n",
    "df = addPlayerOccurences(dropLowScoringLineups(reduceForProjectionAnalysis(best_lineups_file.copy())))\n",
    "\n",
    "def dropLowScoringPlayers(file):\n",
    "    file = file.reset_index().drop(['Lineup Num' ], axis=1)\n",
    "    file.drop_duplicates(subset =\"Player Name\", keep = 'first', inplace = True) \n",
    "    drop_level = file['Actual FP'].mean() - file['Actual FP'].std()\n",
    "    return file[file.apply(lambda  x: x['Actual FP'] > drop_level, axis=1)]\n"
   ]
  },
  {
   "cell_type": "code",
   "execution_count": 34,
   "metadata": {},
   "outputs": [],
   "source": [
    "def dropLowScoringLineups(file):\n",
    "    drop_level = file.groupby(['Lineup Num'])['Actual FP'].sum().mean() - file.groupby(['Lineup Num'])['Actual FP'].sum().std()\n",
    "    group = file.groupby(['Lineup Num'])\n",
    "    return group.filter(lambda x: x['Actual FP'].sum() > drop_level)    "
   ]
  },
  {
   "cell_type": "code",
   "execution_count": 35,
   "metadata": {},
   "outputs": [],
   "source": [
    "def findUniquePlayers():\n",
    "    unique_players = []\n",
    "    for date in dates:\n",
    "        file_name = 'BestLineups/{}'.format(date[1])\n",
    "        best_lineups_file = dropLowScoringLineups(pd.read_csv(file_name,index_col=[0,1], skipinitialspace=True))\n",
    "        unique_players.append(len(set(best_lineups_file['Player Name'].value_counts().keys().tolist())))\n",
    "    return unique_players\n",
    "\n",
    "def findTotalPlayers():\n",
    "    total_players = []\n",
    "    for date in dates:\n",
    "        file_name = 'HistoricalData_Merged/{}'.format(date[1])\n",
    "        all_lineups_file =  pd.read_csv(file_name)\n",
    "        total_players.append(len(set(all_lineups_file['Player Name'].value_counts().keys().tolist())))\n",
    "    return total_players\n",
    "\n",
    "def findRepresentedTeams():\n",
    "    represented_teams = []\n",
    "    for date in dates:\n",
    "        file_name = 'BestLineups/{}'.format(date[1])\n",
    "        best_lineups_file =  dropLowScoringLineups(pd.read_csv(file_name,index_col=[0,1], skipinitialspace=True))\n",
    "        represented_teams.append(len(set(best_lineups_file['team'].value_counts().keys().tolist())))\n",
    "    return represented_teams\n",
    "\n",
    "def findTotalTeams():\n",
    "    total_teams = []\n",
    "    for date in dates:\n",
    "        file_name = 'HistoricalData_Merged/{}'.format(date[1])\n",
    "        all_lineups_file =  pd.read_csv(file_name)\n",
    "        total_teams.append(len(set(all_lineups_file['team'].value_counts().keys().tolist())))\n",
    "    return total_teams\n",
    "    \n",
    "def findSelectionRate(unique_players, total_players):\n",
    "    avg_select_rate = []\n",
    "    for i in range(len(unique_players)):\n",
    "        avg_select_rate.append((unique_players[i]/total_players[i])*100)\n",
    "    return avg_select_rate\n",
    "\n",
    "def findMeanProjPointBest():\n",
    "    mean_proj = []\n",
    "    for date in dates:\n",
    "        file_name = 'BestLineups/{}'.format(date[1])\n",
    "        best_lineups_file =  dropLowScoringLineups(pd.read_csv(file_name,index_col=[0,1], skipinitialspace=True))\n",
    "        avg_proj = (best_lineups_file['FantasyFuelPPGProj'] + best_lineups_file['DFN_PPGProj']) / 2\n",
    "        mean_proj.append(avg_proj.mean())\n",
    "    return mean_proj\n",
    "\n",
    "def findMeanProjValueBest():\n",
    "    mean_proj = []\n",
    "    for date in dates:\n",
    "        file_name = 'BestLineups/{}'.format(date[1])\n",
    "        best_lineups_file =  dropLowScoringLineups(pd.read_csv(file_name,index_col=[0,1], skipinitialspace=True))\n",
    "        avg_proj = (best_lineups_file['FantasyFuelValueProj'] + best_lineups_file['DFN_ValueProj']) / 2\n",
    "        mean_proj.append(avg_proj.mean())\n",
    "    return mean_proj\n",
    "\n",
    "def findMeanProjMinBest():\n",
    "    mean_proj = []\n",
    "    for date in dates:\n",
    "        file_name = 'BestLineups/{}'.format(date[1])\n",
    "        best_lineups_file = dropLowScoringLineups( pd.read_csv(file_name,index_col=[0,1], skipinitialspace=True) )\n",
    "        avg_proj = best_lineups_file['DFN_MinProj']\n",
    "        mean_proj.append(avg_proj.mean())\n",
    "    return mean_proj\n",
    "\n",
    "def findMeanProjPointTotal():\n",
    "    mean_proj = []\n",
    "    for date in dates:\n",
    "        file_name = 'HistoricalData_Merged/{}'.format(date[1])\n",
    "        all_lineups_file =  pd.read_csv(file_name)\n",
    "        avg_proj = (all_lineups_file['ppg_projection'] + all_lineups_file['Proj FP']) / 2\n",
    "        mean_proj.append(avg_proj.mean())\n",
    "    return mean_proj \n",
    "\n",
    "def findMeanProjValueTotal():\n",
    "    mean_proj = []\n",
    "    for date in dates:\n",
    "        file_name = 'HistoricalData_Merged/{}'.format(date[1])\n",
    "        all_lineups_file =  pd.read_csv(file_name)\n",
    "        avg_proj = (all_lineups_file['value_projection'] + all_lineups_file['Proj Val']) / 2\n",
    "        mean_proj.append(avg_proj.mean())\n",
    "    return mean_proj \n",
    "\n",
    "def findMeanProjMinTotal():\n",
    "    mean_proj = []\n",
    "    for date in dates:\n",
    "        file_name = 'HistoricalData_Merged/{}'.format(date[1])\n",
    "        all_lineups_file =  pd.read_csv(file_name)\n",
    "        avg_proj = all_lineups_file['Proj Min'] \n",
    "        mean_proj.append(avg_proj.mean())\n",
    "    return mean_proj \n",
    "\n",
    "def comparePlayerSelectionRate():\n",
    "    unique_players = findUniquePlayers()\n",
    "    total_players = findTotalPlayers()\n",
    "    represented_teams = findRepresentedTeams()\n",
    "    total_teams = findTotalTeams()\n",
    "    avg_select_rate = findSelectionRate(unique_players, total_players)\n",
    "    mean_proj_best = findMeanProjPointBest()\n",
    "    mean_proj_total = findMeanProjPointTotal()\n",
    "    mean_proj_val_best = findMeanProjValueBest()\n",
    "    mean_proj_val_total = findMeanProjValueTotal()\n",
    "    mean_proj_min_best = findMeanProjMinBest()\n",
    "    mean_proj_min_total = findMeanProjMinTotal()\n",
    "    df = pd.DataFrame({'total players': total_players,\n",
    "                       'unique players': unique_players, \n",
    "                       'selection rate': avg_select_rate, \n",
    "                       'represented teams': represented_teams, \n",
    "                       'total teams' : total_teams, \n",
    "                       'mean proj point best': mean_proj_best,\n",
    "                       'mean proj value best': mean_proj_val_best,\n",
    "                       'mean proj min best': mean_proj_min_best,\n",
    "                       'mean proj point total': mean_proj_total,\n",
    "                       'mean proj value total': mean_proj_val_total,\n",
    "                       'mean proj min total': mean_proj_min_total,})\n",
    "    return df\n",
    "\n",
    "\n",
    "def plotSelectionRateVSTotal(df):\n",
    "    df.plot.scatter(x='selection rate',\n",
    "                      y='total players',\n",
    "                      c='DarkBlue')\n",
    "    \n",
    "def plotRepresentedTeamsVSTotal(df):\n",
    "    df.plot.scatter(x='represented teams',\n",
    "                      y='total teams',\n",
    "                      c='DarkBlue')\n",
    "    \n",
    "def plotMeanProjPointBest(df):\n",
    "    df['mean proj point best'].plot(kind='box')\n",
    "    \n",
    "def plotMeanProjPointTotal(df):\n",
    "    df['mean proj point total'].plot(kind='box')\n",
    "    \n",
    "def plotMeanProjValueBest(df):\n",
    "    df['mean proj value best'].plot(kind='box')\n",
    "    \n",
    "def plotMeanProjValueTotal(df):\n",
    "    df['mean proj value total'].plot(kind='box')\n",
    "    \n",
    "def plotMeanProjMinBest(df):\n",
    "    df['mean proj min best'].plot(kind='box')\n",
    "    \n",
    "def plotMeanProjMinTotal(df):\n",
    "    df['mean proj min total'].plot(kind='box')\n"
   ]
  },
  {
   "cell_type": "code",
   "execution_count": 36,
   "metadata": {},
   "outputs": [
    {
     "data": {
      "image/png": "[encoded data removed]",
      "text/plain": [
       "<Figure size 432x288 with 1 Axes>"
      ]
     },
     "metadata": {
      "needs_background": "light"
     },
     "output_type": "display_data"
    }
   ],
   "source": [
    "player_selection_df = comparePlayerSelectionRate()\n",
    "plotSelectionRateVSTotal(player_selection_df)"
   ]
  },
  {
   "cell_type": "code",
   "execution_count": 37,
   "metadata": {},
   "outputs": [
    {
     "data": {
      "image/png": "[encoded data removed]",
      "text/plain": [
       "<Figure size 432x288 with 1 Axes>"
      ]
     },
     "metadata": {
      "needs_background": "light"
     },
     "output_type": "display_data"
    }
   ],
   "source": [
    "plotRepresentedTeamsVSTotal(player_selection_df)"
   ]
  },
  {
   "cell_type": "code",
   "execution_count": 38,
   "metadata": {},
   "outputs": [
    {
     "data": {
      "image/png": "[encoded data removed]",
      "text/plain": [
       "<Figure size 432x288 with 1 Axes>"
      ]
     },
     "metadata": {
      "needs_background": "light"
     },
     "output_type": "display_data"
    }
   ],
   "source": [
    "plotMeanProjPointBest(player_selection_df)"
   ]
  },
  {
   "cell_type": "code",
   "execution_count": 39,
   "metadata": {},
   "outputs": [
    {
     "data": {
      "image/png": "[encoded data removed]",
      "text/plain": [
       "<Figure size 432x288 with 1 Axes>"
      ]
     },
     "metadata": {
      "needs_background": "light"
     },
     "output_type": "display_data"
    }
   ],
   "source": [
    "plotMeanProjPointTotal(player_selection_df)"
   ]
  },
  {
   "cell_type": "code",
   "execution_count": 40,
   "metadata": {},
   "outputs": [
    {
     "data": {
      "image/png": "[encoded data removed]",
      "text/plain": [
       "<Figure size 432x288 with 1 Axes>"
      ]
     },
     "metadata": {
      "needs_background": "light"
     },
     "output_type": "display_data"
    }
   ],
   "source": [
    "plotMeanProjValueBest(player_selection_df)"
   ]
  },
  {
   "cell_type": "code",
   "execution_count": 41,
   "metadata": {},
   "outputs": [
    {
     "data": {
      "image/png": "[encoded data removed]",
      "text/plain": [
       "<Figure size 432x288 with 1 Axes>"
      ]
     },
     "metadata": {
      "needs_background": "light"
     },
     "output_type": "display_data"
    }
   ],
   "source": [
    "plotMeanProjValueTotal(player_selection_df)"
   ]
  },
  {
   "cell_type": "code",
   "execution_count": 42,
   "metadata": {},
   "outputs": [
    {
     "data": {
      "image/png": "[encoded data removed]",
      "text/plain": [
       "<Figure size 432x288 with 1 Axes>"
      ]
     },
     "metadata": {
      "needs_background": "light"
     },
     "output_type": "display_data"
    }
   ],
   "source": [
    "plotMeanProjMinBest(player_selection_df)"
   ]
  },
  {
   "cell_type": "code",
   "execution_count": 43,
   "metadata": {},
   "outputs": [
    {
     "data": {
      "image/png": "[encoded data removed]",
      "text/plain": [
       "<Figure size 432x288 with 1 Axes>"
      ]
     },
     "metadata": {
      "needs_background": "light"
     },
     "output_type": "display_data"
    }
   ],
   "source": [
    "plotMeanProjMinTotal(player_selection_df)"
   ]
  },
  {
   "cell_type": "code",
   "execution_count": 44,
   "metadata": {},
   "outputs": [
    {
     "data": {
      "text/html": [
       "<div>\n",
       "<style scoped>\n",
       "    .dataframe tbody tr th:only-of-type {\n",
       "        vertical-align: middle;\n",
       "    }\n",
       "\n",
       "    .dataframe tbody tr th {\n",
       "        vertical-align: top;\n",
       "    }\n",
       "\n",
       "    .dataframe thead th {\n",
       "        text-align: right;\n",
       "    }\n",
       "</style>\n",
       "<table border=\"1\" class=\"dataframe\">\n",
       "  <thead>\n",
       "    <tr style=\"text-align: right;\">\n",
       "      <th></th>\n",
       "      <th>total players</th>\n",
       "      <th>unique players</th>\n",
       "      <th>selection rate</th>\n",
       "      <th>represented teams</th>\n",
       "      <th>total teams</th>\n",
       "      <th>mean proj point best</th>\n",
       "      <th>mean proj value best</th>\n",
       "      <th>mean proj min best</th>\n",
       "      <th>mean proj point total</th>\n",
       "      <th>mean proj value total</th>\n",
       "      <th>mean proj min total</th>\n",
       "    </tr>\n",
       "  </thead>\n",
       "  <tbody>\n",
       "    <tr>\n",
       "      <th>0</th>\n",
       "      <td>94</td>\n",
       "      <td>48</td>\n",
       "      <td>51.063830</td>\n",
       "      <td>8</td>\n",
       "      <td>8</td>\n",
       "      <td>33.225184</td>\n",
       "      <td>5.362353</td>\n",
       "      <td>30.612132</td>\n",
       "      <td>19.530319</td>\n",
       "      <td>3.746383</td>\n",
       "      <td>19.271277</td>\n",
       "    </tr>\n",
       "    <tr>\n",
       "      <th>1</th>\n",
       "      <td>235</td>\n",
       "      <td>50</td>\n",
       "      <td>21.276596</td>\n",
       "      <td>20</td>\n",
       "      <td>20</td>\n",
       "      <td>33.098485</td>\n",
       "      <td>5.441174</td>\n",
       "      <td>30.270833</td>\n",
       "      <td>18.918511</td>\n",
       "      <td>3.693426</td>\n",
       "      <td>19.387234</td>\n",
       "    </tr>\n",
       "    <tr>\n",
       "      <th>2</th>\n",
       "      <td>78</td>\n",
       "      <td>39</td>\n",
       "      <td>50.000000</td>\n",
       "      <td>6</td>\n",
       "      <td>6</td>\n",
       "      <td>32.721552</td>\n",
       "      <td>5.384634</td>\n",
       "      <td>27.706897</td>\n",
       "      <td>17.678205</td>\n",
       "      <td>3.368654</td>\n",
       "      <td>17.064103</td>\n",
       "    </tr>\n",
       "    <tr>\n",
       "      <th>3</th>\n",
       "      <td>210</td>\n",
       "      <td>46</td>\n",
       "      <td>21.904762</td>\n",
       "      <td>17</td>\n",
       "      <td>18</td>\n",
       "      <td>29.393750</td>\n",
       "      <td>4.820375</td>\n",
       "      <td>28.844643</td>\n",
       "      <td>19.163571</td>\n",
       "      <td>3.731190</td>\n",
       "      <td>19.695238</td>\n",
       "    </tr>\n",
       "    <tr>\n",
       "      <th>4</th>\n",
       "      <td>175</td>\n",
       "      <td>54</td>\n",
       "      <td>30.857143</td>\n",
       "      <td>14</td>\n",
       "      <td>14</td>\n",
       "      <td>32.468182</td>\n",
       "      <td>5.315871</td>\n",
       "      <td>29.405303</td>\n",
       "      <td>18.464571</td>\n",
       "      <td>3.614714</td>\n",
       "      <td>18.545714</td>\n",
       "    </tr>\n",
       "    <tr>\n",
       "      <th>...</th>\n",
       "      <td>...</td>\n",
       "      <td>...</td>\n",
       "      <td>...</td>\n",
       "      <td>...</td>\n",
       "      <td>...</td>\n",
       "      <td>...</td>\n",
       "      <td>...</td>\n",
       "      <td>...</td>\n",
       "      <td>...</td>\n",
       "      <td>...</td>\n",
       "      <td>...</td>\n",
       "    </tr>\n",
       "    <tr>\n",
       "      <th>98</th>\n",
       "      <td>211</td>\n",
       "      <td>48</td>\n",
       "      <td>22.748815</td>\n",
       "      <td>18</td>\n",
       "      <td>18</td>\n",
       "      <td>31.252390</td>\n",
       "      <td>5.097537</td>\n",
       "      <td>28.869485</td>\n",
       "      <td>18.938626</td>\n",
       "      <td>3.776303</td>\n",
       "      <td>19.308057</td>\n",
       "    </tr>\n",
       "    <tr>\n",
       "      <th>99</th>\n",
       "      <td>213</td>\n",
       "      <td>49</td>\n",
       "      <td>23.004695</td>\n",
       "      <td>17</td>\n",
       "      <td>18</td>\n",
       "      <td>31.517742</td>\n",
       "      <td>5.004456</td>\n",
       "      <td>28.054435</td>\n",
       "      <td>19.000704</td>\n",
       "      <td>3.817066</td>\n",
       "      <td>19.288732</td>\n",
       "    </tr>\n",
       "    <tr>\n",
       "      <th>100</th>\n",
       "      <td>69</td>\n",
       "      <td>41</td>\n",
       "      <td>59.420290</td>\n",
       "      <td>6</td>\n",
       "      <td>6</td>\n",
       "      <td>31.056250</td>\n",
       "      <td>4.891552</td>\n",
       "      <td>27.573276</td>\n",
       "      <td>19.226812</td>\n",
       "      <td>3.712246</td>\n",
       "      <td>19.057971</td>\n",
       "    </tr>\n",
       "    <tr>\n",
       "      <th>101</th>\n",
       "      <td>248</td>\n",
       "      <td>57</td>\n",
       "      <td>22.983871</td>\n",
       "      <td>21</td>\n",
       "      <td>22</td>\n",
       "      <td>31.069318</td>\n",
       "      <td>5.078409</td>\n",
       "      <td>29.732955</td>\n",
       "      <td>19.372177</td>\n",
       "      <td>3.766109</td>\n",
       "      <td>19.713710</td>\n",
       "    </tr>\n",
       "    <tr>\n",
       "      <th>102</th>\n",
       "      <td>48</td>\n",
       "      <td>28</td>\n",
       "      <td>58.333333</td>\n",
       "      <td>4</td>\n",
       "      <td>4</td>\n",
       "      <td>31.285526</td>\n",
       "      <td>5.067533</td>\n",
       "      <td>28.828947</td>\n",
       "      <td>18.631250</td>\n",
       "      <td>3.486771</td>\n",
       "      <td>18.364583</td>\n",
       "    </tr>\n",
       "  </tbody>\n",
       "</table>\n",
       "<p>103 rows × 11 columns</p>\n",
       "</div>"
      ],
      "text/plain": [
       "     total players  unique players  selection rate  represented teams  \\\n",
       "0               94              48       51.063830                  8   \n",
       "1              235              50       21.276596                 20   \n",
       "2               78              39       50.000000                  6   \n",
       "3              210              46       21.904762                 17   \n",
       "4              175              54       30.857143                 14   \n",
       "..             ...             ...             ...                ...   \n",
       "98             211              48       22.748815                 18   \n",
       "99             213              49       23.004695                 17   \n",
       "100             69              41       59.420290                  6   \n",
       "101            248              57       22.983871                 21   \n",
       "102             48              28       58.333333                  4   \n",
       "\n",
       "     total teams  mean proj point best  mean proj value best  \\\n",
       "0              8             33.225184              5.362353   \n",
       "1             20             33.098485              5.441174   \n",
       "2              6             32.721552              5.384634   \n",
       "3             18             29.393750              4.820375   \n",
       "4             14             32.468182              5.315871   \n",
       "..           ...                   ...                   ...   \n",
       "98            18             31.252390              5.097537   \n",
       "99            18             31.517742              5.004456   \n",
       "100            6             31.056250              4.891552   \n",
       "101           22             31.069318              5.078409   \n",
       "102            4             31.285526              5.067533   \n",
       "\n",
       "     mean proj min best  mean proj point total  mean proj value total  \\\n",
       "0             30.612132              19.530319               3.746383   \n",
       "1             30.270833              18.918511               3.693426   \n",
       "2             27.706897              17.678205               3.368654   \n",
       "3             28.844643              19.163571               3.731190   \n",
       "4             29.405303              18.464571               3.614714   \n",
       "..                  ...                    ...                    ...   \n",
       "98            28.869485              18.938626               3.776303   \n",
       "99            28.054435              19.000704               3.817066   \n",
       "100           27.573276              19.226812               3.712246   \n",
       "101           29.732955              19.372177               3.766109   \n",
       "102           28.828947              18.631250               3.486771   \n",
       "\n",
       "     mean proj min total  \n",
       "0              19.271277  \n",
       "1              19.387234  \n",
       "2              17.064103  \n",
       "3              19.695238  \n",
       "4              18.545714  \n",
       "..                   ...  \n",
       "98             19.308057  \n",
       "99             19.288732  \n",
       "100            19.057971  \n",
       "101            19.713710  \n",
       "102            18.364583  \n",
       "\n",
       "[103 rows x 11 columns]"
      ]
     },
     "execution_count": 44,
     "metadata": {},
     "output_type": "execute_result"
    }
   ],
   "source": [
    "player_selection_df"
   ]
  },
  {
   "cell_type": "code",
   "execution_count": null,
   "metadata": {},
   "outputs": [],
   "source": []
  }
 ],
 "metadata": {
  "kernelspec": {
   "display_name": "Python 3",
   "language": "python",
   "name": "python3"
  },
  "language_info": {
   "codemirror_mode": {
    "name": "ipython",
    "version": 3
   },
   "file_extension": ".py",
   "mimetype": "text/x-python",
   "name": "python",
   "nbconvert_exporter": "python",
   "pygments_lexer": "ipython3",
   "version": "3.7.1"
  }
 },
 "nbformat": 4,
 "nbformat_minor": 4
}
