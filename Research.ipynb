{
 "cells": [
  {
   "cell_type": "code",
   "execution_count": 299,
   "metadata": {},
   "outputs": [],
   "source": [
    "import pandas as pd\n",
    "import numpy as np\n",
    "import matplotlib.pyplot as plt\n",
    "from scipy.stats import norm\n",
    "from math import floor\n",
    "\n",
    "drop_attribs = [\n",
    "    \"Player Name\",             \n",
    "    \"injury_status\",           \n",
    "    \"team\",                    \n",
    "    \"opp\",                     \n",
    "    \"spread\",                \n",
    "    \"over_under\",              \n",
    "    \"implied_team_score\",      \n",
    "    \"L5_dvp_rank\",             \n",
    "    \"L5_ppg_floor\",            \n",
    "    \"L5_ppg_avg\",              \n",
    "    \"L5_ppg_max\",              \n",
    "    \"Pos\",                    \n",
    "    \"Salary\",                  \n",
    "    \"Rest\",                    \n",
    "    \"Opp Pace\",                \n",
    "    \"Opp DEff\",               \n",
    "    \"Opp DvP\",                 \n",
    "    \"L2 FGA\",                  \n",
    "    \"L5 FGA\",               \n",
    "    \"S FGA\", \n",
    "    \"L2 Min\",                 \n",
    "    \"L5 Min\",                  \n",
    "    \"S Min\",                   \n",
    "    \"L5 FP\",                   \n",
    "    \"S FP\",                    \n",
    "    \"Floor FP\",                \n",
    "    \"Ceil FP\",                 \n",
    "    \"Actual Min\",             \n",
    "    \"Actual FP\",               \n",
    "    \"Actual Val\",            \n",
    "    \"FantasyFuelPPGProj\",      \n",
    "    \"FantasyFuelValueProj\", \n",
    "    \"DFN_PPGProj\",      \n",
    "    \"DFN_MinProj\",          \n",
    "    \"DFN_ValueProj\",          \n",
    "]"
   ]
  },
  {
   "cell_type": "code",
   "execution_count": 498,
   "metadata": {},
   "outputs": [
    {
     "name": "stdout",
     "output_type": "stream",
     "text": [
      "<class 'pandas.core.frame.DataFrame'>\n",
      "RangeIndex: 151 entries, 0 to 150\n",
      "Data columns (total 38 columns):\n",
      "Player Name           151 non-null object\n",
      "position              151 non-null object\n",
      "injury_status         36 non-null object\n",
      "game_date             151 non-null object\n",
      "team                  151 non-null object\n",
      "opp                   151 non-null object\n",
      "spread                151 non-null float64\n",
      "over_under            151 non-null float64\n",
      "implied_team_score    151 non-null float64\n",
      "salary                151 non-null int64\n",
      "L5_dvp_rank           151 non-null int64\n",
      "L5_ppg_floor          150 non-null float64\n",
      "L5_ppg_avg            150 non-null float64\n",
      "L5_ppg_max            150 non-null float64\n",
      "ppg_projection        151 non-null float64\n",
      "value_projection      151 non-null float64\n",
      "Pos                   151 non-null object\n",
      "Salary                151 non-null int64\n",
      "Rest                  151 non-null int64\n",
      "Opp Pace              151 non-null int64\n",
      "Opp DEff              151 non-null int64\n",
      "Opp DvP               151 non-null object\n",
      "L2 FGA                151 non-null int64\n",
      "L5 FGA                151 non-null int64\n",
      "S FGA                 151 non-null int64\n",
      "L2 Min                151 non-null int64\n",
      "L5 Min                151 non-null int64\n",
      "S Min                 151 non-null int64\n",
      "L5 FP                 151 non-null float64\n",
      "S FP                  151 non-null float64\n",
      "Floor FP              151 non-null float64\n",
      "Ceil FP               151 non-null float64\n",
      "Proj Min              151 non-null float64\n",
      "Proj FP               151 non-null float64\n",
      "Proj Val              151 non-null float64\n",
      "Actual Min            151 non-null float64\n",
      "Actual FP             151 non-null float64\n",
      "Actual Val            151 non-null float64\n",
      "dtypes: float64(18), int64(12), object(8)\n",
      "memory usage: 44.9+ KB\n"
     ]
    }
   ],
   "source": [
    "def openBestLineupsForDate():\n",
    "    file_name = 'BestLineups/2020-01-26'\n",
    "    file = pd.read_csv(file_name,index_col=[0,1], skipinitialspace=True)\n",
    "    return file\n",
    "def openCreatedLineupsForDate():\n",
    "    file_name = 'BestCreatedLineups/2020-01-26'\n",
    "    file = pd.read_csv(file_name,index_col=[0,1], skipinitialspace=True)\n",
    "    return file\n",
    "\n",
    "x = pd.read_csv('HistoricalData_Merged/2020-01-26')\n",
    "x.info()"
   ]
  },
  {
   "cell_type": "code",
   "execution_count": 499,
   "metadata": {},
   "outputs": [],
   "source": [
    "def dropLowScoringLineups(file):\n",
    "    drop_level = file.groupby(['Lineup Num'])['Actual FP'].sum().mean() - file.groupby(['Lineup Num'])['Actual FP'].sum().std()\n",
    "    group = file.groupby(['Lineup Num'])\n",
    "    return group.filter(lambda x: x['Actual FP'].sum() > drop_level)\n",
    "\n",
    "def plotLineupActualFP(file):\n",
    "    file.groupby(['Lineup Num'])['Actual FP'].sum().plot(style='.')\n",
    "    print(file.groupby(['Lineup Num'])['Actual FP'].sum().mean())\n",
    "    print(file.groupby(['Lineup Num'])['Actual FP'].sum().max())\n",
    "    \n",
    "def plotLineupProjectedFP(file, projectionType):\n",
    "    file.groupby(['Lineup Num'])[projectionType].sum().plot(style='.')"
   ]
  },
  {
   "cell_type": "code",
   "execution_count": 500,
   "metadata": {},
   "outputs": [],
   "source": [
    "actual = openBestLineupsForDate()\n",
    "created = openCreatedLineupsForDate()"
   ]
  },
  {
   "cell_type": "code",
   "execution_count": 501,
   "metadata": {},
   "outputs": [
    {
     "name": "stdout",
     "output_type": "stream",
     "text": [
      "368.1393939393939\n",
      "391.90000000000003\n"
     ]
    },
    {
     "data": {
      "image/png": "[encoded data removed]",
      "text/plain": [
       "<Figure size 432x288 with 1 Axes>"
      ]
     },
     "metadata": {
      "needs_background": "light"
     },
     "output_type": "display_data"
    }
   ],
   "source": [
    "actual = dropLowScoringLineups(actual)\n",
    "plotLineupActualFP(actual)"
   ]
  },
  {
   "cell_type": "code",
   "execution_count": 502,
   "metadata": {},
   "outputs": [
    {
     "name": "stdout",
     "output_type": "stream",
     "text": [
      "268.569512195122\n",
      "332.5\n"
     ]
    },
    {
     "data": {
      "image/png": "[encoded data removed]",
      "text/plain": [
       "<Figure size 432x288 with 1 Axes>"
      ]
     },
     "metadata": {
      "needs_background": "light"
     },
     "output_type": "display_data"
    }
   ],
   "source": [
    "plotLineupActualFP(created)"
   ]
  },
  {
   "cell_type": "code",
   "execution_count": 503,
   "metadata": {},
   "outputs": [
    {
     "data": {
      "image/png": "[encoded data removed]",
      "text/plain": [
       "<Figure size 432x288 with 1 Axes>"
      ]
     },
     "metadata": {
      "needs_background": "light"
     },
     "output_type": "display_data"
    }
   ],
   "source": [
    "plotLineupProjectedFP(actual, \"FantasyFuelPPGProj\")"
   ]
  },
  {
   "cell_type": "code",
   "execution_count": 504,
   "metadata": {},
   "outputs": [
    {
     "data": {
      "image/png": "[encoded data removed]",
      "text/plain": [
       "<Figure size 432x288 with 1 Axes>"
      ]
     },
     "metadata": {
      "needs_background": "light"
     },
     "output_type": "display_data"
    }
   ],
   "source": [
    "plotLineupProjectedFP(created, 'Avg Proj')"
   ]
  },
  {
   "cell_type": "code",
   "execution_count": 526,
   "metadata": {},
   "outputs": [
    {
     "name": "stdout",
     "output_type": "stream",
     "text": [
      "34\n"
     ]
    }
   ],
   "source": [
    "def dropLowScoringPlayers(file):\n",
    "    file = file.reset_index().drop(['Lineup Num', 'Unnamed: 1' ], axis=1)\n",
    "    file.drop_duplicates(subset =\"Player Name\", keep = 'first', inplace = True) \n",
    "    drop_level = file['Actual FP'].mean() - file['Actual FP'].std()\n",
    "    return file[file.apply(lambda  x: x['Actual FP'] > drop_level, axis=1)]\n",
    "\n",
    "def dropLowSelectedPlayers(file):\n",
    "    file = file.reset_index().drop(['Lineup Num', 'Unnamed: 1' ], axis=1)\n",
    "    file = addPlayerOccurences(file)\n",
    "    file.drop_duplicates(subset =\"Player Name\", keep = 'first', inplace = True) \n",
    "    drop_level = file['Selected'].mean() - file['Selected'].std()\n",
    "    return file[file.apply(lambda  x: x['Selected'] > 1, axis=1)]\n",
    "\n",
    "def addPlayerOccurences(file):\n",
    "    file['Selected'] = np.nan\n",
    "    values = file['Player Name'].value_counts().keys().tolist()\n",
    "    counts = file['Player Name'].value_counts().tolist()\n",
    "    for i in range(len(values)):\n",
    "        file.loc[file['Player Name'] == values[i],['Selected']] = counts[i]\n",
    "    return file\n",
    "\n",
    "act = set(dropLowScoringPlayers(actual)['Player Name'].value_counts().keys().tolist())\n",
    "\n",
    "cre = set(dropLowSelectedPlayers(created)['Player Name'].value_counts().keys().tolist())\n",
    "\n",
    "\n",
    "print(len(act.intersection(cre)))"
   ]
  },
  {
   "cell_type": "code",
   "execution_count": 527,
   "metadata": {},
   "outputs": [
    {
     "data": {
      "text/plain": [
       "43"
      ]
     },
     "execution_count": 527,
     "metadata": {},
     "output_type": "execute_result"
    }
   ],
   "source": [
    "len(act)"
   ]
  },
  {
   "cell_type": "code",
   "execution_count": 518,
   "metadata": {},
   "outputs": [
    {
     "data": {
      "text/plain": [
       "84"
      ]
     },
     "execution_count": 518,
     "metadata": {},
     "output_type": "execute_result"
    }
   ],
   "source": [
    "len(cre)"
   ]
  },
  {
   "cell_type": "code",
   "execution_count": 519,
   "metadata": {},
   "outputs": [
    {
     "data": {
      "text/plain": [
       "{'Aaron Gordon',\n",
       " 'Anfernee Simons',\n",
       " 'Brandon Ingram',\n",
       " 'Bruno Fernando',\n",
       " 'CJ McCollum',\n",
       " 'Caleb Swanigan',\n",
       " 'Caris LeVert',\n",
       " 'Carmelo Anthony',\n",
       " 'Damian Jones',\n",
       " 'Damian Lillard',\n",
       " 'Dario Saric',\n",
       " 'Dillon Brooks',\n",
       " \"E'Twaun Moore\",\n",
       " 'Edmond Sumner',\n",
       " 'Elfrid Payton',\n",
       " 'Evan Fournier',\n",
       " 'Frank Ntilikina',\n",
       " 'Gary Payton II',\n",
       " 'Grant Williams',\n",
       " 'Ian Mahinmi',\n",
       " 'Isaac Bonga',\n",
       " 'Isaiah Thomas',\n",
       " 'Ja Morant',\n",
       " 'JaMychal Green',\n",
       " 'Jakarr Sampson',\n",
       " 'Jarrett Allen',\n",
       " 'Jaxson Hayes',\n",
       " 'Jaylen Brown',\n",
       " 'Jeff Teague',\n",
       " 'Joe Harris',\n",
       " 'John Collins',\n",
       " 'Jonas Valanciunas',\n",
       " 'Jrue Holiday',\n",
       " 'Justin Holiday',\n",
       " 'Kevin Huerter',\n",
       " 'Kevin Knox II',\n",
       " 'Khem Birch',\n",
       " 'Lonzo Ball',\n",
       " 'Marcus Morris Sr.',\n",
       " 'Marcus Smart',\n",
       " 'Marko Guduric',\n",
       " 'Mitchell Robinson',\n",
       " 'Nicolas Claxton',\n",
       " 'Nikola Vucevic',\n",
       " 'Patrick Patterson',\n",
       " 'Ricky Rubio',\n",
       " 'Rodions Kurucs',\n",
       " 'Rodney McGruder',\n",
       " 'Spencer Dinwiddie',\n",
       " 'Taj Gibson',\n",
       " 'Taurean Prince',\n",
       " 'Terrence Ross',\n",
       " 'Timothe Luwawu-Cabarrot',\n",
       " 'Treveon Graham',\n",
       " 'Trevor Ariza',\n",
       " 'Troy Brown Jr.',\n",
       " 'Ty Jerome',\n",
       " 'Vince Carter',\n",
       " 'Wilson Chandler'}"
      ]
     },
     "execution_count": 519,
     "metadata": {},
     "output_type": "execute_result"
    }
   ],
   "source": [
    "act.symmetric_difference(cre)"
   ]
  },
  {
   "cell_type": "code",
   "execution_count": 520,
   "metadata": {},
   "outputs": [
    {
     "data": {
      "text/plain": [
       "{'Aaron Gordon',\n",
       " 'CJ McCollum',\n",
       " 'Damian Lillard',\n",
       " 'Frank Ntilikina',\n",
       " 'Justin Holiday',\n",
       " 'Nicolas Claxton',\n",
       " 'Patrick Patterson',\n",
       " 'Taj Gibson',\n",
       " 'Vince Carter'}"
      ]
     },
     "execution_count": 520,
     "metadata": {},
     "output_type": "execute_result"
    }
   ],
   "source": [
    "act.difference(cre)"
   ]
  },
  {
   "cell_type": "code",
   "execution_count": 521,
   "metadata": {},
   "outputs": [
    {
     "data": {
      "text/plain": [
       "Michael Carter-Williams    29\n",
       "Trae Young                 29\n",
       "Domantas Sabonis           29\n",
       "De'Andre Hunter            25\n",
       "Damian Lillard             24\n",
       "JJ Redick                  18\n",
       "Josh Hart                  14\n",
       "Jeremy Lamb                14\n",
       "Zion Williamson            13\n",
       "Kelly Oubre Jr.             8\n",
       "Bradley Beal                6\n",
       "Mikal Bridges               5\n",
       "Patrick Patterson           4\n",
       "Deandre Ayton               4\n",
       "Aaron Gordon                2\n",
       "Jaren Jackson Jr.           2\n",
       "Kyle Anderson               2\n",
       "Jordan McRae                2\n",
       "Vince Carter                2\n",
       "Julius Randle               2\n",
       "CJ McCollum                 2\n",
       "Doug McDermott              2\n",
       "Kemba Walker                2\n",
       "Nicolas Claxton             1\n",
       "Cam Reddish                 1\n",
       "Devin Booker                1\n",
       "Jerome Robinson             1\n",
       "Taj Gibson                  1\n",
       "Garrett Temple              1\n",
       "Solomon Hill                1\n",
       "De'Anthony Melton           1\n",
       "Reggie Bullock              1\n",
       "Grant Williams              1\n",
       "Frank Ntilikina             1\n",
       "Moe Harkless                1\n",
       "Aaron Holiday               1\n",
       "Bobby Portis                1\n",
       "Kawhi Leonard               1\n",
       "Derrick Favors              1\n",
       "Markelle Fultz              1\n",
       "Tyus Jones                  1\n",
       "Wilson Chandler             1\n",
       "Davis Bertans               1\n",
       "Brandon Clarke              1\n",
       "Gary Trent Jr.              1\n",
       "Justin Holiday              1\n",
       "Gordon Hayward              1\n",
       "Name: Player Name, dtype: int64"
      ]
     },
     "execution_count": 521,
     "metadata": {},
     "output_type": "execute_result"
    }
   ],
   "source": [
    "actual['Player Name'].value_counts()"
   ]
  },
  {
   "cell_type": "code",
   "execution_count": 522,
   "metadata": {},
   "outputs": [
    {
     "data": {
      "text/plain": [
       "Trae Young           52\n",
       "Jaylen Brown         43\n",
       "Joe Harris           40\n",
       "Julius Randle        37\n",
       "Deandre Ayton        32\n",
       "Bobby Portis         32\n",
       "Devin Booker         25\n",
       "Spencer Dinwiddie    20\n",
       "Domantas Sabonis     17\n",
       "Bradley Beal         15\n",
       "Brandon Clarke       15\n",
       "Caris LeVert         14\n",
       "Elfrid Payton        14\n",
       "Dillon Brooks        12\n",
       "Kelly Oubre Jr.      10\n",
       "John Collins         10\n",
       "Troy Brown Jr.        9\n",
       "Kemba Walker          9\n",
       "JJ Redick             9\n",
       "Marcus Smart          8\n",
       "Kevin Huerter         7\n",
       "Mikal Bridges         7\n",
       "Khem Birch            6\n",
       "Reggie Bullock        6\n",
       "Grant Williams        6\n",
       "Ja Morant             6\n",
       "Jordan McRae          5\n",
       "Evan Fournier         5\n",
       "Cam Reddish           5\n",
       "Jaren Jackson Jr.     5\n",
       "                     ..\n",
       "Markelle Fultz        2\n",
       "Vince Carter          1\n",
       "CJ McCollum           1\n",
       "Aaron Gordon          1\n",
       "Javonte Green         1\n",
       "Hassan Whiteside      1\n",
       "Lou Williams          1\n",
       "Patrick Patterson     1\n",
       "Taj Gibson            1\n",
       "Vincent Poirier       1\n",
       "Jerome Robinson       1\n",
       "Justin Holiday        1\n",
       "Jevon Carter          1\n",
       "Anzejs Pasecniks      1\n",
       "Solomon Hill          1\n",
       "Nicolas Claxton       1\n",
       "Elie Okobo            1\n",
       "T.J. McConnell        1\n",
       "Landry Shamet         1\n",
       "Wes Iwundu            1\n",
       "Brandon Goodwin       1\n",
       "Brad Wanamaker        1\n",
       "T.J. Warren           1\n",
       "Ivica Zubac           1\n",
       "Damyean Dotson        1\n",
       "Daniel Theis          1\n",
       "Montrezl Harrell      1\n",
       "Thomas Bryant         1\n",
       "Mo Bamba              1\n",
       "Semi Ojeleye          1\n",
       "Name: Player Name, Length: 113, dtype: int64"
      ]
     },
     "execution_count": 522,
     "metadata": {},
     "output_type": "execute_result"
    }
   ],
   "source": [
    "created['Player Name'].value_counts()"
   ]
  },
  {
   "cell_type": "code",
   "execution_count": 523,
   "metadata": {},
   "outputs": [
    {
     "data": {
      "text/html": [
       "<div>\n",
       "<style scoped>\n",
       "    .dataframe tbody tr th:only-of-type {\n",
       "        vertical-align: middle;\n",
       "    }\n",
       "\n",
       "    .dataframe tbody tr th {\n",
       "        vertical-align: top;\n",
       "    }\n",
       "\n",
       "    .dataframe thead th {\n",
       "        text-align: right;\n",
       "    }\n",
       "</style>\n",
       "<table border=\"1\" class=\"dataframe\">\n",
       "  <thead>\n",
       "    <tr style=\"text-align: right;\">\n",
       "      <th></th>\n",
       "      <th>Player Name</th>\n",
       "      <th>injury_status</th>\n",
       "      <th>team</th>\n",
       "      <th>opp</th>\n",
       "      <th>spread</th>\n",
       "      <th>over_under</th>\n",
       "      <th>implied_team_score</th>\n",
       "      <th>L5_dvp_rank</th>\n",
       "      <th>L5_ppg_floor</th>\n",
       "      <th>L5_ppg_avg</th>\n",
       "      <th>...</th>\n",
       "      <th>Floor FP</th>\n",
       "      <th>Ceil FP</th>\n",
       "      <th>Actual Min</th>\n",
       "      <th>Actual FP</th>\n",
       "      <th>Actual Val</th>\n",
       "      <th>FantasyFuelPPGProj</th>\n",
       "      <th>FantasyFuelValueProj</th>\n",
       "      <th>DFN_PPGProj</th>\n",
       "      <th>DFN_MinProj</th>\n",
       "      <th>DFN_ValueProj</th>\n",
       "    </tr>\n",
       "    <tr>\n",
       "      <th>Unnamed: 1</th>\n",
       "      <th></th>\n",
       "      <th></th>\n",
       "      <th></th>\n",
       "      <th></th>\n",
       "      <th></th>\n",
       "      <th></th>\n",
       "      <th></th>\n",
       "      <th></th>\n",
       "      <th></th>\n",
       "      <th></th>\n",
       "      <th></th>\n",
       "      <th></th>\n",
       "      <th></th>\n",
       "      <th></th>\n",
       "      <th></th>\n",
       "      <th></th>\n",
       "      <th></th>\n",
       "      <th></th>\n",
       "      <th></th>\n",
       "      <th></th>\n",
       "      <th></th>\n",
       "    </tr>\n",
       "  </thead>\n",
       "  <tbody>\n",
       "    <tr>\n",
       "      <th>0</th>\n",
       "      <td>Trae Young</td>\n",
       "      <td>NaN</td>\n",
       "      <td>ATL</td>\n",
       "      <td>WAS</td>\n",
       "      <td>-1.0</td>\n",
       "      <td>241.5</td>\n",
       "      <td>121.3</td>\n",
       "      <td>24</td>\n",
       "      <td>37.5</td>\n",
       "      <td>57.3</td>\n",
       "      <td>...</td>\n",
       "      <td>39.3</td>\n",
       "      <td>65.9</td>\n",
       "      <td>39.0</td>\n",
       "      <td>77.5</td>\n",
       "      <td>8.2</td>\n",
       "      <td>57.0</td>\n",
       "      <td>6.00</td>\n",
       "      <td>58.4</td>\n",
       "      <td>36.0</td>\n",
       "      <td>6.1</td>\n",
       "    </tr>\n",
       "    <tr>\n",
       "      <th>1</th>\n",
       "      <td>Jordan McRae</td>\n",
       "      <td>NaN</td>\n",
       "      <td>WAS</td>\n",
       "      <td>ATL</td>\n",
       "      <td>1.0</td>\n",
       "      <td>241.5</td>\n",
       "      <td>120.3</td>\n",
       "      <td>27</td>\n",
       "      <td>5.8</td>\n",
       "      <td>17.7</td>\n",
       "      <td>...</td>\n",
       "      <td>11.4</td>\n",
       "      <td>37.7</td>\n",
       "      <td>17.8</td>\n",
       "      <td>28.8</td>\n",
       "      <td>6.3</td>\n",
       "      <td>21.8</td>\n",
       "      <td>4.73</td>\n",
       "      <td>24.9</td>\n",
       "      <td>23.5</td>\n",
       "      <td>5.4</td>\n",
       "    </tr>\n",
       "    <tr>\n",
       "      <th>2</th>\n",
       "      <td>Jeremy Lamb</td>\n",
       "      <td>NaN</td>\n",
       "      <td>IND</td>\n",
       "      <td>POR</td>\n",
       "      <td>3.0</td>\n",
       "      <td>220.0</td>\n",
       "      <td>108.5</td>\n",
       "      <td>20</td>\n",
       "      <td>4.3</td>\n",
       "      <td>20.7</td>\n",
       "      <td>...</td>\n",
       "      <td>17.5</td>\n",
       "      <td>35.5</td>\n",
       "      <td>33.5</td>\n",
       "      <td>38.5</td>\n",
       "      <td>8.8</td>\n",
       "      <td>25.0</td>\n",
       "      <td>5.68</td>\n",
       "      <td>23.8</td>\n",
       "      <td>27.0</td>\n",
       "      <td>5.4</td>\n",
       "    </tr>\n",
       "    <tr>\n",
       "      <th>3</th>\n",
       "      <td>De'Andre Hunter</td>\n",
       "      <td>NaN</td>\n",
       "      <td>ATL</td>\n",
       "      <td>WAS</td>\n",
       "      <td>-1.0</td>\n",
       "      <td>241.5</td>\n",
       "      <td>121.3</td>\n",
       "      <td>12</td>\n",
       "      <td>15.5</td>\n",
       "      <td>23.1</td>\n",
       "      <td>...</td>\n",
       "      <td>11.8</td>\n",
       "      <td>31.2</td>\n",
       "      <td>27.6</td>\n",
       "      <td>34.3</td>\n",
       "      <td>8.2</td>\n",
       "      <td>22.5</td>\n",
       "      <td>5.36</td>\n",
       "      <td>21.5</td>\n",
       "      <td>30.5</td>\n",
       "      <td>5.1</td>\n",
       "    </tr>\n",
       "    <tr>\n",
       "      <th>4</th>\n",
       "      <td>Michael Carter-Williams</td>\n",
       "      <td>NaN</td>\n",
       "      <td>ORL</td>\n",
       "      <td>LAC</td>\n",
       "      <td>3.5</td>\n",
       "      <td>219.0</td>\n",
       "      <td>107.8</td>\n",
       "      <td>5</td>\n",
       "      <td>3.5</td>\n",
       "      <td>13.9</td>\n",
       "      <td>...</td>\n",
       "      <td>8.4</td>\n",
       "      <td>23.2</td>\n",
       "      <td>22.7</td>\n",
       "      <td>36.3</td>\n",
       "      <td>10.7</td>\n",
       "      <td>17.5</td>\n",
       "      <td>5.15</td>\n",
       "      <td>18.2</td>\n",
       "      <td>19.0</td>\n",
       "      <td>5.4</td>\n",
       "    </tr>\n",
       "    <tr>\n",
       "      <th>5</th>\n",
       "      <td>Josh Hart</td>\n",
       "      <td>NaN</td>\n",
       "      <td>NO</td>\n",
       "      <td>BOS</td>\n",
       "      <td>1.0</td>\n",
       "      <td>231.5</td>\n",
       "      <td>115.3</td>\n",
       "      <td>7</td>\n",
       "      <td>20.3</td>\n",
       "      <td>27.9</td>\n",
       "      <td>...</td>\n",
       "      <td>17.1</td>\n",
       "      <td>33.7</td>\n",
       "      <td>28.5</td>\n",
       "      <td>26.5</td>\n",
       "      <td>6.8</td>\n",
       "      <td>19.5</td>\n",
       "      <td>5.00</td>\n",
       "      <td>20.2</td>\n",
       "      <td>26.0</td>\n",
       "      <td>5.2</td>\n",
       "    </tr>\n",
       "    <tr>\n",
       "      <th>6</th>\n",
       "      <td>Domantas Sabonis</td>\n",
       "      <td>NaN</td>\n",
       "      <td>IND</td>\n",
       "      <td>POR</td>\n",
       "      <td>3.0</td>\n",
       "      <td>220.0</td>\n",
       "      <td>108.5</td>\n",
       "      <td>6</td>\n",
       "      <td>19.8</td>\n",
       "      <td>38.4</td>\n",
       "      <td>...</td>\n",
       "      <td>35.0</td>\n",
       "      <td>52.5</td>\n",
       "      <td>41.0</td>\n",
       "      <td>66.0</td>\n",
       "      <td>7.6</td>\n",
       "      <td>46.0</td>\n",
       "      <td>5.29</td>\n",
       "      <td>46.1</td>\n",
       "      <td>34.5</td>\n",
       "      <td>5.3</td>\n",
       "    </tr>\n",
       "    <tr>\n",
       "      <th>7</th>\n",
       "      <td>Damian Lillard</td>\n",
       "      <td>NaN</td>\n",
       "      <td>POR</td>\n",
       "      <td>IND</td>\n",
       "      <td>-3.0</td>\n",
       "      <td>220.0</td>\n",
       "      <td>111.5</td>\n",
       "      <td>16</td>\n",
       "      <td>45.5</td>\n",
       "      <td>62.2</td>\n",
       "      <td>...</td>\n",
       "      <td>36.7</td>\n",
       "      <td>61.5</td>\n",
       "      <td>38.5</td>\n",
       "      <td>84.0</td>\n",
       "      <td>8.1</td>\n",
       "      <td>48.8</td>\n",
       "      <td>4.69</td>\n",
       "      <td>48.8</td>\n",
       "      <td>36.5</td>\n",
       "      <td>4.7</td>\n",
       "    </tr>\n",
       "  </tbody>\n",
       "</table>\n",
       "<p>8 rows × 35 columns</p>\n",
       "</div>"
      ],
      "text/plain": [
       "                        Player Name injury_status team  opp  spread  \\\n",
       "Unnamed: 1                                                            \n",
       "0                        Trae Young           NaN  ATL  WAS    -1.0   \n",
       "1                      Jordan McRae           NaN  WAS  ATL     1.0   \n",
       "2                       Jeremy Lamb           NaN  IND  POR     3.0   \n",
       "3                   De'Andre Hunter           NaN  ATL  WAS    -1.0   \n",
       "4           Michael Carter-Williams           NaN  ORL  LAC     3.5   \n",
       "5                         Josh Hart           NaN   NO  BOS     1.0   \n",
       "6                  Domantas Sabonis           NaN  IND  POR     3.0   \n",
       "7                    Damian Lillard           NaN  POR  IND    -3.0   \n",
       "\n",
       "            over_under  implied_team_score  L5_dvp_rank  L5_ppg_floor  \\\n",
       "Unnamed: 1                                                              \n",
       "0                241.5               121.3           24          37.5   \n",
       "1                241.5               120.3           27           5.8   \n",
       "2                220.0               108.5           20           4.3   \n",
       "3                241.5               121.3           12          15.5   \n",
       "4                219.0               107.8            5           3.5   \n",
       "5                231.5               115.3            7          20.3   \n",
       "6                220.0               108.5            6          19.8   \n",
       "7                220.0               111.5           16          45.5   \n",
       "\n",
       "            L5_ppg_avg      ...        Floor FP Ceil FP  Actual Min  \\\n",
       "Unnamed: 1                  ...                                       \n",
       "0                 57.3      ...            39.3    65.9        39.0   \n",
       "1                 17.7      ...            11.4    37.7        17.8   \n",
       "2                 20.7      ...            17.5    35.5        33.5   \n",
       "3                 23.1      ...            11.8    31.2        27.6   \n",
       "4                 13.9      ...             8.4    23.2        22.7   \n",
       "5                 27.9      ...            17.1    33.7        28.5   \n",
       "6                 38.4      ...            35.0    52.5        41.0   \n",
       "7                 62.2      ...            36.7    61.5        38.5   \n",
       "\n",
       "            Actual FP  Actual Val  FantasyFuelPPGProj FantasyFuelValueProj  \\\n",
       "Unnamed: 1                                                                   \n",
       "0                77.5         8.2                57.0                 6.00   \n",
       "1                28.8         6.3                21.8                 4.73   \n",
       "2                38.5         8.8                25.0                 5.68   \n",
       "3                34.3         8.2                22.5                 5.36   \n",
       "4                36.3        10.7                17.5                 5.15   \n",
       "5                26.5         6.8                19.5                 5.00   \n",
       "6                66.0         7.6                46.0                 5.29   \n",
       "7                84.0         8.1                48.8                 4.69   \n",
       "\n",
       "            DFN_PPGProj  DFN_MinProj  DFN_ValueProj  \n",
       "Unnamed: 1                                           \n",
       "0                  58.4         36.0            6.1  \n",
       "1                  24.9         23.5            5.4  \n",
       "2                  23.8         27.0            5.4  \n",
       "3                  21.5         30.5            5.1  \n",
       "4                  18.2         19.0            5.4  \n",
       "5                  20.2         26.0            5.2  \n",
       "6                  46.1         34.5            5.3  \n",
       "7                  48.8         36.5            4.7  \n",
       "\n",
       "[8 rows x 35 columns]"
      ]
     },
     "execution_count": 523,
     "metadata": {},
     "output_type": "execute_result"
    }
   ],
   "source": [
    "actual.loc[0]"
   ]
  },
  {
   "cell_type": "code",
   "execution_count": null,
   "metadata": {},
   "outputs": [],
   "source": []
  },
  {
   "cell_type": "code",
   "execution_count": null,
   "metadata": {},
   "outputs": [],
   "source": []
  }
 ],
 "metadata": {
  "kernelspec": {
   "display_name": "Python 3",
   "language": "python",
   "name": "python3"
  },
  "language_info": {
   "codemirror_mode": {
    "name": "ipython",
    "version": 3
   },
   "file_extension": ".py",
   "mimetype": "text/x-python",
   "name": "python",
   "nbconvert_exporter": "python",
   "pygments_lexer": "ipython3",
   "version": "3.7.1"
  }
 },
 "nbformat": 4,
 "nbformat_minor": 4
}
