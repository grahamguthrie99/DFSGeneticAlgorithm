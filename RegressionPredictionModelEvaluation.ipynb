{
 "cells": [
  {
   "cell_type": "code",
   "execution_count": null,
   "metadata": {},
   "outputs": [],
   "source": [
    "#drop player that is out"
   ]
  },
  {
   "cell_type": "code",
   "execution_count": 2,
   "metadata": {},
   "outputs": [],
   "source": [
    "import pandas as pd \n",
    "import numpy as np\n",
    "from sklearn.metrics import mean_squared_error\n",
    "from sklearn.model_selection import cross_val_score\n",
    "from sklearn.linear_model import LinearRegression\n",
    "from sklearn.tree import DecisionTreeRegressor\n",
    "from sklearn.ensemble import RandomForestRegressor\n",
    "from sklearn.svm import SVR\n",
    "from sklearn.tree import DecisionTreeRegressor\n",
    "from sklearn.model_selection import train_test_split\n",
    "import matplotlib.pyplot as plt"
   ]
  },
  {
   "cell_type": "code",
   "execution_count": 3,
   "metadata": {},
   "outputs": [],
   "source": [
    "dates = [\n",
    "    ['2_4', '2020-02-04'],\n",
    "    ['2_3', '2020-02-03'],\n",
    "    ['2_2', '2020-02-02'],\n",
    "    ['2_1', '2020-02-01'],\n",
    "    ['1_31', '2020-01-31'],\n",
    "    ['1_30', '2020-01-30'],\n",
    "    ['1_29', '2020-01-29'],\n",
    "    ['1_28', '2020-01-28'],\n",
    "    ['1_27', '2020-01-27'],\n",
    "    ['1_26', '2020-01-26'],\n",
    "    ['1_25', '2020-01-25'],\n",
    "    ['1_24', '2020-01-24'],\n",
    "    ['1_23', '2020-01-23'],\n",
    "    ['1_22', '2020-01-22'],\n",
    "    ['1_20', '2020-01-20'],\n",
    "    ['1_19', '2020-01-19'],\n",
    "    ['1_18', '2020-01-18'],\n",
    "    ['1_17', '2020-01-17'],\n",
    "    ['1_16', '2020-01-16'],\n",
    "    ['1_15', '2020-01-15'],\n",
    "    ['1_14', '2020-01-14'],\n",
    "    ['1_13', '2020-01-13'],\n",
    "    ['1_12', '2020-01-12'],\n",
    "    ['1_11', '2020-01-11'],\n",
    "    ['1_10', '2020-01-10'],\n",
    "    ['1_9', '2020-01-09'],\n",
    "    ['1_8', '2020-01-08'],\n",
    "    ['1_7', '2020-01-07'],\n",
    "    ['1_6', '2020-01-06'],\n",
    "    ['1_5', '2020-01-05'],\n",
    "    ['1_4', '2020-01-04'],\n",
    "    ['1_3', '2020-01-03'],\n",
    "    ['1_2', '2020-01-02'],\n",
    "    ['1_1', '2020-01-01'],\n",
    "    ['12_31', '2019-12-31'],\n",
    "    ['12_30', '2019-12-30'],\n",
    "    ['12_29', '2019-12-29'],\n",
    "    ['12_28', '2019-12-28'],\n",
    "    ['12_27', '2019-12-27'],\n",
    "    ['12_26', '2019-12-26'],\n",
    "    ['12_25', '2019-12-25'],\n",
    "    ['12_23', '2019-12-23'],\n",
    "    ['12_22', '2019-12-22'],\n",
    "    ['12_21', '2019-12-21'],\n",
    "    ['12_20', '2019-12-20'],\n",
    "    ['12_19', '2019-12-19'],\n",
    "    ['12_18', '2019-12-18'],\n",
    "    ['12_17', '2019-12-17'],\n",
    "    ['12_16', '2019-12-16'],\n",
    "    ['12_15', '2019-12-15'],\n",
    "    ['12_14', '2019-12-14'],\n",
    "    ['12_13', '2019-12-13'],\n",
    "    ['12_12', '2019-12-12'],\n",
    "    ['12_11', '2019-12-11'],\n",
    "    ['12_10', '2019-12-10'],\n",
    "    ['12_9', '2019-12-09'],\n",
    "    ['12_8', '2019-12-08'],\n",
    "    ['12_7', '2019-12-07'],\n",
    "    ['12_6', '2019-12-06'],\n",
    "    ['12_5', '2019-12-05'],\n",
    "    ['12_4', '2019-12-04'],\n",
    "    ['12_3', '2019-12-03'],\n",
    "    ['12_2', '2019-12-02'],\n",
    "    ['12_1', '2019-12-01'],\n",
    "    ['11_30', '2019-11-30'],\n",
    "    ['11_29', '2019-11-29'],\n",
    "    ['11_27', '2019-11-27'],\n",
    "    ['11_26', '2019-11-26'],\n",
    "    ['11_25', '2019-11-25'],\n",
    "    ['11_24', '2019-11-24'],\n",
    "    ['11_23', '2019-11-23'],\n",
    "    ['11_22', '2019-11-22'],\n",
    "    ['11_21', '2019-11-21'],\n",
    "    ['11_20', '2019-11-20'],\n",
    "    ['11_19', '2019-11-19'],\n",
    "    ['11_18', '2019-11-18'],\n",
    "    ['11_17', '2019-11-17'],\n",
    "    ['11_16', '2019-11-16'],\n",
    "    ['11_15', '2019-11-15'],\n",
    "    ['11_14', '2019-11-14'],\n",
    "    ['11_13', '2019-11-13'],\n",
    "    ['11_12', '2019-11-12'],\n",
    "    ['11_11', '2019-11-11'],\n",
    "    ['11_10', '2019-11-10'],\n",
    "    ['11_9', '2019-11-09'],\n",
    "    ['11_8', '2019-11-08'],\n",
    "    ['11_7', '2019-11-07'],\n",
    "    ['11_6', '2019-11-06'],\n",
    "    ['11_5', '2019-11-05'],\n",
    "    ['11_4', '2019-11-04'],\n",
    "    ['11_3', '2019-11-03'],\n",
    "    ['11_2', '2019-11-02'],\n",
    "    ['11_1', '2019-11-01'],\n",
    "    ['10_31', '2019-10-31'],\n",
    "    ['10_30', '2019-10-30'],\n",
    "    ['10_29', '2019-10-29'],\n",
    "    ['10_28', '2019-10-28'],\n",
    "    ['10_27', '2019-10-27'],\n",
    "    ['10_26', '2019-10-26'],\n",
    "    ['10_25', '2019-10-25'],\n",
    "    ['10_24', '2019-10-24'],\n",
    "    ['10_23', '2019-10-23'],\n",
    "    ['10_22', '2019-10-22'],   \n",
    "]\n",
    "\n",
    "drop_attribs = [\n",
    "        \"game_date\",\n",
    "        'ppg_projection', \n",
    "        'value_projection', \n",
    "        'Proj FP', \n",
    "        'Proj Min', \n",
    "        'Proj Val',\n",
    "        \"position\",\n",
    "        \"salary\", \n",
    "        \"Actual Min\",\n",
    "        \"Actual Val\",\n",
    "]"
   ]
  },
  {
   "cell_type": "code",
   "execution_count": 6,
   "metadata": {},
   "outputs": [],
   "source": [
    "def mergeAllDates():\n",
    "    file = pd.DataFrame()\n",
    "    for game_day in dates:\n",
    "        game_date = 'HistoricalData_Merged/{}'.format(game_day[1])\n",
    "        file = file.append(pd.read_csv(game_date), ignore_index=True)\n",
    "    return file\n",
    "\n",
    "def reduceForProjectionAnalysis(file):\n",
    "    file['FantasyFuelPPGProj'] = file['ppg_projection']\n",
    "    file['FantasyFuelValueProj'] = file['value_projection']\n",
    "    file['DFN_PPGProj'] = file['Proj FP']\n",
    "    file['DFN_MinProj'] = file['Proj Min']\n",
    "    file['DFN_ValueProj'] = file['Proj Val']\n",
    "    file.drop(drop_attribs, axis=1, inplace=True)\n",
    "    #file = file.loc[file['Actual FP'] > 0]\n",
    "    return file\n",
    "\n",
    "full_df = reduceForProjectionAnalysis(mergeAllDates())\n",
    "full_df['Avg Proj'] = ((full_df['DFN_PPGProj']+full_df['FantasyFuelPPGProj'])/2)\n",
    "full_df = full_df[full_df['injury_status'] != 'O']"
   ]
  },
  {
   "cell_type": "code",
   "execution_count": 7,
   "metadata": {},
   "outputs": [
    {
     "data": {
      "text/plain": [
       "9.415489865525222"
      ]
     },
     "execution_count": 7,
     "metadata": {},
     "output_type": "execute_result"
    }
   ],
   "source": [
    "##Benchmark\n",
    "bench_proj = full_df['Avg Proj']\n",
    "bench_actual = full_df['Actual FP']\n",
    "bench_mse = mean_squared_error(bench_actual, bench_proj)\n",
    "bench_rmse = np.sqrt(bench_mse)\n",
    "bench_rmse"
   ]
  },
  {
   "cell_type": "code",
   "execution_count": 33,
   "metadata": {},
   "outputs": [],
   "source": [
    "def runLinearRegression(df, needed):\n",
    "    train_set, test_set = train_test_split(df, test_size=0.2, random_state=42)\n",
    "    features = train_set.drop('Actual FP', axis=1).copy()\n",
    "    labels = train_set['Actual FP'].copy()\n",
    "    if(needed):\n",
    "        features = encodeFeatures(cleanFeatures(features))\n",
    "    lin_reg = LinearRegression()\n",
    "    lin_reg.fit(features, labels)\n",
    "    lin_scores = cross_val_score(lin_reg, features, labels, scoring='neg_mean_squared_error', cv=10)\n",
    "    lin_rmse_scores = np.sqrt(-lin_scores)\n",
    "    display_scores(lin_rmse_scores)\n",
    "    \n",
    "def runDTRegression(df, needed):\n",
    "    train_set, test_set = train_test_split(df, test_size=0.2, random_state=42)\n",
    "    features = train_set.drop('Actual FP', axis=1).copy()\n",
    "    labels = train_set['Actual FP'].copy()\n",
    "    if(needed):\n",
    "        features = encodeFeatures(cleanFeatures(features))\n",
    "    tree_reg = DecisionTreeRegressor(max_depth=100)\n",
    "    tree_reg.fit(features, labels)\n",
    "    tree_scores = cross_val_score(tree_reg, features, labels, scoring='neg_mean_squared_error', cv=10)\n",
    "    tree_rmse_scores = np.sqrt(-tree_scores)\n",
    "    display_scores(tree_rmse_scores)\n",
    "    \n",
    "def display_scores(scores):\n",
    "    print('Scores:', scores)\n",
    "    print('Mean:' ,scores.mean())\n",
    "    print('Std:', scores.std())\n",
    "    \n",
    "def cleanFeatures(features): \n",
    "    features['L5_ppg_floor'].fillna(0, inplace=True)\n",
    "    features['L5_ppg_avg'].fillna(0, inplace=True)\n",
    "    features['L5_ppg_max'].fillna(0, inplace=True)\n",
    "    features['spread'].fillna(features['spread'].mean(), inplace=True)\n",
    "    features['over_under'].fillna(features['over_under'].mean(), inplace=True)\n",
    "    features['implied_team_score'].fillna(features['implied_team_score'].mean(), inplace=True)\n",
    "    features['Rest'].fillna(features['Rest'].mean(), inplace=True)\n",
    "    features['injury_status'].fillna('good', inplace=True)\n",
    "    return features\n",
    "\n",
    "def encodeFeatures(features):\n",
    "    nba_player = features['Player Name']\n",
    "    nba_injury = features['injury_status']\n",
    "    nba_team = features['team']\n",
    "    nba_opp = features['opp']\n",
    "    nba_pos = features['Pos']\n",
    "    nba_dvp = features['Opp DvP']\n",
    "    \n",
    "    nba_player_encoded, nba_player_categories = nba_player.factorize()\n",
    "    nba_injury_encoded, nba_injury_categories = nba_injury.factorize()\n",
    "    nba_team_encoded, nba_team_categories = nba_team.factorize()\n",
    "    nba_opp_encoded, nba_opp_categories = nba_opp.factorize()\n",
    "    nba_pos_encoded, nba_pos_categories = nba_pos.factorize()\n",
    "    nba_dvp_encoded, nba_dvp_categories = nba_dvp.factorize()\n",
    "    \n",
    "    features['Player Name'] = nba_player_encoded\n",
    "    features['injury_status'] = nba_injury_encoded\n",
    "    features['team'] = nba_team_encoded\n",
    "    features['opp'] = nba_opp_encoded\n",
    "    features['Pos'] = nba_pos_encoded\n",
    "    features['Opp DvP'] = nba_dvp_encoded\n",
    "    return features\n"
   ]
  },
  {
   "cell_type": "code",
   "execution_count": 34,
   "metadata": {},
   "outputs": [
    {
     "name": "stdout",
     "output_type": "stream",
     "text": [
      "Scores: [9.25124968 9.21735768 9.32710944 9.36834144 9.01846648 9.51871519\n",
      " 9.56517625 9.32644738 9.03626021 9.72331938]\n",
      "Mean: 9.33524431232157\n",
      "Std: 0.21191119425050373\n"
     ]
    }
   ],
   "source": [
    "runLinearRegression(full_df, True)"
   ]
  },
  {
   "cell_type": "code",
   "execution_count": 35,
   "metadata": {},
   "outputs": [
    {
     "name": "stdout",
     "output_type": "stream",
     "text": [
      "Scores: [13.34638802 13.45236073 12.97815349 13.36631691 13.65936741 13.42961542\n",
      " 13.68284532 13.10089172 13.20306665 13.63395053]\n",
      "Mean: 13.385295618673144\n",
      "Std: 0.22664379307344823\n"
     ]
    }
   ],
   "source": [
    "runDTRegression(full_df, True)"
   ]
  },
  {
   "cell_type": "code",
   "execution_count": 36,
   "metadata": {},
   "outputs": [
    {
     "name": "stdout",
     "output_type": "stream",
     "text": [
      "Scores: [9.27944046 9.26314177 9.34385118 9.42115229 9.05716791 9.52978609\n",
      " 9.68770594 9.40282908 9.10055582 9.72735179]\n",
      "Mean: 9.381298230647083\n",
      "Std: 0.21150752253167754\n"
     ]
    }
   ],
   "source": [
    "least_df = pd.DataFrame()\n",
    "least_df['Actual FP'] = full_df['Actual FP']\n",
    "least_df['Avg Proj'] = full_df['Avg Proj']\n",
    "runLinearRegression(least_df, False)"
   ]
  },
  {
   "cell_type": "code",
   "execution_count": 37,
   "metadata": {},
   "outputs": [
    {
     "name": "stdout",
     "output_type": "stream",
     "text": [
      "Scores: [10.23445163  9.88798002 10.34177594 10.06394957 10.08536383  9.98517302\n",
      " 10.41555311  9.82575404  9.52982095 10.41709658]\n",
      "Mean: 10.078691869970479\n",
      "Std: 0.2705703319673108\n"
     ]
    }
   ],
   "source": [
    "runDTRegression(least_df, False)"
   ]
  },
  {
   "cell_type": "code",
   "execution_count": 38,
   "metadata": {},
   "outputs": [],
   "source": [
    "encoded_df = encodeFeatures(cleanFeatures(full_df)).copy()\n",
    "\n",
    "relevant_df = pd.DataFrame()\n",
    "relevant_df['Player Name'] = encoded_df['Player Name']\n",
    "relevant_df['team'] = encoded_df['team']\n",
    "relevant_df['Actual FP'] = encoded_df['Actual FP']\n",
    "relevant_df['Avg Proj'] = encoded_df['Avg Proj']\n",
    "relevant_df['Salary'] = encoded_df['Salary']\n",
    "relevant_df['Avg Value Proj'] = ((encoded_df['DFN_ValueProj']+encoded_df['FantasyFuelValueProj'])/2)\n",
    "relevant_df['Avg Skewed Min'] = ((encoded_df['L2 Min']+encoded_df['L5 Min']+encoded_df['S Min'])/3)\n",
    "relevant_df['Avg Skewed FGA'] = ((encoded_df['L2 FGA']+encoded_df['L5 FGA']+encoded_df['S FGA'])/3)\n",
    "relevant_df['Avg Skewed FP'] = ((encoded_df['L5 FP']+encoded_df['S FP']+encoded_df['Ceil FP']+encoded_df['Floor FP']+encoded_df['Avg Proj'])/5)\n",
    "relevant_df['Avg L5 PPG'] = ((encoded_df['L5_ppg_floor']+encoded_df['L5_ppg_avg']+encoded_df['L5_ppg_max'])/3)\n"
   ]
  },
  {
   "cell_type": "code",
   "execution_count": 39,
   "metadata": {},
   "outputs": [
    {
     "name": "stdout",
     "output_type": "stream",
     "text": [
      "Scores: [9.23385733 9.23131457 9.35903274 9.3448611  9.02430741 9.52734347\n",
      " 9.60257442 9.36479303 9.06022769 9.68421111]\n",
      "Mean: 9.34325228677783\n",
      "Std: 0.20601750766069454\n"
     ]
    }
   ],
   "source": [
    "runLinearRegression(relevant_df, False)"
   ]
  },
  {
   "cell_type": "code",
   "execution_count": 40,
   "metadata": {},
   "outputs": [
    {
     "name": "stdout",
     "output_type": "stream",
     "text": [
      "Scores: [13.78647607 13.60120462 13.19813813 13.55738228 13.52239864 13.79372191\n",
      " 13.31673941 13.199866   12.8402646  13.82440018]\n",
      "Mean: 13.464059183490349\n",
      "Std: 0.3040940978284175\n"
     ]
    }
   ],
   "source": [
    "runDTRegression(relevant_df, False)"
   ]
  },
  {
   "cell_type": "code",
   "execution_count": 348,
   "metadata": {},
   "outputs": [],
   "source": [
    "corr_matrix = relevant_df.corr()"
   ]
  },
  {
   "cell_type": "code",
   "execution_count": 349,
   "metadata": {},
   "outputs": [
    {
     "data": {
      "text/html": [
       "<style  type=\"text/css\" >\n",
       "    #T_c3740d96_4e03_11ea_b946_88e9fe6d8b2brow0_col0 {\n",
       "            background-color:  #b40426;\n",
       "            color:  #f1f1f1;\n",
       "        }    #T_c3740d96_4e03_11ea_b946_88e9fe6d8b2brow0_col1 {\n",
       "            background-color:  #cdd9ec;\n",
       "            color:  #000000;\n",
       "        }    #T_c3740d96_4e03_11ea_b946_88e9fe6d8b2brow0_col2 {\n",
       "            background-color:  #3b4cc0;\n",
       "            color:  #f1f1f1;\n",
       "        }    #T_c3740d96_4e03_11ea_b946_88e9fe6d8b2brow0_col3 {\n",
       "            background-color:  #3b4cc0;\n",
       "            color:  #f1f1f1;\n",
       "        }    #T_c3740d96_4e03_11ea_b946_88e9fe6d8b2brow0_col4 {\n",
       "            background-color:  #3b4cc0;\n",
       "            color:  #f1f1f1;\n",
       "        }    #T_c3740d96_4e03_11ea_b946_88e9fe6d8b2brow0_col5 {\n",
       "            background-color:  #3b4cc0;\n",
       "            color:  #f1f1f1;\n",
       "        }    #T_c3740d96_4e03_11ea_b946_88e9fe6d8b2brow0_col6 {\n",
       "            background-color:  #3b4cc0;\n",
       "            color:  #f1f1f1;\n",
       "        }    #T_c3740d96_4e03_11ea_b946_88e9fe6d8b2brow0_col7 {\n",
       "            background-color:  #3b4cc0;\n",
       "            color:  #f1f1f1;\n",
       "        }    #T_c3740d96_4e03_11ea_b946_88e9fe6d8b2brow0_col8 {\n",
       "            background-color:  #3b4cc0;\n",
       "            color:  #f1f1f1;\n",
       "        }    #T_c3740d96_4e03_11ea_b946_88e9fe6d8b2brow0_col9 {\n",
       "            background-color:  #3b4cc0;\n",
       "            color:  #f1f1f1;\n",
       "        }    #T_c3740d96_4e03_11ea_b946_88e9fe6d8b2brow1_col0 {\n",
       "            background-color:  #edd1c2;\n",
       "            color:  #000000;\n",
       "        }    #T_c3740d96_4e03_11ea_b946_88e9fe6d8b2brow1_col1 {\n",
       "            background-color:  #b40426;\n",
       "            color:  #f1f1f1;\n",
       "        }    #T_c3740d96_4e03_11ea_b946_88e9fe6d8b2brow1_col2 {\n",
       "            background-color:  #7da0f9;\n",
       "            color:  #000000;\n",
       "        }    #T_c3740d96_4e03_11ea_b946_88e9fe6d8b2brow1_col3 {\n",
       "            background-color:  #88abfd;\n",
       "            color:  #000000;\n",
       "        }    #T_c3740d96_4e03_11ea_b946_88e9fe6d8b2brow1_col4 {\n",
       "            background-color:  #85a8fc;\n",
       "            color:  #000000;\n",
       "        }    #T_c3740d96_4e03_11ea_b946_88e9fe6d8b2brow1_col5 {\n",
       "            background-color:  #7a9df8;\n",
       "            color:  #000000;\n",
       "        }    #T_c3740d96_4e03_11ea_b946_88e9fe6d8b2brow1_col6 {\n",
       "            background-color:  #89acfd;\n",
       "            color:  #000000;\n",
       "        }    #T_c3740d96_4e03_11ea_b946_88e9fe6d8b2brow1_col7 {\n",
       "            background-color:  #84a7fc;\n",
       "            color:  #000000;\n",
       "        }    #T_c3740d96_4e03_11ea_b946_88e9fe6d8b2brow1_col8 {\n",
       "            background-color:  #86a9fc;\n",
       "            color:  #000000;\n",
       "        }    #T_c3740d96_4e03_11ea_b946_88e9fe6d8b2brow1_col9 {\n",
       "            background-color:  #82a6fb;\n",
       "            color:  #000000;\n",
       "        }    #T_c3740d96_4e03_11ea_b946_88e9fe6d8b2brow2_col0 {\n",
       "            background-color:  #465ecf;\n",
       "            color:  #f1f1f1;\n",
       "        }    #T_c3740d96_4e03_11ea_b946_88e9fe6d8b2brow2_col1 {\n",
       "            background-color:  #3c4ec2;\n",
       "            color:  #f1f1f1;\n",
       "        }    #T_c3740d96_4e03_11ea_b946_88e9fe6d8b2brow2_col2 {\n",
       "            background-color:  #b40426;\n",
       "            color:  #f1f1f1;\n",
       "        }    #T_c3740d96_4e03_11ea_b946_88e9fe6d8b2brow2_col3 {\n",
       "            background-color:  #ea7b60;\n",
       "            color:  #000000;\n",
       "        }    #T_c3740d96_4e03_11ea_b946_88e9fe6d8b2brow2_col4 {\n",
       "            background-color:  #ee8468;\n",
       "            color:  #000000;\n",
       "        }    #T_c3740d96_4e03_11ea_b946_88e9fe6d8b2brow2_col5 {\n",
       "            background-color:  #f1ccb8;\n",
       "            color:  #000000;\n",
       "        }    #T_c3740d96_4e03_11ea_b946_88e9fe6d8b2brow2_col6 {\n",
       "            background-color:  #f7b89c;\n",
       "            color:  #000000;\n",
       "        }    #T_c3740d96_4e03_11ea_b946_88e9fe6d8b2brow2_col7 {\n",
       "            background-color:  #f6a586;\n",
       "            color:  #000000;\n",
       "        }    #T_c3740d96_4e03_11ea_b946_88e9fe6d8b2brow2_col8 {\n",
       "            background-color:  #f08a6c;\n",
       "            color:  #000000;\n",
       "        }    #T_c3740d96_4e03_11ea_b946_88e9fe6d8b2brow2_col9 {\n",
       "            background-color:  #f29072;\n",
       "            color:  #000000;\n",
       "        }    #T_c3740d96_4e03_11ea_b946_88e9fe6d8b2brow3_col0 {\n",
       "            background-color:  #3b4cc0;\n",
       "            color:  #f1f1f1;\n",
       "        }    #T_c3740d96_4e03_11ea_b946_88e9fe6d8b2brow3_col1 {\n",
       "            background-color:  #3c4ec2;\n",
       "            color:  #f1f1f1;\n",
       "        }    #T_c3740d96_4e03_11ea_b946_88e9fe6d8b2brow3_col2 {\n",
       "            background-color:  #ec7f63;\n",
       "            color:  #000000;\n",
       "        }    #T_c3740d96_4e03_11ea_b946_88e9fe6d8b2brow3_col3 {\n",
       "            background-color:  #b40426;\n",
       "            color:  #f1f1f1;\n",
       "        }    #T_c3740d96_4e03_11ea_b946_88e9fe6d8b2brow3_col4 {\n",
       "            background-color:  #c32e31;\n",
       "            color:  #f1f1f1;\n",
       "        }    #T_c3740d96_4e03_11ea_b946_88e9fe6d8b2brow3_col5 {\n",
       "            background-color:  #f39475;\n",
       "            color:  #000000;\n",
       "        }    #T_c3740d96_4e03_11ea_b946_88e9fe6d8b2brow3_col6 {\n",
       "            background-color:  #ec7f63;\n",
       "            color:  #000000;\n",
       "        }    #T_c3740d96_4e03_11ea_b946_88e9fe6d8b2brow3_col7 {\n",
       "            background-color:  #e26952;\n",
       "            color:  #000000;\n",
       "        }    #T_c3740d96_4e03_11ea_b946_88e9fe6d8b2brow3_col8 {\n",
       "            background-color:  #c73635;\n",
       "            color:  #f1f1f1;\n",
       "        }    #T_c3740d96_4e03_11ea_b946_88e9fe6d8b2brow3_col9 {\n",
       "            background-color:  #cd423b;\n",
       "            color:  #f1f1f1;\n",
       "        }    #T_c3740d96_4e03_11ea_b946_88e9fe6d8b2brow4_col0 {\n",
       "            background-color:  #3e51c5;\n",
       "            color:  #f1f1f1;\n",
       "        }    #T_c3740d96_4e03_11ea_b946_88e9fe6d8b2brow4_col1 {\n",
       "            background-color:  #3d50c3;\n",
       "            color:  #f1f1f1;\n",
       "        }    #T_c3740d96_4e03_11ea_b946_88e9fe6d8b2brow4_col2 {\n",
       "            background-color:  #ef886b;\n",
       "            color:  #000000;\n",
       "        }    #T_c3740d96_4e03_11ea_b946_88e9fe6d8b2brow4_col3 {\n",
       "            background-color:  #c32e31;\n",
       "            color:  #f1f1f1;\n",
       "        }    #T_c3740d96_4e03_11ea_b946_88e9fe6d8b2brow4_col4 {\n",
       "            background-color:  #b40426;\n",
       "            color:  #f1f1f1;\n",
       "        }    #T_c3740d96_4e03_11ea_b946_88e9fe6d8b2brow4_col5 {\n",
       "            background-color:  #ebd3c6;\n",
       "            color:  #000000;\n",
       "        }    #T_c3740d96_4e03_11ea_b946_88e9fe6d8b2brow4_col6 {\n",
       "            background-color:  #f29072;\n",
       "            color:  #000000;\n",
       "        }    #T_c3740d96_4e03_11ea_b946_88e9fe6d8b2brow4_col7 {\n",
       "            background-color:  #e16751;\n",
       "            color:  #000000;\n",
       "        }    #T_c3740d96_4e03_11ea_b946_88e9fe6d8b2brow4_col8 {\n",
       "            background-color:  #c83836;\n",
       "            color:  #f1f1f1;\n",
       "        }    #T_c3740d96_4e03_11ea_b946_88e9fe6d8b2brow4_col9 {\n",
       "            background-color:  #c83836;\n",
       "            color:  #f1f1f1;\n",
       "        }    #T_c3740d96_4e03_11ea_b946_88e9fe6d8b2brow5_col0 {\n",
       "            background-color:  #4e68d8;\n",
       "            color:  #000000;\n",
       "        }    #T_c3740d96_4e03_11ea_b946_88e9fe6d8b2brow5_col1 {\n",
       "            background-color:  #4055c8;\n",
       "            color:  #f1f1f1;\n",
       "        }    #T_c3740d96_4e03_11ea_b946_88e9fe6d8b2brow5_col2 {\n",
       "            background-color:  #f2c9b4;\n",
       "            color:  #000000;\n",
       "        }    #T_c3740d96_4e03_11ea_b946_88e9fe6d8b2brow5_col3 {\n",
       "            background-color:  #f18d6f;\n",
       "            color:  #000000;\n",
       "        }    #T_c3740d96_4e03_11ea_b946_88e9fe6d8b2brow5_col4 {\n",
       "            background-color:  #efcebd;\n",
       "            color:  #000000;\n",
       "        }    #T_c3740d96_4e03_11ea_b946_88e9fe6d8b2brow5_col5 {\n",
       "            background-color:  #b40426;\n",
       "            color:  #f1f1f1;\n",
       "        }    #T_c3740d96_4e03_11ea_b946_88e9fe6d8b2brow5_col6 {\n",
       "            background-color:  #f7b194;\n",
       "            color:  #000000;\n",
       "        }    #T_c3740d96_4e03_11ea_b946_88e9fe6d8b2brow5_col7 {\n",
       "            background-color:  #f2c9b4;\n",
       "            color:  #000000;\n",
       "        }    #T_c3740d96_4e03_11ea_b946_88e9fe6d8b2brow5_col8 {\n",
       "            background-color:  #f7b497;\n",
       "            color:  #000000;\n",
       "        }    #T_c3740d96_4e03_11ea_b946_88e9fe6d8b2brow5_col9 {\n",
       "            background-color:  #f5c1a9;\n",
       "            color:  #000000;\n",
       "        }    #T_c3740d96_4e03_11ea_b946_88e9fe6d8b2brow6_col0 {\n",
       "            background-color:  #445acc;\n",
       "            color:  #f1f1f1;\n",
       "        }    #T_c3740d96_4e03_11ea_b946_88e9fe6d8b2brow6_col1 {\n",
       "            background-color:  #465ecf;\n",
       "            color:  #f1f1f1;\n",
       "        }    #T_c3740d96_4e03_11ea_b946_88e9fe6d8b2brow6_col2 {\n",
       "            background-color:  #f7b99e;\n",
       "            color:  #000000;\n",
       "        }    #T_c3740d96_4e03_11ea_b946_88e9fe6d8b2brow6_col3 {\n",
       "            background-color:  #eb7d62;\n",
       "            color:  #000000;\n",
       "        }    #T_c3740d96_4e03_11ea_b946_88e9fe6d8b2brow6_col4 {\n",
       "            background-color:  #f18f71;\n",
       "            color:  #000000;\n",
       "        }    #T_c3740d96_4e03_11ea_b946_88e9fe6d8b2brow6_col5 {\n",
       "            background-color:  #f7b497;\n",
       "            color:  #000000;\n",
       "        }    #T_c3740d96_4e03_11ea_b946_88e9fe6d8b2brow6_col6 {\n",
       "            background-color:  #b40426;\n",
       "            color:  #f1f1f1;\n",
       "        }    #T_c3740d96_4e03_11ea_b946_88e9fe6d8b2brow6_col7 {\n",
       "            background-color:  #dd5f4b;\n",
       "            color:  #000000;\n",
       "        }    #T_c3740d96_4e03_11ea_b946_88e9fe6d8b2brow6_col8 {\n",
       "            background-color:  #dc5d4a;\n",
       "            color:  #000000;\n",
       "        }    #T_c3740d96_4e03_11ea_b946_88e9fe6d8b2brow6_col9 {\n",
       "            background-color:  #ef886b;\n",
       "            color:  #000000;\n",
       "        }    #T_c3740d96_4e03_11ea_b946_88e9fe6d8b2brow7_col0 {\n",
       "            background-color:  #4055c8;\n",
       "            color:  #f1f1f1;\n",
       "        }    #T_c3740d96_4e03_11ea_b946_88e9fe6d8b2brow7_col1 {\n",
       "            background-color:  #3e51c5;\n",
       "            color:  #f1f1f1;\n",
       "        }    #T_c3740d96_4e03_11ea_b946_88e9fe6d8b2brow7_col2 {\n",
       "            background-color:  #f7a688;\n",
       "            color:  #000000;\n",
       "        }    #T_c3740d96_4e03_11ea_b946_88e9fe6d8b2brow7_col3 {\n",
       "            background-color:  #e16751;\n",
       "            color:  #000000;\n",
       "        }    #T_c3740d96_4e03_11ea_b946_88e9fe6d8b2brow7_col4 {\n",
       "            background-color:  #e0654f;\n",
       "            color:  #000000;\n",
       "        }    #T_c3740d96_4e03_11ea_b946_88e9fe6d8b2brow7_col5 {\n",
       "            background-color:  #f1cdba;\n",
       "            color:  #000000;\n",
       "        }    #T_c3740d96_4e03_11ea_b946_88e9fe6d8b2brow7_col6 {\n",
       "            background-color:  #dd5f4b;\n",
       "            color:  #000000;\n",
       "        }    #T_c3740d96_4e03_11ea_b946_88e9fe6d8b2brow7_col7 {\n",
       "            background-color:  #b40426;\n",
       "            color:  #f1f1f1;\n",
       "        }    #T_c3740d96_4e03_11ea_b946_88e9fe6d8b2brow7_col8 {\n",
       "            background-color:  #d0473d;\n",
       "            color:  #f1f1f1;\n",
       "        }    #T_c3740d96_4e03_11ea_b946_88e9fe6d8b2brow7_col9 {\n",
       "            background-color:  #e26952;\n",
       "            color:  #000000;\n",
       "        }    #T_c3740d96_4e03_11ea_b946_88e9fe6d8b2brow8_col0 {\n",
       "            background-color:  #3b4cc0;\n",
       "            color:  #f1f1f1;\n",
       "        }    #T_c3740d96_4e03_11ea_b946_88e9fe6d8b2brow8_col1 {\n",
       "            background-color:  #3b4cc0;\n",
       "            color:  #f1f1f1;\n",
       "        }    #T_c3740d96_4e03_11ea_b946_88e9fe6d8b2brow8_col2 {\n",
       "            background-color:  #f18d6f;\n",
       "            color:  #000000;\n",
       "        }    #T_c3740d96_4e03_11ea_b946_88e9fe6d8b2brow8_col3 {\n",
       "            background-color:  #c73635;\n",
       "            color:  #f1f1f1;\n",
       "        }    #T_c3740d96_4e03_11ea_b946_88e9fe6d8b2brow8_col4 {\n",
       "            background-color:  #c83836;\n",
       "            color:  #f1f1f1;\n",
       "        }    #T_c3740d96_4e03_11ea_b946_88e9fe6d8b2brow8_col5 {\n",
       "            background-color:  #f7bca1;\n",
       "            color:  #000000;\n",
       "        }    #T_c3740d96_4e03_11ea_b946_88e9fe6d8b2brow8_col6 {\n",
       "            background-color:  #dd5f4b;\n",
       "            color:  #000000;\n",
       "        }    #T_c3740d96_4e03_11ea_b946_88e9fe6d8b2brow8_col7 {\n",
       "            background-color:  #d0473d;\n",
       "            color:  #f1f1f1;\n",
       "        }    #T_c3740d96_4e03_11ea_b946_88e9fe6d8b2brow8_col8 {\n",
       "            background-color:  #b40426;\n",
       "            color:  #f1f1f1;\n",
       "        }    #T_c3740d96_4e03_11ea_b946_88e9fe6d8b2brow8_col9 {\n",
       "            background-color:  #cc403a;\n",
       "            color:  #f1f1f1;\n",
       "        }    #T_c3740d96_4e03_11ea_b946_88e9fe6d8b2brow9_col0 {\n",
       "            background-color:  #3e51c5;\n",
       "            color:  #f1f1f1;\n",
       "        }    #T_c3740d96_4e03_11ea_b946_88e9fe6d8b2brow9_col1 {\n",
       "            background-color:  #3b4cc0;\n",
       "            color:  #f1f1f1;\n",
       "        }    #T_c3740d96_4e03_11ea_b946_88e9fe6d8b2brow9_col2 {\n",
       "            background-color:  #f39475;\n",
       "            color:  #000000;\n",
       "        }    #T_c3740d96_4e03_11ea_b946_88e9fe6d8b2brow9_col3 {\n",
       "            background-color:  #cc403a;\n",
       "            color:  #f1f1f1;\n",
       "        }    #T_c3740d96_4e03_11ea_b946_88e9fe6d8b2brow9_col4 {\n",
       "            background-color:  #c83836;\n",
       "            color:  #f1f1f1;\n",
       "        }    #T_c3740d96_4e03_11ea_b946_88e9fe6d8b2brow9_col5 {\n",
       "            background-color:  #f3c7b1;\n",
       "            color:  #000000;\n",
       "        }    #T_c3740d96_4e03_11ea_b946_88e9fe6d8b2brow9_col6 {\n",
       "            background-color:  #f08a6c;\n",
       "            color:  #000000;\n",
       "        }    #T_c3740d96_4e03_11ea_b946_88e9fe6d8b2brow9_col7 {\n",
       "            background-color:  #e26952;\n",
       "            color:  #000000;\n",
       "        }    #T_c3740d96_4e03_11ea_b946_88e9fe6d8b2brow9_col8 {\n",
       "            background-color:  #cc403a;\n",
       "            color:  #f1f1f1;\n",
       "        }    #T_c3740d96_4e03_11ea_b946_88e9fe6d8b2brow9_col9 {\n",
       "            background-color:  #b40426;\n",
       "            color:  #f1f1f1;\n",
       "        }</style><table id=\"T_c3740d96_4e03_11ea_b946_88e9fe6d8b2b\" ><thead>    <tr>        <th class=\"blank level0\" ></th>        <th class=\"col_heading level0 col0\" >Player Name</th>        <th class=\"col_heading level0 col1\" >team</th>        <th class=\"col_heading level0 col2\" >Actual FP</th>        <th class=\"col_heading level0 col3\" >Avg Proj</th>        <th class=\"col_heading level0 col4\" >Salary</th>        <th class=\"col_heading level0 col5\" >Avg Value Proj</th>        <th class=\"col_heading level0 col6\" >Avg Skewed Min</th>        <th class=\"col_heading level0 col7\" >Avg Skewed FGA</th>        <th class=\"col_heading level0 col8\" >Avg Skewed FP</th>        <th class=\"col_heading level0 col9\" >Avg L5 PPG</th>    </tr></thead><tbody>\n",
       "                <tr>\n",
       "                        <th id=\"T_c3740d96_4e03_11ea_b946_88e9fe6d8b2blevel0_row0\" class=\"row_heading level0 row0\" >Player Name</th>\n",
       "                        <td id=\"T_c3740d96_4e03_11ea_b946_88e9fe6d8b2brow0_col0\" class=\"data row0 col0\" >1</td>\n",
       "                        <td id=\"T_c3740d96_4e03_11ea_b946_88e9fe6d8b2brow0_col1\" class=\"data row0 col1\" >0.431645</td>\n",
       "                        <td id=\"T_c3740d96_4e03_11ea_b946_88e9fe6d8b2brow0_col2\" class=\"data row0 col2\" >-0.275115</td>\n",
       "                        <td id=\"T_c3740d96_4e03_11ea_b946_88e9fe6d8b2brow0_col3\" class=\"data row0 col3\" >-0.332021</td>\n",
       "                        <td id=\"T_c3740d96_4e03_11ea_b946_88e9fe6d8b2brow0_col4\" class=\"data row0 col4\" >-0.311852</td>\n",
       "                        <td id=\"T_c3740d96_4e03_11ea_b946_88e9fe6d8b2brow0_col5\" class=\"data row0 col5\" >-0.244888</td>\n",
       "                        <td id=\"T_c3740d96_4e03_11ea_b946_88e9fe6d8b2brow0_col6\" class=\"data row0 col6\" >-0.287855</td>\n",
       "                        <td id=\"T_c3740d96_4e03_11ea_b946_88e9fe6d8b2brow0_col7\" class=\"data row0 col7\" >-0.302281</td>\n",
       "                        <td id=\"T_c3740d96_4e03_11ea_b946_88e9fe6d8b2brow0_col8\" class=\"data row0 col8\" >-0.328867</td>\n",
       "                        <td id=\"T_c3740d96_4e03_11ea_b946_88e9fe6d8b2brow0_col9\" class=\"data row0 col9\" >-0.313767</td>\n",
       "            </tr>\n",
       "            <tr>\n",
       "                        <th id=\"T_c3740d96_4e03_11ea_b946_88e9fe6d8b2blevel0_row1\" class=\"row_heading level0 row1\" >team</th>\n",
       "                        <td id=\"T_c3740d96_4e03_11ea_b946_88e9fe6d8b2brow1_col0\" class=\"data row1 col0\" >0.431645</td>\n",
       "                        <td id=\"T_c3740d96_4e03_11ea_b946_88e9fe6d8b2brow1_col1\" class=\"data row1 col1\" >1</td>\n",
       "                        <td id=\"T_c3740d96_4e03_11ea_b946_88e9fe6d8b2brow1_col2\" class=\"data row1 col2\" >-0.0147184</td>\n",
       "                        <td id=\"T_c3740d96_4e03_11ea_b946_88e9fe6d8b2brow1_col3\" class=\"data row1 col3\" >-0.0160908</td>\n",
       "                        <td id=\"T_c3740d96_4e03_11ea_b946_88e9fe6d8b2brow1_col4\" class=\"data row1 col4\" >-0.0117428</td>\n",
       "                        <td id=\"T_c3740d96_4e03_11ea_b946_88e9fe6d8b2brow1_col5\" class=\"data row1 col5\" >0.000864827</td>\n",
       "                        <td id=\"T_c3740d96_4e03_11ea_b946_88e9fe6d8b2brow1_col6\" class=\"data row1 col6\" >0.0194733</td>\n",
       "                        <td id=\"T_c3740d96_4e03_11ea_b946_88e9fe6d8b2brow1_col7\" class=\"data row1 col7\" >-0.0088116</td>\n",
       "                        <td id=\"T_c3740d96_4e03_11ea_b946_88e9fe6d8b2brow1_col8\" class=\"data row1 col8\" >-0.0216036</td>\n",
       "                        <td id=\"T_c3740d96_4e03_11ea_b946_88e9fe6d8b2brow1_col9\" class=\"data row1 col9\" >-0.0218954</td>\n",
       "            </tr>\n",
       "            <tr>\n",
       "                        <th id=\"T_c3740d96_4e03_11ea_b946_88e9fe6d8b2blevel0_row2\" class=\"row_heading level0 row2\" >Actual FP</th>\n",
       "                        <td id=\"T_c3740d96_4e03_11ea_b946_88e9fe6d8b2brow2_col0\" class=\"data row2 col0\" >-0.275115</td>\n",
       "                        <td id=\"T_c3740d96_4e03_11ea_b946_88e9fe6d8b2brow2_col1\" class=\"data row2 col1\" >-0.0147184</td>\n",
       "                        <td id=\"T_c3740d96_4e03_11ea_b946_88e9fe6d8b2brow2_col2\" class=\"data row2 col2\" >1</td>\n",
       "                        <td id=\"T_c3740d96_4e03_11ea_b946_88e9fe6d8b2brow2_col3\" class=\"data row2 col3\" >0.760457</td>\n",
       "                        <td id=\"T_c3740d96_4e03_11ea_b946_88e9fe6d8b2brow2_col4\" class=\"data row2 col4\" >0.735462</td>\n",
       "                        <td id=\"T_c3740d96_4e03_11ea_b946_88e9fe6d8b2brow2_col5\" class=\"data row2 col5\" >0.497757</td>\n",
       "                        <td id=\"T_c3740d96_4e03_11ea_b946_88e9fe6d8b2brow2_col6\" class=\"data row2 col6\" >0.568143</td>\n",
       "                        <td id=\"T_c3740d96_4e03_11ea_b946_88e9fe6d8b2brow2_col7\" class=\"data row2 col7\" >0.638494</td>\n",
       "                        <td id=\"T_c3740d96_4e03_11ea_b946_88e9fe6d8b2brow2_col8\" class=\"data row2 col8\" >0.719215</td>\n",
       "                        <td id=\"T_c3740d96_4e03_11ea_b946_88e9fe6d8b2brow2_col9\" class=\"data row2 col9\" >0.699953</td>\n",
       "            </tr>\n",
       "            <tr>\n",
       "                        <th id=\"T_c3740d96_4e03_11ea_b946_88e9fe6d8b2blevel0_row3\" class=\"row_heading level0 row3\" >Avg Proj</th>\n",
       "                        <td id=\"T_c3740d96_4e03_11ea_b946_88e9fe6d8b2brow3_col0\" class=\"data row3 col0\" >-0.332021</td>\n",
       "                        <td id=\"T_c3740d96_4e03_11ea_b946_88e9fe6d8b2brow3_col1\" class=\"data row3 col1\" >-0.0160908</td>\n",
       "                        <td id=\"T_c3740d96_4e03_11ea_b946_88e9fe6d8b2brow3_col2\" class=\"data row3 col2\" >0.760457</td>\n",
       "                        <td id=\"T_c3740d96_4e03_11ea_b946_88e9fe6d8b2brow3_col3\" class=\"data row3 col3\" >1</td>\n",
       "                        <td id=\"T_c3740d96_4e03_11ea_b946_88e9fe6d8b2brow3_col4\" class=\"data row3 col4\" >0.947578</td>\n",
       "                        <td id=\"T_c3740d96_4e03_11ea_b946_88e9fe6d8b2brow3_col5\" class=\"data row3 col5\" >0.703839</td>\n",
       "                        <td id=\"T_c3740d96_4e03_11ea_b946_88e9fe6d8b2brow3_col6\" class=\"data row3 col6\" >0.754612</td>\n",
       "                        <td id=\"T_c3740d96_4e03_11ea_b946_88e9fe6d8b2brow3_col7\" class=\"data row3 col7\" >0.816708</td>\n",
       "                        <td id=\"T_c3740d96_4e03_11ea_b946_88e9fe6d8b2brow3_col8\" class=\"data row3 col8\" >0.930512</td>\n",
       "                        <td id=\"T_c3740d96_4e03_11ea_b946_88e9fe6d8b2brow3_col9\" class=\"data row3 col9\" >0.906964</td>\n",
       "            </tr>\n",
       "            <tr>\n",
       "                        <th id=\"T_c3740d96_4e03_11ea_b946_88e9fe6d8b2blevel0_row4\" class=\"row_heading level0 row4\" >Salary</th>\n",
       "                        <td id=\"T_c3740d96_4e03_11ea_b946_88e9fe6d8b2brow4_col0\" class=\"data row4 col0\" >-0.311852</td>\n",
       "                        <td id=\"T_c3740d96_4e03_11ea_b946_88e9fe6d8b2brow4_col1\" class=\"data row4 col1\" >-0.0117428</td>\n",
       "                        <td id=\"T_c3740d96_4e03_11ea_b946_88e9fe6d8b2brow4_col2\" class=\"data row4 col2\" >0.735462</td>\n",
       "                        <td id=\"T_c3740d96_4e03_11ea_b946_88e9fe6d8b2brow4_col3\" class=\"data row4 col3\" >0.947578</td>\n",
       "                        <td id=\"T_c3740d96_4e03_11ea_b946_88e9fe6d8b2brow4_col4\" class=\"data row4 col4\" >1</td>\n",
       "                        <td id=\"T_c3740d96_4e03_11ea_b946_88e9fe6d8b2brow4_col5\" class=\"data row4 col5\" >0.45507</td>\n",
       "                        <td id=\"T_c3740d96_4e03_11ea_b946_88e9fe6d8b2brow4_col6\" class=\"data row4 col6\" >0.705806</td>\n",
       "                        <td id=\"T_c3740d96_4e03_11ea_b946_88e9fe6d8b2brow4_col7\" class=\"data row4 col7\" >0.821013</td>\n",
       "                        <td id=\"T_c3740d96_4e03_11ea_b946_88e9fe6d8b2brow4_col8\" class=\"data row4 col8\" >0.923239</td>\n",
       "                        <td id=\"T_c3740d96_4e03_11ea_b946_88e9fe6d8b2brow4_col9\" class=\"data row4 col9\" >0.923293</td>\n",
       "            </tr>\n",
       "            <tr>\n",
       "                        <th id=\"T_c3740d96_4e03_11ea_b946_88e9fe6d8b2blevel0_row5\" class=\"row_heading level0 row5\" >Avg Value Proj</th>\n",
       "                        <td id=\"T_c3740d96_4e03_11ea_b946_88e9fe6d8b2brow5_col0\" class=\"data row5 col0\" >-0.244888</td>\n",
       "                        <td id=\"T_c3740d96_4e03_11ea_b946_88e9fe6d8b2brow5_col1\" class=\"data row5 col1\" >0.000864827</td>\n",
       "                        <td id=\"T_c3740d96_4e03_11ea_b946_88e9fe6d8b2brow5_col2\" class=\"data row5 col2\" >0.497757</td>\n",
       "                        <td id=\"T_c3740d96_4e03_11ea_b946_88e9fe6d8b2brow5_col3\" class=\"data row5 col3\" >0.703839</td>\n",
       "                        <td id=\"T_c3740d96_4e03_11ea_b946_88e9fe6d8b2brow5_col4\" class=\"data row5 col4\" >0.45507</td>\n",
       "                        <td id=\"T_c3740d96_4e03_11ea_b946_88e9fe6d8b2brow5_col5\" class=\"data row5 col5\" >1</td>\n",
       "                        <td id=\"T_c3740d96_4e03_11ea_b946_88e9fe6d8b2brow5_col6\" class=\"data row5 col6\" >0.597419</td>\n",
       "                        <td id=\"T_c3740d96_4e03_11ea_b946_88e9fe6d8b2brow5_col7\" class=\"data row5 col7\" >0.490713</td>\n",
       "                        <td id=\"T_c3740d96_4e03_11ea_b946_88e9fe6d8b2brow5_col8\" class=\"data row5 col8\" >0.57014</td>\n",
       "                        <td id=\"T_c3740d96_4e03_11ea_b946_88e9fe6d8b2brow5_col9\" class=\"data row5 col9\" >0.519352</td>\n",
       "            </tr>\n",
       "            <tr>\n",
       "                        <th id=\"T_c3740d96_4e03_11ea_b946_88e9fe6d8b2blevel0_row6\" class=\"row_heading level0 row6\" >Avg Skewed Min</th>\n",
       "                        <td id=\"T_c3740d96_4e03_11ea_b946_88e9fe6d8b2brow6_col0\" class=\"data row6 col0\" >-0.287855</td>\n",
       "                        <td id=\"T_c3740d96_4e03_11ea_b946_88e9fe6d8b2brow6_col1\" class=\"data row6 col1\" >0.0194733</td>\n",
       "                        <td id=\"T_c3740d96_4e03_11ea_b946_88e9fe6d8b2brow6_col2\" class=\"data row6 col2\" >0.568143</td>\n",
       "                        <td id=\"T_c3740d96_4e03_11ea_b946_88e9fe6d8b2brow6_col3\" class=\"data row6 col3\" >0.754612</td>\n",
       "                        <td id=\"T_c3740d96_4e03_11ea_b946_88e9fe6d8b2brow6_col4\" class=\"data row6 col4\" >0.705806</td>\n",
       "                        <td id=\"T_c3740d96_4e03_11ea_b946_88e9fe6d8b2brow6_col5\" class=\"data row6 col5\" >0.597419</td>\n",
       "                        <td id=\"T_c3740d96_4e03_11ea_b946_88e9fe6d8b2brow6_col6\" class=\"data row6 col6\" >1</td>\n",
       "                        <td id=\"T_c3740d96_4e03_11ea_b946_88e9fe6d8b2brow6_col7\" class=\"data row6 col7\" >0.839473</td>\n",
       "                        <td id=\"T_c3740d96_4e03_11ea_b946_88e9fe6d8b2brow6_col8\" class=\"data row6 col8\" >0.844037</td>\n",
       "                        <td id=\"T_c3740d96_4e03_11ea_b946_88e9fe6d8b2brow6_col9\" class=\"data row6 col9\" >0.725093</td>\n",
       "            </tr>\n",
       "            <tr>\n",
       "                        <th id=\"T_c3740d96_4e03_11ea_b946_88e9fe6d8b2blevel0_row7\" class=\"row_heading level0 row7\" >Avg Skewed FGA</th>\n",
       "                        <td id=\"T_c3740d96_4e03_11ea_b946_88e9fe6d8b2brow7_col0\" class=\"data row7 col0\" >-0.302281</td>\n",
       "                        <td id=\"T_c3740d96_4e03_11ea_b946_88e9fe6d8b2brow7_col1\" class=\"data row7 col1\" >-0.0088116</td>\n",
       "                        <td id=\"T_c3740d96_4e03_11ea_b946_88e9fe6d8b2brow7_col2\" class=\"data row7 col2\" >0.638494</td>\n",
       "                        <td id=\"T_c3740d96_4e03_11ea_b946_88e9fe6d8b2brow7_col3\" class=\"data row7 col3\" >0.816708</td>\n",
       "                        <td id=\"T_c3740d96_4e03_11ea_b946_88e9fe6d8b2brow7_col4\" class=\"data row7 col4\" >0.821013</td>\n",
       "                        <td id=\"T_c3740d96_4e03_11ea_b946_88e9fe6d8b2brow7_col5\" class=\"data row7 col5\" >0.490713</td>\n",
       "                        <td id=\"T_c3740d96_4e03_11ea_b946_88e9fe6d8b2brow7_col6\" class=\"data row7 col6\" >0.839473</td>\n",
       "                        <td id=\"T_c3740d96_4e03_11ea_b946_88e9fe6d8b2brow7_col7\" class=\"data row7 col7\" >1</td>\n",
       "                        <td id=\"T_c3740d96_4e03_11ea_b946_88e9fe6d8b2brow7_col8\" class=\"data row7 col8\" >0.893921</td>\n",
       "                        <td id=\"T_c3740d96_4e03_11ea_b946_88e9fe6d8b2brow7_col9\" class=\"data row7 col9\" >0.812886</td>\n",
       "            </tr>\n",
       "            <tr>\n",
       "                        <th id=\"T_c3740d96_4e03_11ea_b946_88e9fe6d8b2blevel0_row8\" class=\"row_heading level0 row8\" >Avg Skewed FP</th>\n",
       "                        <td id=\"T_c3740d96_4e03_11ea_b946_88e9fe6d8b2brow8_col0\" class=\"data row8 col0\" >-0.328867</td>\n",
       "                        <td id=\"T_c3740d96_4e03_11ea_b946_88e9fe6d8b2brow8_col1\" class=\"data row8 col1\" >-0.0216036</td>\n",
       "                        <td id=\"T_c3740d96_4e03_11ea_b946_88e9fe6d8b2brow8_col2\" class=\"data row8 col2\" >0.719215</td>\n",
       "                        <td id=\"T_c3740d96_4e03_11ea_b946_88e9fe6d8b2brow8_col3\" class=\"data row8 col3\" >0.930512</td>\n",
       "                        <td id=\"T_c3740d96_4e03_11ea_b946_88e9fe6d8b2brow8_col4\" class=\"data row8 col4\" >0.923239</td>\n",
       "                        <td id=\"T_c3740d96_4e03_11ea_b946_88e9fe6d8b2brow8_col5\" class=\"data row8 col5\" >0.57014</td>\n",
       "                        <td id=\"T_c3740d96_4e03_11ea_b946_88e9fe6d8b2brow8_col6\" class=\"data row8 col6\" >0.844037</td>\n",
       "                        <td id=\"T_c3740d96_4e03_11ea_b946_88e9fe6d8b2brow8_col7\" class=\"data row8 col7\" >0.893921</td>\n",
       "                        <td id=\"T_c3740d96_4e03_11ea_b946_88e9fe6d8b2brow8_col8\" class=\"data row8 col8\" >1</td>\n",
       "                        <td id=\"T_c3740d96_4e03_11ea_b946_88e9fe6d8b2brow8_col9\" class=\"data row8 col9\" >0.908012</td>\n",
       "            </tr>\n",
       "            <tr>\n",
       "                        <th id=\"T_c3740d96_4e03_11ea_b946_88e9fe6d8b2blevel0_row9\" class=\"row_heading level0 row9\" >Avg L5 PPG</th>\n",
       "                        <td id=\"T_c3740d96_4e03_11ea_b946_88e9fe6d8b2brow9_col0\" class=\"data row9 col0\" >-0.313767</td>\n",
       "                        <td id=\"T_c3740d96_4e03_11ea_b946_88e9fe6d8b2brow9_col1\" class=\"data row9 col1\" >-0.0218954</td>\n",
       "                        <td id=\"T_c3740d96_4e03_11ea_b946_88e9fe6d8b2brow9_col2\" class=\"data row9 col2\" >0.699953</td>\n",
       "                        <td id=\"T_c3740d96_4e03_11ea_b946_88e9fe6d8b2brow9_col3\" class=\"data row9 col3\" >0.906964</td>\n",
       "                        <td id=\"T_c3740d96_4e03_11ea_b946_88e9fe6d8b2brow9_col4\" class=\"data row9 col4\" >0.923293</td>\n",
       "                        <td id=\"T_c3740d96_4e03_11ea_b946_88e9fe6d8b2brow9_col5\" class=\"data row9 col5\" >0.519352</td>\n",
       "                        <td id=\"T_c3740d96_4e03_11ea_b946_88e9fe6d8b2brow9_col6\" class=\"data row9 col6\" >0.725093</td>\n",
       "                        <td id=\"T_c3740d96_4e03_11ea_b946_88e9fe6d8b2brow9_col7\" class=\"data row9 col7\" >0.812886</td>\n",
       "                        <td id=\"T_c3740d96_4e03_11ea_b946_88e9fe6d8b2brow9_col8\" class=\"data row9 col8\" >0.908012</td>\n",
       "                        <td id=\"T_c3740d96_4e03_11ea_b946_88e9fe6d8b2brow9_col9\" class=\"data row9 col9\" >1</td>\n",
       "            </tr>\n",
       "    </tbody></table>"
      ],
      "text/plain": [
       "<pandas.io.formats.style.Styler at 0x125477080>"
      ]
     },
     "execution_count": 349,
     "metadata": {},
     "output_type": "execute_result"
    }
   ],
   "source": [
    "corr_matrix.style.background_gradient(cmap='coolwarm')"
   ]
  },
  {
   "cell_type": "code",
   "execution_count": 350,
   "metadata": {},
   "outputs": [
    {
     "data": {
      "image/png": "[encoded data removed]",
      "text/plain": [
       "<Figure size 1440x1080 with 12 Axes>"
      ]
     },
     "metadata": {
      "needs_background": "light"
     },
     "output_type": "display_data"
    }
   ],
   "source": [
    "relevant_df.hist(bins=50, figsize=(20,15))\n",
    "plt.show()"
   ]
  },
  {
   "cell_type": "code",
   "execution_count": 353,
   "metadata": {},
   "outputs": [
    {
     "name": "stdout",
     "output_type": "stream",
     "text": [
      "3000 thousand , rmse: 7.7341890597768\n",
      "4000 thousand , rmse: 8.307467555545008\n",
      "5000 thousand , rmse: 9.063288221017862\n",
      "6000 thousand , rmse: 10.040900561994455\n",
      "7000 thousand , rmse: 10.735497467652637\n",
      "8000 thousand , rmse: 10.653147280492547\n",
      "9000 thousand , rmse: 11.351164469996137\n",
      "10000 thousand , rmse: 13.03408515725307\n",
      "11000 thousand , rmse: 13.080549213107812\n",
      "12000 thousand , rmse: 13.922210835404503\n",
      "13000 thousand , rmse: 15.618996237859232\n"
     ]
    }
   ],
   "source": [
    "def findSalaryRangeProjectionErrors(df):\n",
    "    for thousand in range (3000, 14000, 1000):\n",
    "        proj = df[(df['Salary'] > thousand-1000) & (df['Salary'] <= thousand)]['Avg Proj']\n",
    "        actual = df[(df['Salary'] > thousand-1000) & (df['Salary'] <= thousand)]['Actual FP']\n",
    "        mse = mean_squared_error(actual, proj)\n",
    "        rmse = np.sqrt(mse)\n",
    "        print(\"{} thousand , rmse: {}\".format(thousand, rmse))\n",
    "\n",
    "findSalaryRangeProjectionErrors(relevant_df)\n",
    "        \n",
    "        "
   ]
  },
  {
   "cell_type": "code",
   "execution_count": 420,
   "metadata": {},
   "outputs": [
    {
     "data": {
      "text/plain": [
       "<matplotlib.axes._subplots.AxesSubplot at 0x13d0758d0>"
      ]
     },
     "execution_count": 420,
     "metadata": {},
     "output_type": "execute_result"
    },
    {
     "data": {
      "image/png": "[encoded data removed]",
      "text/plain": [
       "<Figure size 432x288 with 1 Axes>"
      ]
     },
     "metadata": {
      "needs_background": "light"
     },
     "output_type": "display_data"
    }
   ],
   "source": [
    "relevant_df[relevant_df['Avg Skewed Min'] < 10].plot(kind='hist', x='Avg Skewed Min', y='Actual FP')"
   ]
  },
  {
   "cell_type": "code",
   "execution_count": 425,
   "metadata": {},
   "outputs": [
    {
     "data": {
      "text/plain": [
       "<matplotlib.axes._subplots.AxesSubplot at 0x13d4da5c0>"
      ]
     },
     "execution_count": 425,
     "metadata": {},
     "output_type": "execute_result"
    },
    {
     "data": {
      "image/png": "[encoded data removed]",
      "text/plain": [
       "<Figure size 432x288 with 1 Axes>"
      ]
     },
     "metadata": {
      "needs_background": "light"
     },
     "output_type": "display_data"
    }
   ],
   "source": [
    "relevant_df[relevant_df['Avg Skewed Min'] > 10]['Actual FP'].hist()\n"
   ]
  },
  {
   "cell_type": "code",
   "execution_count": 397,
   "metadata": {},
   "outputs": [
    {
     "data": {
      "text/plain": [
       "<matplotlib.axes._subplots.AxesSubplot at 0x12acfaef0>"
      ]
     },
     "execution_count": 397,
     "metadata": {},
     "output_type": "execute_result"
    },
    {
     "data": {
      "image/png": "[encoded data removed]",
      "text/plain": [
       "<Figure size 432x288 with 1 Axes>"
      ]
     },
     "metadata": {
      "needs_background": "light"
     },
     "output_type": "display_data"
    }
   ],
   "source": [
    "relevant_df[relevant_df['Avg Value Proj'] < 3]['Actual FP'].hist()"
   ]
  },
  {
   "cell_type": "code",
   "execution_count": 398,
   "metadata": {},
   "outputs": [
    {
     "data": {
      "text/plain": [
       "<matplotlib.axes._subplots.AxesSubplot at 0x12add7978>"
      ]
     },
     "execution_count": 398,
     "metadata": {},
     "output_type": "execute_result"
    },
    {
     "data": {
      "image/png": "[encoded data removed]",
      "text/plain": [
       "<Figure size 432x288 with 1 Axes>"
      ]
     },
     "metadata": {
      "needs_background": "light"
     },
     "output_type": "display_data"
    }
   ],
   "source": [
    "relevant_df[relevant_df['Avg Value Proj'] > 3]['Actual FP'].hist()"
   ]
  },
  {
   "cell_type": "code",
   "execution_count": 436,
   "metadata": {},
   "outputs": [
    {
     "data": {
      "text/plain": [
       "<matplotlib.axes._subplots.AxesSubplot at 0x12e85f940>"
      ]
     },
     "execution_count": 436,
     "metadata": {},
     "output_type": "execute_result"
    },
    {
     "data": {
      "image/png": "[encoded data removed]",
      "text/plain": [
       "<Figure size 432x288 with 1 Axes>"
      ]
     },
     "metadata": {
      "needs_background": "light"
     },
     "output_type": "display_data"
    }
   ],
   "source": [
    "relevant_df[relevant_df['Salary'] <= 3000]['Actual FP'].hist()"
   ]
  },
  {
   "cell_type": "code",
   "execution_count": 437,
   "metadata": {},
   "outputs": [
    {
     "data": {
      "text/plain": [
       "<matplotlib.axes._subplots.AxesSubplot at 0x12f0852e8>"
      ]
     },
     "execution_count": 437,
     "metadata": {},
     "output_type": "execute_result"
    },
    {
     "data": {
      "image/png": "[encoded data removed]",
      "text/plain": [
       "<Figure size 432x288 with 1 Axes>"
      ]
     },
     "metadata": {
      "needs_background": "light"
     },
     "output_type": "display_data"
    }
   ],
   "source": [
    "relevant_df[relevant_df['Salary'] > 3000]['Actual FP'].hist()"
   ]
  },
  {
   "cell_type": "code",
   "execution_count": 440,
   "metadata": {},
   "outputs": [
    {
     "data": {
      "text/plain": [
       "<matplotlib.axes._subplots.AxesSubplot at 0x130d57d68>"
      ]
     },
     "execution_count": 440,
     "metadata": {},
     "output_type": "execute_result"
    },
    {
     "data": {
      "image/png": "[encoded data removed]",
      "text/plain": [
       "<Figure size 432x288 with 1 Axes>"
      ]
     },
     "metadata": {
      "needs_background": "light"
     },
     "output_type": "display_data"
    }
   ],
   "source": [
    "relevant_df[relevant_df['Avg Proj'] < 10]['Actual FP'].hist()"
   ]
  },
  {
   "cell_type": "code",
   "execution_count": 441,
   "metadata": {},
   "outputs": [
    {
     "data": {
      "text/plain": [
       "<matplotlib.axes._subplots.AxesSubplot at 0x131646940>"
      ]
     },
     "execution_count": 441,
     "metadata": {},
     "output_type": "execute_result"
    },
    {
     "data": {
      "image/png": "[encoded data removed]",
      "text/plain": [
       "<Figure size 432x288 with 1 Axes>"
      ]
     },
     "metadata": {
      "needs_background": "light"
     },
     "output_type": "display_data"
    }
   ],
   "source": [
    "relevant_df[relevant_df['Avg Proj'] > 10]['Actual FP'].hist()"
   ]
  },
  {
   "cell_type": "code",
   "execution_count": 447,
   "metadata": {},
   "outputs": [
    {
     "name": "stdout",
     "output_type": "stream",
     "text": [
      "<class 'pandas.core.frame.DataFrame'>\n",
      "Int64Index: 13678 entries, 0 to 16564\n",
      "Data columns (total 10 columns):\n",
      "Player Name       13678 non-null int64\n",
      "team              13678 non-null int64\n",
      "Actual FP         13678 non-null float64\n",
      "Avg Proj          13678 non-null float64\n",
      "Salary            13678 non-null int64\n",
      "Avg Value Proj    13678 non-null float64\n",
      "Avg Skewed Min    13678 non-null float64\n",
      "Avg Skewed FGA    13678 non-null float64\n",
      "Avg Skewed FP     13678 non-null float64\n",
      "Avg L5 PPG        13678 non-null float64\n",
      "dtypes: float64(7), int64(3)\n",
      "memory usage: 1.1 MB\n"
     ]
    }
   ],
   "source": [
    "relevant_df.info()"
   ]
  },
  {
   "cell_type": "code",
   "execution_count": 448,
   "metadata": {},
   "outputs": [],
   "source": [
    "shrink_df = relevant_df.copy()"
   ]
  },
  {
   "cell_type": "code",
   "execution_count": 449,
   "metadata": {},
   "outputs": [],
   "source": [
    "shrink_df = shrink_df[shrink_df['Salary'] > 3000]\n",
    "shrink_df = shrink_df[shrink_df['Avg Skewed Min'] > 10]\n",
    "shrink_df = shrink_df[shrink_df['Avg Value Proj'] > 3]\n",
    "shrink_df = shrink_df[shrink_df['Avg Proj'] > 10]"
   ]
  },
  {
   "cell_type": "code",
   "execution_count": 450,
   "metadata": {},
   "outputs": [
    {
     "data": {
      "image/png": "[encoded data removed]",
      "text/plain": [
       "<Figure size 1440x1080 with 12 Axes>"
      ]
     },
     "metadata": {
      "needs_background": "light"
     },
     "output_type": "display_data"
    }
   ],
   "source": [
    "shrink_df.hist(bins=50, figsize=(20,15))\n",
    "plt.show()"
   ]
  },
  {
   "cell_type": "code",
   "execution_count": 451,
   "metadata": {},
   "outputs": [],
   "source": [
    "corr_matrix_2 = shrink_df.corr()"
   ]
  },
  {
   "cell_type": "code",
   "execution_count": 452,
   "metadata": {},
   "outputs": [
    {
     "data": {
      "text/html": [
       "<style  type=\"text/css\" >\n",
       "    #T_c63520d8_4e08_11ea_b946_88e9fe6d8b2brow0_col0 {\n",
       "            background-color:  #b40426;\n",
       "            color:  #f1f1f1;\n",
       "        }    #T_c63520d8_4e08_11ea_b946_88e9fe6d8b2brow0_col1 {\n",
       "            background-color:  #d8dce2;\n",
       "            color:  #000000;\n",
       "        }    #T_c63520d8_4e08_11ea_b946_88e9fe6d8b2brow0_col2 {\n",
       "            background-color:  #3b4cc0;\n",
       "            color:  #f1f1f1;\n",
       "        }    #T_c63520d8_4e08_11ea_b946_88e9fe6d8b2brow0_col3 {\n",
       "            background-color:  #3b4cc0;\n",
       "            color:  #f1f1f1;\n",
       "        }    #T_c63520d8_4e08_11ea_b946_88e9fe6d8b2brow0_col4 {\n",
       "            background-color:  #3b4cc0;\n",
       "            color:  #f1f1f1;\n",
       "        }    #T_c63520d8_4e08_11ea_b946_88e9fe6d8b2brow0_col5 {\n",
       "            background-color:  #3b4cc0;\n",
       "            color:  #f1f1f1;\n",
       "        }    #T_c63520d8_4e08_11ea_b946_88e9fe6d8b2brow0_col6 {\n",
       "            background-color:  #3b4cc0;\n",
       "            color:  #f1f1f1;\n",
       "        }    #T_c63520d8_4e08_11ea_b946_88e9fe6d8b2brow0_col7 {\n",
       "            background-color:  #3b4cc0;\n",
       "            color:  #f1f1f1;\n",
       "        }    #T_c63520d8_4e08_11ea_b946_88e9fe6d8b2brow0_col8 {\n",
       "            background-color:  #3b4cc0;\n",
       "            color:  #f1f1f1;\n",
       "        }    #T_c63520d8_4e08_11ea_b946_88e9fe6d8b2brow0_col9 {\n",
       "            background-color:  #3b4cc0;\n",
       "            color:  #f1f1f1;\n",
       "        }    #T_c63520d8_4e08_11ea_b946_88e9fe6d8b2brow1_col0 {\n",
       "            background-color:  #efcfbf;\n",
       "            color:  #000000;\n",
       "        }    #T_c63520d8_4e08_11ea_b946_88e9fe6d8b2brow1_col1 {\n",
       "            background-color:  #b40426;\n",
       "            color:  #f1f1f1;\n",
       "        }    #T_c63520d8_4e08_11ea_b946_88e9fe6d8b2brow1_col2 {\n",
       "            background-color:  #6f92f3;\n",
       "            color:  #000000;\n",
       "        }    #T_c63520d8_4e08_11ea_b946_88e9fe6d8b2brow1_col3 {\n",
       "            background-color:  #7699f6;\n",
       "            color:  #000000;\n",
       "        }    #T_c63520d8_4e08_11ea_b946_88e9fe6d8b2brow1_col4 {\n",
       "            background-color:  #799cf8;\n",
       "            color:  #000000;\n",
       "        }    #T_c63520d8_4e08_11ea_b946_88e9fe6d8b2brow1_col5 {\n",
       "            background-color:  #5b7ae5;\n",
       "            color:  #000000;\n",
       "        }    #T_c63520d8_4e08_11ea_b946_88e9fe6d8b2brow1_col6 {\n",
       "            background-color:  #7ea1fa;\n",
       "            color:  #000000;\n",
       "        }    #T_c63520d8_4e08_11ea_b946_88e9fe6d8b2brow1_col7 {\n",
       "            background-color:  #779af7;\n",
       "            color:  #000000;\n",
       "        }    #T_c63520d8_4e08_11ea_b946_88e9fe6d8b2brow1_col8 {\n",
       "            background-color:  #779af7;\n",
       "            color:  #000000;\n",
       "        }    #T_c63520d8_4e08_11ea_b946_88e9fe6d8b2brow1_col9 {\n",
       "            background-color:  #7396f5;\n",
       "            color:  #000000;\n",
       "        }    #T_c63520d8_4e08_11ea_b946_88e9fe6d8b2brow2_col0 {\n",
       "            background-color:  #4961d2;\n",
       "            color:  #f1f1f1;\n",
       "        }    #T_c63520d8_4e08_11ea_b946_88e9fe6d8b2brow2_col1 {\n",
       "            background-color:  #3e51c5;\n",
       "            color:  #f1f1f1;\n",
       "        }    #T_c63520d8_4e08_11ea_b946_88e9fe6d8b2brow2_col2 {\n",
       "            background-color:  #b40426;\n",
       "            color:  #f1f1f1;\n",
       "        }    #T_c63520d8_4e08_11ea_b946_88e9fe6d8b2brow2_col3 {\n",
       "            background-color:  #f08a6c;\n",
       "            color:  #000000;\n",
       "        }    #T_c63520d8_4e08_11ea_b946_88e9fe6d8b2brow2_col4 {\n",
       "            background-color:  #f29274;\n",
       "            color:  #000000;\n",
       "        }    #T_c63520d8_4e08_11ea_b946_88e9fe6d8b2brow2_col5 {\n",
       "            background-color:  #d7dce3;\n",
       "            color:  #000000;\n",
       "        }    #T_c63520d8_4e08_11ea_b946_88e9fe6d8b2brow2_col6 {\n",
       "            background-color:  #f6bfa6;\n",
       "            color:  #000000;\n",
       "        }    #T_c63520d8_4e08_11ea_b946_88e9fe6d8b2brow2_col7 {\n",
       "            background-color:  #f7af91;\n",
       "            color:  #000000;\n",
       "        }    #T_c63520d8_4e08_11ea_b946_88e9fe6d8b2brow2_col8 {\n",
       "            background-color:  #f29072;\n",
       "            color:  #000000;\n",
       "        }    #T_c63520d8_4e08_11ea_b946_88e9fe6d8b2brow2_col9 {\n",
       "            background-color:  #f5a081;\n",
       "            color:  #000000;\n",
       "        }    #T_c63520d8_4e08_11ea_b946_88e9fe6d8b2brow3_col0 {\n",
       "            background-color:  #3c4ec2;\n",
       "            color:  #f1f1f1;\n",
       "        }    #T_c63520d8_4e08_11ea_b946_88e9fe6d8b2brow3_col1 {\n",
       "            background-color:  #3b4cc0;\n",
       "            color:  #f1f1f1;\n",
       "        }    #T_c63520d8_4e08_11ea_b946_88e9fe6d8b2brow3_col2 {\n",
       "            background-color:  #f18f71;\n",
       "            color:  #000000;\n",
       "        }    #T_c63520d8_4e08_11ea_b946_88e9fe6d8b2brow3_col3 {\n",
       "            background-color:  #b40426;\n",
       "            color:  #f1f1f1;\n",
       "        }    #T_c63520d8_4e08_11ea_b946_88e9fe6d8b2brow3_col4 {\n",
       "            background-color:  #bd1f2d;\n",
       "            color:  #f1f1f1;\n",
       "        }    #T_c63520d8_4e08_11ea_b946_88e9fe6d8b2brow3_col5 {\n",
       "            background-color:  #f4c6af;\n",
       "            color:  #000000;\n",
       "        }    #T_c63520d8_4e08_11ea_b946_88e9fe6d8b2brow3_col6 {\n",
       "            background-color:  #ea7b60;\n",
       "            color:  #000000;\n",
       "        }    #T_c63520d8_4e08_11ea_b946_88e9fe6d8b2brow3_col7 {\n",
       "            background-color:  #e16751;\n",
       "            color:  #000000;\n",
       "        }    #T_c63520d8_4e08_11ea_b946_88e9fe6d8b2brow3_col8 {\n",
       "            background-color:  #be242e;\n",
       "            color:  #f1f1f1;\n",
       "        }    #T_c63520d8_4e08_11ea_b946_88e9fe6d8b2brow3_col9 {\n",
       "            background-color:  #cd423b;\n",
       "            color:  #f1f1f1;\n",
       "        }    #T_c63520d8_4e08_11ea_b946_88e9fe6d8b2brow4_col0 {\n",
       "            background-color:  #3e51c5;\n",
       "            color:  #f1f1f1;\n",
       "        }    #T_c63520d8_4e08_11ea_b946_88e9fe6d8b2brow4_col1 {\n",
       "            background-color:  #3e51c5;\n",
       "            color:  #f1f1f1;\n",
       "        }    #T_c63520d8_4e08_11ea_b946_88e9fe6d8b2brow4_col2 {\n",
       "            background-color:  #f39577;\n",
       "            color:  #000000;\n",
       "        }    #T_c63520d8_4e08_11ea_b946_88e9fe6d8b2brow4_col3 {\n",
       "            background-color:  #bd1f2d;\n",
       "            color:  #f1f1f1;\n",
       "        }    #T_c63520d8_4e08_11ea_b946_88e9fe6d8b2brow4_col4 {\n",
       "            background-color:  #b40426;\n",
       "            color:  #f1f1f1;\n",
       "        }    #T_c63520d8_4e08_11ea_b946_88e9fe6d8b2brow4_col5 {\n",
       "            background-color:  #c9d7f0;\n",
       "            color:  #000000;\n",
       "        }    #T_c63520d8_4e08_11ea_b946_88e9fe6d8b2brow4_col6 {\n",
       "            background-color:  #ec7f63;\n",
       "            color:  #000000;\n",
       "        }    #T_c63520d8_4e08_11ea_b946_88e9fe6d8b2brow4_col7 {\n",
       "            background-color:  #df634e;\n",
       "            color:  #000000;\n",
       "        }    #T_c63520d8_4e08_11ea_b946_88e9fe6d8b2brow4_col8 {\n",
       "            background-color:  #c0282f;\n",
       "            color:  #f1f1f1;\n",
       "        }    #T_c63520d8_4e08_11ea_b946_88e9fe6d8b2brow4_col9 {\n",
       "            background-color:  #c83836;\n",
       "            color:  #f1f1f1;\n",
       "        }    #T_c63520d8_4e08_11ea_b946_88e9fe6d8b2brow5_col0 {\n",
       "            background-color:  #5977e3;\n",
       "            color:  #000000;\n",
       "        }    #T_c63520d8_4e08_11ea_b946_88e9fe6d8b2brow5_col1 {\n",
       "            background-color:  #3d50c3;\n",
       "            color:  #f1f1f1;\n",
       "        }    #T_c63520d8_4e08_11ea_b946_88e9fe6d8b2brow5_col2 {\n",
       "            background-color:  #dfdbd9;\n",
       "            color:  #000000;\n",
       "        }    #T_c63520d8_4e08_11ea_b946_88e9fe6d8b2brow5_col3 {\n",
       "            background-color:  #f7bca1;\n",
       "            color:  #000000;\n",
       "        }    #T_c63520d8_4e08_11ea_b946_88e9fe6d8b2brow5_col4 {\n",
       "            background-color:  #d7dce3;\n",
       "            color:  #000000;\n",
       "        }    #T_c63520d8_4e08_11ea_b946_88e9fe6d8b2brow5_col5 {\n",
       "            background-color:  #b40426;\n",
       "            color:  #f1f1f1;\n",
       "        }    #T_c63520d8_4e08_11ea_b946_88e9fe6d8b2brow5_col6 {\n",
       "            background-color:  #e9d5cb;\n",
       "            color:  #000000;\n",
       "        }    #T_c63520d8_4e08_11ea_b946_88e9fe6d8b2brow5_col7 {\n",
       "            background-color:  #dbdcde;\n",
       "            color:  #000000;\n",
       "        }    #T_c63520d8_4e08_11ea_b946_88e9fe6d8b2brow5_col8 {\n",
       "            background-color:  #edd1c2;\n",
       "            color:  #000000;\n",
       "        }    #T_c63520d8_4e08_11ea_b946_88e9fe6d8b2brow5_col9 {\n",
       "            background-color:  #dcdddd;\n",
       "            color:  #000000;\n",
       "        }    #T_c63520d8_4e08_11ea_b946_88e9fe6d8b2brow6_col0 {\n",
       "            background-color:  #465ecf;\n",
       "            color:  #f1f1f1;\n",
       "        }    #T_c63520d8_4e08_11ea_b946_88e9fe6d8b2brow6_col1 {\n",
       "            background-color:  #4c66d6;\n",
       "            color:  #000000;\n",
       "        }    #T_c63520d8_4e08_11ea_b946_88e9fe6d8b2brow6_col2 {\n",
       "            background-color:  #f6bfa6;\n",
       "            color:  #000000;\n",
       "        }    #T_c63520d8_4e08_11ea_b946_88e9fe6d8b2brow6_col3 {\n",
       "            background-color:  #e9785d;\n",
       "            color:  #000000;\n",
       "        }    #T_c63520d8_4e08_11ea_b946_88e9fe6d8b2brow6_col4 {\n",
       "            background-color:  #eb7d62;\n",
       "            color:  #000000;\n",
       "        }    #T_c63520d8_4e08_11ea_b946_88e9fe6d8b2brow6_col5 {\n",
       "            background-color:  #e1dad6;\n",
       "            color:  #000000;\n",
       "        }    #T_c63520d8_4e08_11ea_b946_88e9fe6d8b2brow6_col6 {\n",
       "            background-color:  #b40426;\n",
       "            color:  #f1f1f1;\n",
       "        }    #T_c63520d8_4e08_11ea_b946_88e9fe6d8b2brow6_col7 {\n",
       "            background-color:  #e7745b;\n",
       "            color:  #000000;\n",
       "        }    #T_c63520d8_4e08_11ea_b946_88e9fe6d8b2brow6_col8 {\n",
       "            background-color:  #e67259;\n",
       "            color:  #000000;\n",
       "        }    #T_c63520d8_4e08_11ea_b946_88e9fe6d8b2brow6_col9 {\n",
       "            background-color:  #ec8165;\n",
       "            color:  #000000;\n",
       "        }    #T_c63520d8_4e08_11ea_b946_88e9fe6d8b2brow7_col0 {\n",
       "            background-color:  #4055c8;\n",
       "            color:  #f1f1f1;\n",
       "        }    #T_c63520d8_4e08_11ea_b946_88e9fe6d8b2brow7_col1 {\n",
       "            background-color:  #4055c8;\n",
       "            color:  #f1f1f1;\n",
       "        }    #T_c63520d8_4e08_11ea_b946_88e9fe6d8b2brow7_col2 {\n",
       "            background-color:  #f7b194;\n",
       "            color:  #000000;\n",
       "        }    #T_c63520d8_4e08_11ea_b946_88e9fe6d8b2brow7_col3 {\n",
       "            background-color:  #e0654f;\n",
       "            color:  #000000;\n",
       "        }    #T_c63520d8_4e08_11ea_b946_88e9fe6d8b2brow7_col4 {\n",
       "            background-color:  #de614d;\n",
       "            color:  #000000;\n",
       "        }    #T_c63520d8_4e08_11ea_b946_88e9fe6d8b2brow7_col5 {\n",
       "            background-color:  #cfdaea;\n",
       "            color:  #000000;\n",
       "        }    #T_c63520d8_4e08_11ea_b946_88e9fe6d8b2brow7_col6 {\n",
       "            background-color:  #e8765c;\n",
       "            color:  #000000;\n",
       "        }    #T_c63520d8_4e08_11ea_b946_88e9fe6d8b2brow7_col7 {\n",
       "            background-color:  #b40426;\n",
       "            color:  #f1f1f1;\n",
       "        }    #T_c63520d8_4e08_11ea_b946_88e9fe6d8b2brow7_col8 {\n",
       "            background-color:  #d95847;\n",
       "            color:  #000000;\n",
       "        }    #T_c63520d8_4e08_11ea_b946_88e9fe6d8b2brow7_col9 {\n",
       "            background-color:  #e26952;\n",
       "            color:  #000000;\n",
       "        }    #T_c63520d8_4e08_11ea_b946_88e9fe6d8b2brow8_col0 {\n",
       "            background-color:  #3b4cc0;\n",
       "            color:  #f1f1f1;\n",
       "        }    #T_c63520d8_4e08_11ea_b946_88e9fe6d8b2brow8_col1 {\n",
       "            background-color:  #3b4cc0;\n",
       "            color:  #f1f1f1;\n",
       "        }    #T_c63520d8_4e08_11ea_b946_88e9fe6d8b2brow8_col2 {\n",
       "            background-color:  #f39577;\n",
       "            color:  #000000;\n",
       "        }    #T_c63520d8_4e08_11ea_b946_88e9fe6d8b2brow8_col3 {\n",
       "            background-color:  #be242e;\n",
       "            color:  #f1f1f1;\n",
       "        }    #T_c63520d8_4e08_11ea_b946_88e9fe6d8b2brow8_col4 {\n",
       "            background-color:  #c0282f;\n",
       "            color:  #f1f1f1;\n",
       "        }    #T_c63520d8_4e08_11ea_b946_88e9fe6d8b2brow8_col5 {\n",
       "            background-color:  #e2dad5;\n",
       "            color:  #000000;\n",
       "        }    #T_c63520d8_4e08_11ea_b946_88e9fe6d8b2brow8_col6 {\n",
       "            background-color:  #e7745b;\n",
       "            color:  #000000;\n",
       "        }    #T_c63520d8_4e08_11ea_b946_88e9fe6d8b2brow8_col7 {\n",
       "            background-color:  #da5a49;\n",
       "            color:  #000000;\n",
       "        }    #T_c63520d8_4e08_11ea_b946_88e9fe6d8b2brow8_col8 {\n",
       "            background-color:  #b40426;\n",
       "            color:  #f1f1f1;\n",
       "        }    #T_c63520d8_4e08_11ea_b946_88e9fe6d8b2brow8_col9 {\n",
       "            background-color:  #c73635;\n",
       "            color:  #f1f1f1;\n",
       "        }    #T_c63520d8_4e08_11ea_b946_88e9fe6d8b2brow9_col0 {\n",
       "            background-color:  #3f53c6;\n",
       "            color:  #f1f1f1;\n",
       "        }    #T_c63520d8_4e08_11ea_b946_88e9fe6d8b2brow9_col1 {\n",
       "            background-color:  #3b4cc0;\n",
       "            color:  #f1f1f1;\n",
       "        }    #T_c63520d8_4e08_11ea_b946_88e9fe6d8b2brow9_col2 {\n",
       "            background-color:  #f6a385;\n",
       "            color:  #000000;\n",
       "        }    #T_c63520d8_4e08_11ea_b946_88e9fe6d8b2brow9_col3 {\n",
       "            background-color:  #cd423b;\n",
       "            color:  #f1f1f1;\n",
       "        }    #T_c63520d8_4e08_11ea_b946_88e9fe6d8b2brow9_col4 {\n",
       "            background-color:  #c83836;\n",
       "            color:  #f1f1f1;\n",
       "        }    #T_c63520d8_4e08_11ea_b946_88e9fe6d8b2brow9_col5 {\n",
       "            background-color:  #cfdaea;\n",
       "            color:  #000000;\n",
       "        }    #T_c63520d8_4e08_11ea_b946_88e9fe6d8b2brow9_col6 {\n",
       "            background-color:  #ed8366;\n",
       "            color:  #000000;\n",
       "        }    #T_c63520d8_4e08_11ea_b946_88e9fe6d8b2brow9_col7 {\n",
       "            background-color:  #e26952;\n",
       "            color:  #000000;\n",
       "        }    #T_c63520d8_4e08_11ea_b946_88e9fe6d8b2brow9_col8 {\n",
       "            background-color:  #c53334;\n",
       "            color:  #f1f1f1;\n",
       "        }    #T_c63520d8_4e08_11ea_b946_88e9fe6d8b2brow9_col9 {\n",
       "            background-color:  #b40426;\n",
       "            color:  #f1f1f1;\n",
       "        }</style><table id=\"T_c63520d8_4e08_11ea_b946_88e9fe6d8b2b\" ><thead>    <tr>        <th class=\"blank level0\" ></th>        <th class=\"col_heading level0 col0\" >Player Name</th>        <th class=\"col_heading level0 col1\" >team</th>        <th class=\"col_heading level0 col2\" >Actual FP</th>        <th class=\"col_heading level0 col3\" >Avg Proj</th>        <th class=\"col_heading level0 col4\" >Salary</th>        <th class=\"col_heading level0 col5\" >Avg Value Proj</th>        <th class=\"col_heading level0 col6\" >Avg Skewed Min</th>        <th class=\"col_heading level0 col7\" >Avg Skewed FGA</th>        <th class=\"col_heading level0 col8\" >Avg Skewed FP</th>        <th class=\"col_heading level0 col9\" >Avg L5 PPG</th>    </tr></thead><tbody>\n",
       "                <tr>\n",
       "                        <th id=\"T_c63520d8_4e08_11ea_b946_88e9fe6d8b2blevel0_row0\" class=\"row_heading level0 row0\" >Player Name</th>\n",
       "                        <td id=\"T_c63520d8_4e08_11ea_b946_88e9fe6d8b2brow0_col0\" class=\"data row0 col0\" >1</td>\n",
       "                        <td id=\"T_c63520d8_4e08_11ea_b946_88e9fe6d8b2brow0_col1\" class=\"data row0 col1\" >0.463686</td>\n",
       "                        <td id=\"T_c63520d8_4e08_11ea_b946_88e9fe6d8b2brow0_col2\" class=\"data row0 col2\" >-0.221119</td>\n",
       "                        <td id=\"T_c63520d8_4e08_11ea_b946_88e9fe6d8b2brow0_col3\" class=\"data row0 col3\" >-0.272295</td>\n",
       "                        <td id=\"T_c63520d8_4e08_11ea_b946_88e9fe6d8b2brow0_col4\" class=\"data row0 col4\" >-0.263399</td>\n",
       "                        <td id=\"T_c63520d8_4e08_11ea_b946_88e9fe6d8b2brow0_col5\" class=\"data row0 col5\" >-0.152088</td>\n",
       "                        <td id=\"T_c63520d8_4e08_11ea_b946_88e9fe6d8b2brow0_col6\" class=\"data row0 col6\" >-0.229035</td>\n",
       "                        <td id=\"T_c63520d8_4e08_11ea_b946_88e9fe6d8b2brow0_col7\" class=\"data row0 col7\" >-0.253793</td>\n",
       "                        <td id=\"T_c63520d8_4e08_11ea_b946_88e9fe6d8b2brow0_col8\" class=\"data row0 col8\" >-0.28127</td>\n",
       "                        <td id=\"T_c63520d8_4e08_11ea_b946_88e9fe6d8b2brow0_col9\" class=\"data row0 col9\" >-0.260755</td>\n",
       "            </tr>\n",
       "            <tr>\n",
       "                        <th id=\"T_c63520d8_4e08_11ea_b946_88e9fe6d8b2blevel0_row1\" class=\"row_heading level0 row1\" >team</th>\n",
       "                        <td id=\"T_c63520d8_4e08_11ea_b946_88e9fe6d8b2brow1_col0\" class=\"data row1 col0\" >0.463686</td>\n",
       "                        <td id=\"T_c63520d8_4e08_11ea_b946_88e9fe6d8b2brow1_col1\" class=\"data row1 col1\" >1</td>\n",
       "                        <td id=\"T_c63520d8_4e08_11ea_b946_88e9fe6d8b2brow1_col2\" class=\"data row1 col2\" >-0.0207663</td>\n",
       "                        <td id=\"T_c63520d8_4e08_11ea_b946_88e9fe6d8b2brow1_col3\" class=\"data row1 col3\" >-0.0338356</td>\n",
       "                        <td id=\"T_c63520d8_4e08_11ea_b946_88e9fe6d8b2brow1_col4\" class=\"data row1 col4\" >-0.0214047</td>\n",
       "                        <td id=\"T_c63520d8_4e08_11ea_b946_88e9fe6d8b2brow1_col5\" class=\"data row1 col5\" >-0.0274086</td>\n",
       "                        <td id=\"T_c63520d8_4e08_11ea_b946_88e9fe6d8b2brow1_col6\" class=\"data row1 col6\" >0.0263933</td>\n",
       "                        <td id=\"T_c63520d8_4e08_11ea_b946_88e9fe6d8b2brow1_col7\" class=\"data row1 col7\" >-0.0155128</td>\n",
       "                        <td id=\"T_c63520d8_4e08_11ea_b946_88e9fe6d8b2brow1_col8\" class=\"data row1 col8\" >-0.0365307</td>\n",
       "                        <td id=\"T_c63520d8_4e08_11ea_b946_88e9fe6d8b2brow1_col9\" class=\"data row1 col9\" >-0.0354517</td>\n",
       "            </tr>\n",
       "            <tr>\n",
       "                        <th id=\"T_c63520d8_4e08_11ea_b946_88e9fe6d8b2blevel0_row2\" class=\"row_heading level0 row2\" >Actual FP</th>\n",
       "                        <td id=\"T_c63520d8_4e08_11ea_b946_88e9fe6d8b2brow2_col0\" class=\"data row2 col0\" >-0.221119</td>\n",
       "                        <td id=\"T_c63520d8_4e08_11ea_b946_88e9fe6d8b2brow2_col1\" class=\"data row2 col1\" >-0.0207663</td>\n",
       "                        <td id=\"T_c63520d8_4e08_11ea_b946_88e9fe6d8b2brow2_col2\" class=\"data row2 col2\" >1</td>\n",
       "                        <td id=\"T_c63520d8_4e08_11ea_b946_88e9fe6d8b2brow2_col3\" class=\"data row2 col3\" >0.727846</td>\n",
       "                        <td id=\"T_c63520d8_4e08_11ea_b946_88e9fe6d8b2brow2_col4\" class=\"data row2 col4\" >0.705875</td>\n",
       "                        <td id=\"T_c63520d8_4e08_11ea_b946_88e9fe6d8b2brow2_col5\" class=\"data row2 col5\" >0.400345</td>\n",
       "                        <td id=\"T_c63520d8_4e08_11ea_b946_88e9fe6d8b2brow2_col6\" class=\"data row2 col6\" >0.562187</td>\n",
       "                        <td id=\"T_c63520d8_4e08_11ea_b946_88e9fe6d8b2brow2_col7\" class=\"data row2 col7\" >0.617104</td>\n",
       "                        <td id=\"T_c63520d8_4e08_11ea_b946_88e9fe6d8b2brow2_col8\" class=\"data row2 col8\" >0.707207</td>\n",
       "                        <td id=\"T_c63520d8_4e08_11ea_b946_88e9fe6d8b2brow2_col9\" class=\"data row2 col9\" >0.66405</td>\n",
       "            </tr>\n",
       "            <tr>\n",
       "                        <th id=\"T_c63520d8_4e08_11ea_b946_88e9fe6d8b2blevel0_row3\" class=\"row_heading level0 row3\" >Avg Proj</th>\n",
       "                        <td id=\"T_c63520d8_4e08_11ea_b946_88e9fe6d8b2brow3_col0\" class=\"data row3 col0\" >-0.272295</td>\n",
       "                        <td id=\"T_c63520d8_4e08_11ea_b946_88e9fe6d8b2brow3_col1\" class=\"data row3 col1\" >-0.0338356</td>\n",
       "                        <td id=\"T_c63520d8_4e08_11ea_b946_88e9fe6d8b2brow3_col2\" class=\"data row3 col2\" >0.727846</td>\n",
       "                        <td id=\"T_c63520d8_4e08_11ea_b946_88e9fe6d8b2brow3_col3\" class=\"data row3 col3\" >1</td>\n",
       "                        <td id=\"T_c63520d8_4e08_11ea_b946_88e9fe6d8b2brow3_col4\" class=\"data row3 col4\" >0.965746</td>\n",
       "                        <td id=\"T_c63520d8_4e08_11ea_b946_88e9fe6d8b2brow3_col5\" class=\"data row3 col5\" >0.561546</td>\n",
       "                        <td id=\"T_c63520d8_4e08_11ea_b946_88e9fe6d8b2brow3_col6\" class=\"data row3 col6\" >0.776907</td>\n",
       "                        <td id=\"T_c63520d8_4e08_11ea_b946_88e9fe6d8b2brow3_col7\" class=\"data row3 col7\" >0.828315</td>\n",
       "                        <td id=\"T_c63520d8_4e08_11ea_b946_88e9fe6d8b2brow3_col8\" class=\"data row3 col8\" >0.962365</td>\n",
       "                        <td id=\"T_c63520d8_4e08_11ea_b946_88e9fe6d8b2brow3_col9\" class=\"data row3 col9\" >0.90739</td>\n",
       "            </tr>\n",
       "            <tr>\n",
       "                        <th id=\"T_c63520d8_4e08_11ea_b946_88e9fe6d8b2blevel0_row4\" class=\"row_heading level0 row4\" >Salary</th>\n",
       "                        <td id=\"T_c63520d8_4e08_11ea_b946_88e9fe6d8b2brow4_col0\" class=\"data row4 col0\" >-0.263399</td>\n",
       "                        <td id=\"T_c63520d8_4e08_11ea_b946_88e9fe6d8b2brow4_col1\" class=\"data row4 col1\" >-0.0214047</td>\n",
       "                        <td id=\"T_c63520d8_4e08_11ea_b946_88e9fe6d8b2brow4_col2\" class=\"data row4 col2\" >0.705875</td>\n",
       "                        <td id=\"T_c63520d8_4e08_11ea_b946_88e9fe6d8b2brow4_col3\" class=\"data row4 col3\" >0.965746</td>\n",
       "                        <td id=\"T_c63520d8_4e08_11ea_b946_88e9fe6d8b2brow4_col4\" class=\"data row4 col4\" >1</td>\n",
       "                        <td id=\"T_c63520d8_4e08_11ea_b946_88e9fe6d8b2brow4_col5\" class=\"data row4 col5\" >0.342323</td>\n",
       "                        <td id=\"T_c63520d8_4e08_11ea_b946_88e9fe6d8b2brow4_col6\" class=\"data row4 col6\" >0.765554</td>\n",
       "                        <td id=\"T_c63520d8_4e08_11ea_b946_88e9fe6d8b2brow4_col7\" class=\"data row4 col7\" >0.838134</td>\n",
       "                        <td id=\"T_c63520d8_4e08_11ea_b946_88e9fe6d8b2brow4_col8\" class=\"data row4 col8\" >0.959678</td>\n",
       "                        <td id=\"T_c63520d8_4e08_11ea_b946_88e9fe6d8b2brow4_col9\" class=\"data row4 col9\" >0.926261</td>\n",
       "            </tr>\n",
       "            <tr>\n",
       "                        <th id=\"T_c63520d8_4e08_11ea_b946_88e9fe6d8b2blevel0_row5\" class=\"row_heading level0 row5\" >Avg Value Proj</th>\n",
       "                        <td id=\"T_c63520d8_4e08_11ea_b946_88e9fe6d8b2brow5_col0\" class=\"data row5 col0\" >-0.152088</td>\n",
       "                        <td id=\"T_c63520d8_4e08_11ea_b946_88e9fe6d8b2brow5_col1\" class=\"data row5 col1\" >-0.0274086</td>\n",
       "                        <td id=\"T_c63520d8_4e08_11ea_b946_88e9fe6d8b2brow5_col2\" class=\"data row5 col2\" >0.400345</td>\n",
       "                        <td id=\"T_c63520d8_4e08_11ea_b946_88e9fe6d8b2brow5_col3\" class=\"data row5 col3\" >0.561546</td>\n",
       "                        <td id=\"T_c63520d8_4e08_11ea_b946_88e9fe6d8b2brow5_col4\" class=\"data row5 col4\" >0.342323</td>\n",
       "                        <td id=\"T_c63520d8_4e08_11ea_b946_88e9fe6d8b2brow5_col5\" class=\"data row5 col5\" >1</td>\n",
       "                        <td id=\"T_c63520d8_4e08_11ea_b946_88e9fe6d8b2brow5_col6\" class=\"data row5 col6\" >0.443299</td>\n",
       "                        <td id=\"T_c63520d8_4e08_11ea_b946_88e9fe6d8b2brow5_col7\" class=\"data row5 col7\" >0.366924</td>\n",
       "                        <td id=\"T_c63520d8_4e08_11ea_b946_88e9fe6d8b2brow5_col8\" class=\"data row5 col8\" >0.449484</td>\n",
       "                        <td id=\"T_c63520d8_4e08_11ea_b946_88e9fe6d8b2brow5_col9\" class=\"data row5 col9\" >0.368955</td>\n",
       "            </tr>\n",
       "            <tr>\n",
       "                        <th id=\"T_c63520d8_4e08_11ea_b946_88e9fe6d8b2blevel0_row6\" class=\"row_heading level0 row6\" >Avg Skewed Min</th>\n",
       "                        <td id=\"T_c63520d8_4e08_11ea_b946_88e9fe6d8b2brow6_col0\" class=\"data row6 col0\" >-0.229035</td>\n",
       "                        <td id=\"T_c63520d8_4e08_11ea_b946_88e9fe6d8b2brow6_col1\" class=\"data row6 col1\" >0.0263933</td>\n",
       "                        <td id=\"T_c63520d8_4e08_11ea_b946_88e9fe6d8b2brow6_col2\" class=\"data row6 col2\" >0.562187</td>\n",
       "                        <td id=\"T_c63520d8_4e08_11ea_b946_88e9fe6d8b2brow6_col3\" class=\"data row6 col3\" >0.776907</td>\n",
       "                        <td id=\"T_c63520d8_4e08_11ea_b946_88e9fe6d8b2brow6_col4\" class=\"data row6 col4\" >0.765554</td>\n",
       "                        <td id=\"T_c63520d8_4e08_11ea_b946_88e9fe6d8b2brow6_col5\" class=\"data row6 col5\" >0.443299</td>\n",
       "                        <td id=\"T_c63520d8_4e08_11ea_b946_88e9fe6d8b2brow6_col6\" class=\"data row6 col6\" >1</td>\n",
       "                        <td id=\"T_c63520d8_4e08_11ea_b946_88e9fe6d8b2brow6_col7\" class=\"data row6 col7\" >0.791501</td>\n",
       "                        <td id=\"T_c63520d8_4e08_11ea_b946_88e9fe6d8b2brow6_col8\" class=\"data row6 col8\" >0.793881</td>\n",
       "                        <td id=\"T_c63520d8_4e08_11ea_b946_88e9fe6d8b2brow6_col9\" class=\"data row6 col9\" >0.756624</td>\n",
       "            </tr>\n",
       "            <tr>\n",
       "                        <th id=\"T_c63520d8_4e08_11ea_b946_88e9fe6d8b2blevel0_row7\" class=\"row_heading level0 row7\" >Avg Skewed FGA</th>\n",
       "                        <td id=\"T_c63520d8_4e08_11ea_b946_88e9fe6d8b2brow7_col0\" class=\"data row7 col0\" >-0.253793</td>\n",
       "                        <td id=\"T_c63520d8_4e08_11ea_b946_88e9fe6d8b2brow7_col1\" class=\"data row7 col1\" >-0.0155128</td>\n",
       "                        <td id=\"T_c63520d8_4e08_11ea_b946_88e9fe6d8b2brow7_col2\" class=\"data row7 col2\" >0.617104</td>\n",
       "                        <td id=\"T_c63520d8_4e08_11ea_b946_88e9fe6d8b2brow7_col3\" class=\"data row7 col3\" >0.828315</td>\n",
       "                        <td id=\"T_c63520d8_4e08_11ea_b946_88e9fe6d8b2brow7_col4\" class=\"data row7 col4\" >0.838134</td>\n",
       "                        <td id=\"T_c63520d8_4e08_11ea_b946_88e9fe6d8b2brow7_col5\" class=\"data row7 col5\" >0.366924</td>\n",
       "                        <td id=\"T_c63520d8_4e08_11ea_b946_88e9fe6d8b2brow7_col6\" class=\"data row7 col6\" >0.791501</td>\n",
       "                        <td id=\"T_c63520d8_4e08_11ea_b946_88e9fe6d8b2brow7_col7\" class=\"data row7 col7\" >1</td>\n",
       "                        <td id=\"T_c63520d8_4e08_11ea_b946_88e9fe6d8b2brow7_col8\" class=\"data row7 col8\" >0.857594</td>\n",
       "                        <td id=\"T_c63520d8_4e08_11ea_b946_88e9fe6d8b2brow7_col9\" class=\"data row7 col9\" >0.82173</td>\n",
       "            </tr>\n",
       "            <tr>\n",
       "                        <th id=\"T_c63520d8_4e08_11ea_b946_88e9fe6d8b2blevel0_row8\" class=\"row_heading level0 row8\" >Avg Skewed FP</th>\n",
       "                        <td id=\"T_c63520d8_4e08_11ea_b946_88e9fe6d8b2brow8_col0\" class=\"data row8 col0\" >-0.28127</td>\n",
       "                        <td id=\"T_c63520d8_4e08_11ea_b946_88e9fe6d8b2brow8_col1\" class=\"data row8 col1\" >-0.0365307</td>\n",
       "                        <td id=\"T_c63520d8_4e08_11ea_b946_88e9fe6d8b2brow8_col2\" class=\"data row8 col2\" >0.707207</td>\n",
       "                        <td id=\"T_c63520d8_4e08_11ea_b946_88e9fe6d8b2brow8_col3\" class=\"data row8 col3\" >0.962365</td>\n",
       "                        <td id=\"T_c63520d8_4e08_11ea_b946_88e9fe6d8b2brow8_col4\" class=\"data row8 col4\" >0.959678</td>\n",
       "                        <td id=\"T_c63520d8_4e08_11ea_b946_88e9fe6d8b2brow8_col5\" class=\"data row8 col5\" >0.449484</td>\n",
       "                        <td id=\"T_c63520d8_4e08_11ea_b946_88e9fe6d8b2brow8_col6\" class=\"data row8 col6\" >0.793881</td>\n",
       "                        <td id=\"T_c63520d8_4e08_11ea_b946_88e9fe6d8b2brow8_col7\" class=\"data row8 col7\" >0.857594</td>\n",
       "                        <td id=\"T_c63520d8_4e08_11ea_b946_88e9fe6d8b2brow8_col8\" class=\"data row8 col8\" >1</td>\n",
       "                        <td id=\"T_c63520d8_4e08_11ea_b946_88e9fe6d8b2brow8_col9\" class=\"data row8 col9\" >0.935555</td>\n",
       "            </tr>\n",
       "            <tr>\n",
       "                        <th id=\"T_c63520d8_4e08_11ea_b946_88e9fe6d8b2blevel0_row9\" class=\"row_heading level0 row9\" >Avg L5 PPG</th>\n",
       "                        <td id=\"T_c63520d8_4e08_11ea_b946_88e9fe6d8b2brow9_col0\" class=\"data row9 col0\" >-0.260755</td>\n",
       "                        <td id=\"T_c63520d8_4e08_11ea_b946_88e9fe6d8b2brow9_col1\" class=\"data row9 col1\" >-0.0354517</td>\n",
       "                        <td id=\"T_c63520d8_4e08_11ea_b946_88e9fe6d8b2brow9_col2\" class=\"data row9 col2\" >0.66405</td>\n",
       "                        <td id=\"T_c63520d8_4e08_11ea_b946_88e9fe6d8b2brow9_col3\" class=\"data row9 col3\" >0.90739</td>\n",
       "                        <td id=\"T_c63520d8_4e08_11ea_b946_88e9fe6d8b2brow9_col4\" class=\"data row9 col4\" >0.926261</td>\n",
       "                        <td id=\"T_c63520d8_4e08_11ea_b946_88e9fe6d8b2brow9_col5\" class=\"data row9 col5\" >0.368955</td>\n",
       "                        <td id=\"T_c63520d8_4e08_11ea_b946_88e9fe6d8b2brow9_col6\" class=\"data row9 col6\" >0.756624</td>\n",
       "                        <td id=\"T_c63520d8_4e08_11ea_b946_88e9fe6d8b2brow9_col7\" class=\"data row9 col7\" >0.82173</td>\n",
       "                        <td id=\"T_c63520d8_4e08_11ea_b946_88e9fe6d8b2brow9_col8\" class=\"data row9 col8\" >0.935555</td>\n",
       "                        <td id=\"T_c63520d8_4e08_11ea_b946_88e9fe6d8b2brow9_col9\" class=\"data row9 col9\" >1</td>\n",
       "            </tr>\n",
       "    </tbody></table>"
      ],
      "text/plain": [
       "<pandas.io.formats.style.Styler at 0x13ed160b8>"
      ]
     },
     "execution_count": 452,
     "metadata": {},
     "output_type": "execute_result"
    }
   ],
   "source": [
    "corr_matrix_2.style.background_gradient(cmap='coolwarm')"
   ]
  },
  {
   "cell_type": "code",
   "execution_count": 453,
   "metadata": {},
   "outputs": [
    {
     "name": "stdout",
     "output_type": "stream",
     "text": [
      "Scores: [ 9.6184395   9.40973823  9.55680912  9.57193002  9.50609604  9.65962596\n",
      "  9.45808834  9.42562707 10.06713793  9.76001234]\n",
      "Mean: 9.603350455381461\n",
      "Std: 0.18596250029957842\n"
     ]
    }
   ],
   "source": [
    "runLinearRegression(shrink_df, False)"
   ]
  },
  {
   "cell_type": "code",
   "execution_count": 454,
   "metadata": {},
   "outputs": [
    {
     "data": {
      "text/plain": [
       "<matplotlib.axes._subplots.AxesSubplot at 0x13c1ce358>"
      ]
     },
     "execution_count": 454,
     "metadata": {},
     "output_type": "execute_result"
    },
    {
     "data": {
      "image/png": "[encoded data removed]",
      "text/plain": [
       "<Figure size 432x288 with 1 Axes>"
      ]
     },
     "metadata": {
      "needs_background": "light"
     },
     "output_type": "display_data"
    }
   ],
   "source": [
    "shrink_df.plot(kind='scatter', x='Avg Proj', y='Actual FP')"
   ]
  },
  {
   "cell_type": "code",
   "execution_count": 455,
   "metadata": {},
   "outputs": [
    {
     "data": {
      "text/plain": [
       "<matplotlib.axes._subplots.AxesSubplot at 0x13ed0edd8>"
      ]
     },
     "execution_count": 455,
     "metadata": {},
     "output_type": "execute_result"
    },
    {
     "data": {
      "image/png": "[encoded data removed]",
      "text/plain": [
       "<Figure size 432x288 with 1 Axes>"
      ]
     },
     "metadata": {
      "needs_background": "light"
     },
     "output_type": "display_data"
    }
   ],
   "source": [
    "relevant_df.plot(kind='scatter', x='Avg Proj', y='Actual FP')"
   ]
  },
  {
   "cell_type": "code",
   "execution_count": null,
   "metadata": {},
   "outputs": [],
   "source": []
  },
  {
   "cell_type": "code",
   "execution_count": null,
   "metadata": {},
   "outputs": [],
   "source": []
  },
  {
   "cell_type": "code",
   "execution_count": null,
   "metadata": {},
   "outputs": [],
   "source": []
  },
  {
   "cell_type": "code",
   "execution_count": null,
   "metadata": {},
   "outputs": [],
   "source": []
  },
  {
   "cell_type": "code",
   "execution_count": null,
   "metadata": {},
   "outputs": [],
   "source": []
  },
  {
   "cell_type": "code",
   "execution_count": null,
   "metadata": {},
   "outputs": [],
   "source": []
  },
  {
   "cell_type": "code",
   "execution_count": null,
   "metadata": {},
   "outputs": [],
   "source": []
  },
  {
   "cell_type": "code",
   "execution_count": null,
   "metadata": {},
   "outputs": [],
   "source": []
  },
  {
   "cell_type": "code",
   "execution_count": null,
   "metadata": {},
   "outputs": [],
   "source": [
    "\n",
    "runLinearRegression(relevant_df, False)"
   ]
  },
  {
   "cell_type": "code",
   "execution_count": null,
   "metadata": {},
   "outputs": [],
   "source": [
    "\n",
    "ax = plt.gca()\n",
    "\n",
    "full_df.plot(x='Actual FP', y='FantasyFuelPPGProj', style='o', ax=ax)\n",
    "full_df.plot(x='Actual FP', y='DFN_PPGProj', style='o' , ax=ax)\n",
    "\n",
    "plt.show()"
   ]
  },
  {
   "cell_type": "code",
   "execution_count": null,
   "metadata": {},
   "outputs": [],
   "source": []
  }
 ],
 "metadata": {
  "kernelspec": {
   "display_name": "Python 3",
   "language": "python",
   "name": "python3"
  },
  "language_info": {
   "codemirror_mode": {
    "name": "ipython",
    "version": 3
   },
   "file_extension": ".py",
   "mimetype": "text/x-python",
   "name": "python",
   "nbconvert_exporter": "python",
   "pygments_lexer": "ipython3",
   "version": "3.7.1"
  }
 },
 "nbformat": 4,
 "nbformat_minor": 4
}
