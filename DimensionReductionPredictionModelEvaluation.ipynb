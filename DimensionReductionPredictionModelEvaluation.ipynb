{
 "cells": [
  {
   "cell_type": "code",
   "execution_count": null,
   "metadata": {},
   "outputs": [],
   "source": [
    "#drop player that is out"
   ]
  },
  {
   "cell_type": "code",
   "execution_count": 5,
   "metadata": {},
   "outputs": [],
   "source": [
    "import pandas as pd \n",
    "import numpy as np\n",
    "from sklearn.decomposition import PCA\n",
    "import matplotlib.pyplot as plt"
   ]
  },
  {
   "cell_type": "code",
   "execution_count": 6,
   "metadata": {},
   "outputs": [],
   "source": [
    "dates = [\n",
    "    ['2_4', '2020-02-04'],\n",
    "    ['2_3', '2020-02-03'],\n",
    "    ['2_2', '2020-02-02'],\n",
    "    ['2_1', '2020-02-01'],\n",
    "    ['1_31', '2020-01-31'],\n",
    "    ['1_30', '2020-01-30'],\n",
    "    ['1_29', '2020-01-29'],\n",
    "    ['1_28', '2020-01-28'],\n",
    "    ['1_27', '2020-01-27'],\n",
    "    ['1_26', '2020-01-26'],\n",
    "    ['1_25', '2020-01-25'],\n",
    "    ['1_24', '2020-01-24'],\n",
    "    ['1_23', '2020-01-23'],\n",
    "    ['1_22', '2020-01-22'],\n",
    "    ['1_20', '2020-01-20'],\n",
    "    ['1_19', '2020-01-19'],\n",
    "    ['1_18', '2020-01-18'],\n",
    "    ['1_17', '2020-01-17'],\n",
    "    ['1_16', '2020-01-16'],\n",
    "    ['1_15', '2020-01-15'],\n",
    "    ['1_14', '2020-01-14'],\n",
    "    ['1_13', '2020-01-13'],\n",
    "    ['1_12', '2020-01-12'],\n",
    "    ['1_11', '2020-01-11'],\n",
    "    ['1_10', '2020-01-10'],\n",
    "    ['1_9', '2020-01-09'],\n",
    "    ['1_8', '2020-01-08'],\n",
    "    ['1_7', '2020-01-07'],\n",
    "    ['1_6', '2020-01-06'],\n",
    "    ['1_5', '2020-01-05'],\n",
    "    ['1_4', '2020-01-04'],\n",
    "    ['1_3', '2020-01-03'],\n",
    "    ['1_2', '2020-01-02'],\n",
    "    ['1_1', '2020-01-01'],\n",
    "    ['12_31', '2019-12-31'],\n",
    "    ['12_30', '2019-12-30'],\n",
    "    ['12_29', '2019-12-29'],\n",
    "    ['12_28', '2019-12-28'],\n",
    "    ['12_27', '2019-12-27'],\n",
    "    ['12_26', '2019-12-26'],\n",
    "    ['12_25', '2019-12-25'],\n",
    "    ['12_23', '2019-12-23'],\n",
    "    ['12_22', '2019-12-22'],\n",
    "    ['12_21', '2019-12-21'],\n",
    "    ['12_20', '2019-12-20'],\n",
    "    ['12_19', '2019-12-19'],\n",
    "    ['12_18', '2019-12-18'],\n",
    "    ['12_17', '2019-12-17'],\n",
    "    ['12_16', '2019-12-16'],\n",
    "    ['12_15', '2019-12-15'],\n",
    "    ['12_14', '2019-12-14'],\n",
    "    ['12_13', '2019-12-13'],\n",
    "    ['12_12', '2019-12-12'],\n",
    "    ['12_11', '2019-12-11'],\n",
    "    ['12_10', '2019-12-10'],\n",
    "    ['12_9', '2019-12-09'],\n",
    "    ['12_8', '2019-12-08'],\n",
    "    ['12_7', '2019-12-07'],\n",
    "    ['12_6', '2019-12-06'],\n",
    "    ['12_5', '2019-12-05'],\n",
    "    ['12_4', '2019-12-04'],\n",
    "    ['12_3', '2019-12-03'],\n",
    "    ['12_2', '2019-12-02'],\n",
    "    ['12_1', '2019-12-01'],\n",
    "    ['11_30', '2019-11-30'],\n",
    "    ['11_29', '2019-11-29'],\n",
    "    ['11_27', '2019-11-27'],\n",
    "    ['11_26', '2019-11-26'],\n",
    "    ['11_25', '2019-11-25'],\n",
    "    ['11_24', '2019-11-24'],\n",
    "    ['11_23', '2019-11-23'],\n",
    "    ['11_22', '2019-11-22'],\n",
    "    ['11_21', '2019-11-21'],\n",
    "    ['11_20', '2019-11-20'],\n",
    "    ['11_19', '2019-11-19'],\n",
    "    ['11_18', '2019-11-18'],\n",
    "    ['11_17', '2019-11-17'],\n",
    "    ['11_16', '2019-11-16'],\n",
    "    ['11_15', '2019-11-15'],\n",
    "    ['11_14', '2019-11-14'],\n",
    "    ['11_13', '2019-11-13'],\n",
    "    ['11_12', '2019-11-12'],\n",
    "    ['11_11', '2019-11-11'],\n",
    "    ['11_10', '2019-11-10'],\n",
    "    ['11_9', '2019-11-09'],\n",
    "    ['11_8', '2019-11-08'],\n",
    "    ['11_7', '2019-11-07'],\n",
    "    ['11_6', '2019-11-06'],\n",
    "    ['11_5', '2019-11-05'],\n",
    "    ['11_4', '2019-11-04'],\n",
    "    ['11_3', '2019-11-03'],\n",
    "    ['11_2', '2019-11-02'],\n",
    "    ['11_1', '2019-11-01'],\n",
    "    ['10_31', '2019-10-31'],\n",
    "    ['10_30', '2019-10-30'],\n",
    "    ['10_29', '2019-10-29'],\n",
    "    ['10_28', '2019-10-28'],\n",
    "    ['10_27', '2019-10-27'],\n",
    "    ['10_26', '2019-10-26'],\n",
    "    ['10_25', '2019-10-25'],\n",
    "    ['10_24', '2019-10-24'],\n",
    "    ['10_23', '2019-10-23'],\n",
    "    ['10_22', '2019-10-22'],   \n",
    "]\n",
    "\n",
    "drop_attribs = [\n",
    "        \"game_date\",\n",
    "        'ppg_projection', \n",
    "        'value_projection', \n",
    "        'Proj FP', \n",
    "        'Proj Min', \n",
    "        'Proj Val',\n",
    "        \"position\",\n",
    "        \"salary\", \n",
    "        \"Actual Min\",\n",
    "        \"Actual Val\",\n",
    "]"
   ]
  },
  {
   "cell_type": "code",
   "execution_count": 7,
   "metadata": {},
   "outputs": [],
   "source": [
    "def mergeAllDates():\n",
    "    file = pd.DataFrame()\n",
    "    for game_day in dates:\n",
    "        game_date = 'HistoricalData_Merged/{}'.format(game_day[1])\n",
    "        file = file.append(addPlayerOccurences(pd.read_csv(game_date), game_day[1]), ignore_index=True)\n",
    "    return file\n",
    "\n",
    "def addPlayerOccurences(file, date):\n",
    "    file['Selected'] = np.nan\n",
    "    game_date = 'BestLineups/{}'.format(date)\n",
    "    best_lineups_file = pd.read_csv(game_date,index_col=[0,1], skipinitialspace=True)\n",
    "    values = best_lineups_file['Player Name'].value_counts().keys().tolist()\n",
    "    counts = best_lineups_file['Player Name'].value_counts().tolist()\n",
    "    for i in range(len(values)):\n",
    "        file.loc[file['Player Name'] == values[i],['Selected']] = counts[i]\n",
    "    file['Selected'].fillna(0, inplace=True)\n",
    "    return file\n",
    "    \n",
    "def reduceForProjectionAnalysis(file):\n",
    "    file['FantasyFuelPPGProj'] = file['ppg_projection']\n",
    "    file['FantasyFuelValueProj'] = file['value_projection']\n",
    "    file['DFN_PPGProj'] = file['Proj FP']\n",
    "    file['DFN_MinProj'] = file['Proj Min']\n",
    "    file['DFN_ValueProj'] = file['Proj Val']\n",
    "    file.drop(drop_attribs, axis=1, inplace=True)\n",
    "    #file = file.loc[file['Actual FP'] > 0]\n",
    "    return file\n",
    "\n"
   ]
  },
  {
   "cell_type": "code",
   "execution_count": 8,
   "metadata": {},
   "outputs": [],
   "source": [
    "def cleanFeatures(features): \n",
    "    features['L5_ppg_floor'].fillna(0, inplace=True)\n",
    "    features['L5_ppg_avg'].fillna(0, inplace=True)\n",
    "    features['L5_ppg_max'].fillna(0, inplace=True)\n",
    "    features['spread'].fillna(features['spread'].mean(), inplace=True)\n",
    "    features['over_under'].fillna(features['over_under'].mean(), inplace=True)\n",
    "    features['implied_team_score'].fillna(features['implied_team_score'].mean(), inplace=True)\n",
    "    features['Rest'].fillna(features['Rest'].mean(), inplace=True)\n",
    "    features['injury_status'].fillna('good', inplace=True)\n",
    "    return features\n",
    "\n",
    "def encodeFeatures(features):\n",
    "    nba_player = features['Player Name']\n",
    "    nba_injury = features['injury_status']\n",
    "    nba_team = features['team']\n",
    "    nba_opp = features['opp']\n",
    "    nba_pos = features['Pos']\n",
    "    nba_dvp = features['Opp DvP']\n",
    "    \n",
    "    nba_player_encoded, nba_player_categories = nba_player.factorize()\n",
    "    nba_injury_encoded, nba_injury_categories = nba_injury.factorize()\n",
    "    nba_team_encoded, nba_team_categories = nba_team.factorize()\n",
    "    nba_opp_encoded, nba_opp_categories = nba_opp.factorize()\n",
    "    nba_pos_encoded, nba_pos_categories = nba_pos.factorize()\n",
    "    nba_dvp_encoded, nba_dvp_categories = nba_dvp.factorize()\n",
    "    \n",
    "    features['Player Name'] = nba_player_encoded\n",
    "    features['injury_status'] = nba_injury_encoded\n",
    "    features['team'] = nba_team_encoded\n",
    "    features['opp'] = nba_opp_encoded\n",
    "    features['Pos'] = nba_pos_encoded\n",
    "    features['Opp DvP'] = nba_dvp_encoded\n",
    "    return features"
   ]
  },
  {
   "cell_type": "code",
   "execution_count": 10,
   "metadata": {},
   "outputs": [],
   "source": [
    "full_df = reduceForProjectionAnalysis(mergeAllDates())\n",
    "full_df['Avg Proj'] = ((full_df['DFN_PPGProj']+full_df['FantasyFuelPPGProj'])/2)\n",
    "full_df = full_df[full_df['injury_status'] != 'O']\n",
    "\n",
    "\n",
    "encoded_df = encodeFeatures(cleanFeatures(full_df.drop(['Actual FP', 'Selected'], axis=1))).copy()"
   ]
  },
  {
   "cell_type": "code",
   "execution_count": 11,
   "metadata": {},
   "outputs": [
    {
     "data": {
      "text/plain": [
       "(13678, 33)"
      ]
     },
     "execution_count": 11,
     "metadata": {},
     "output_type": "execute_result"
    }
   ],
   "source": [
    "encoded_df.shape"
   ]
  },
  {
   "cell_type": "code",
   "execution_count": 14,
   "metadata": {},
   "outputs": [
    {
     "data": {
      "text/plain": [
       "[<matplotlib.lines.Line2D at 0x1211259e8>]"
      ]
     },
     "execution_count": 14,
     "metadata": {},
     "output_type": "execute_result"
    },
    {
     "data": {
      "image/png": "[encoded data removed]",
      "text/plain": [
       "<Figure size 432x288 with 1 Axes>"
      ]
     },
     "metadata": {
      "needs_background": "light"
     },
     "output_type": "display_data"
    }
   ],
   "source": [
    "pca = PCA()\n",
    "pca.fit(encoded_df)\n",
    "cumsum = np.cumsum(pca.explained_variance_ratio_)\n",
    "d = np.argmax(cumsum>=.95) + 1\n",
    "\n",
    "plt.plot(cumsum)"
   ]
  },
  {
   "cell_type": "code",
   "execution_count": 15,
   "metadata": {},
   "outputs": [
    {
     "data": {
      "text/plain": [
       "1"
      ]
     },
     "execution_count": 15,
     "metadata": {},
     "output_type": "execute_result"
    }
   ],
   "source": []
  },
  {
   "cell_type": "code",
   "execution_count": null,
   "metadata": {},
   "outputs": [],
   "source": []
  },
  {
   "cell_type": "code",
   "execution_count": null,
   "metadata": {},
   "outputs": [],
   "source": []
  },
  {
   "cell_type": "code",
   "execution_count": null,
   "metadata": {},
   "outputs": [],
   "source": []
  },
  {
   "cell_type": "code",
   "execution_count": null,
   "metadata": {},
   "outputs": [],
   "source": []
  },
  {
   "cell_type": "code",
   "execution_count": null,
   "metadata": {},
   "outputs": [],
   "source": []
  },
  {
   "cell_type": "code",
   "execution_count": null,
   "metadata": {},
   "outputs": [],
   "source": []
  }
 ],
 "metadata": {
  "kernelspec": {
   "display_name": "Python 3",
   "language": "python",
   "name": "python3"
  },
  "language_info": {
   "codemirror_mode": {
    "name": "ipython",
    "version": 3
   },
   "file_extension": ".py",
   "mimetype": "text/x-python",
   "name": "python",
   "nbconvert_exporter": "python",
   "pygments_lexer": "ipython3",
   "version": "3.7.1"
  }
 },
 "nbformat": 4,
 "nbformat_minor": 4
}
